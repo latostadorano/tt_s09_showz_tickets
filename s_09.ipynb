{
 "cells": [
  {
   "cell_type": "markdown",
   "metadata": {},
   "source": [
    "# **Sprint 9 Showz analysis**"
   ]
  },
  {
   "cell_type": "markdown",
   "metadata": {},
   "source": [
    "## Paso 1. Acceda los datos y prepáralos para el análisis\n",
    "\n",
    "Almacena los datos de visitas, pedidos y gastos en variables.  Optimiza los datos para el análisis. Asegúrate de que cada columna contenga el tipo de datos correcto. \n",
    "\n",
    "\n"
   ]
  },
  {
   "cell_type": "code",
   "execution_count": 1,
   "metadata": {},
   "outputs": [
    {
     "ename": "ImportError",
     "evalue": "\n\nIMPORTANT: PLEASE READ THIS FOR ADVICE ON HOW TO SOLVE THIS ISSUE!\n\nImporting the numpy C-extensions failed. This error can happen for\nmany reasons, often due to issues with your setup or how NumPy was\ninstalled.\n\nWe have compiled some common reasons and troubleshooting tips at:\n\n    https://numpy.org/devdocs/user/troubleshooting-importerror.html\n\nPlease note and check the following:\n\n  * The Python version is: Python3.9 from \"c:\\Users\\User\\anaconda3\\python.exe\"\n  * The NumPy version is: \"1.21.5\"\n\nand make sure that they are the versions you expect.\nPlease carefully study the documentation linked above for further help.\n\nOriginal error was: DLL load failed while importing _multiarray_umath: The specified module could not be found.\n",
     "output_type": "error",
     "traceback": [
      "\u001b[1;31m---------------------------------------------------------------------------\u001b[0m",
      "\u001b[1;31mImportError\u001b[0m                               Traceback (most recent call last)",
      "\u001b[1;32mc:\\Users\\User\\anaconda3\\lib\\site-packages\\numpy\\_core\\__init__.py\u001b[0m in \u001b[0;36m<module>\u001b[1;34m\u001b[0m\n\u001b[0;32m     22\u001b[0m \u001b[1;32mtry\u001b[0m\u001b[1;33m:\u001b[0m\u001b[1;33m\u001b[0m\u001b[1;33m\u001b[0m\u001b[0m\n\u001b[1;32m---> 23\u001b[1;33m     \u001b[1;32mfrom\u001b[0m \u001b[1;33m.\u001b[0m \u001b[1;32mimport\u001b[0m \u001b[0mmultiarray\u001b[0m\u001b[1;33m\u001b[0m\u001b[1;33m\u001b[0m\u001b[0m\n\u001b[0m\u001b[0;32m     24\u001b[0m \u001b[1;32mexcept\u001b[0m \u001b[0mImportError\u001b[0m \u001b[1;32mas\u001b[0m \u001b[0mexc\u001b[0m\u001b[1;33m:\u001b[0m\u001b[1;33m\u001b[0m\u001b[1;33m\u001b[0m\u001b[0m\n",
      "\u001b[1;32mc:\\Users\\User\\anaconda3\\lib\\site-packages\\numpy\\_core\\multiarray.py\u001b[0m in \u001b[0;36m<module>\u001b[1;34m\u001b[0m\n\u001b[0;32m      9\u001b[0m \u001b[1;32mimport\u001b[0m \u001b[0mfunctools\u001b[0m\u001b[1;33m\u001b[0m\u001b[1;33m\u001b[0m\u001b[0m\n\u001b[1;32m---> 10\u001b[1;33m \u001b[1;32mfrom\u001b[0m \u001b[1;33m.\u001b[0m \u001b[1;32mimport\u001b[0m \u001b[0moverrides\u001b[0m\u001b[1;33m\u001b[0m\u001b[1;33m\u001b[0m\u001b[0m\n\u001b[0m\u001b[0;32m     11\u001b[0m \u001b[1;32mfrom\u001b[0m \u001b[1;33m.\u001b[0m \u001b[1;32mimport\u001b[0m \u001b[0m_multiarray_umath\u001b[0m\u001b[1;33m\u001b[0m\u001b[1;33m\u001b[0m\u001b[0m\n",
      "\u001b[1;32mc:\\Users\\User\\anaconda3\\lib\\site-packages\\numpy\\_core\\overrides.py\u001b[0m in \u001b[0;36m<module>\u001b[1;34m\u001b[0m\n\u001b[0;32m      7\u001b[0m \u001b[1;32mfrom\u001b[0m \u001b[1;33m.\u001b[0m\u001b[1;33m.\u001b[0m\u001b[0m_utils\u001b[0m\u001b[1;33m.\u001b[0m\u001b[0m_inspect\u001b[0m \u001b[1;32mimport\u001b[0m \u001b[0mgetargspec\u001b[0m\u001b[1;33m\u001b[0m\u001b[1;33m\u001b[0m\u001b[0m\n\u001b[1;32m----> 8\u001b[1;33m from numpy._core._multiarray_umath import (\n\u001b[0m\u001b[0;32m      9\u001b[0m     add_docstring,  _get_implementing_args, _ArrayFunctionDispatcher)\n",
      "\u001b[1;31mImportError\u001b[0m: DLL load failed while importing _multiarray_umath: The specified module could not be found.",
      "\nDuring handling of the above exception, another exception occurred:\n",
      "\u001b[1;31mImportError\u001b[0m                               Traceback (most recent call last)",
      "\u001b[1;32mc:\\Users\\User\\anaconda3\\lib\\site-packages\\numpy\\_core\\__init__.py\u001b[0m in \u001b[0;36m<module>\u001b[1;34m\u001b[0m\n\u001b[0;32m     47\u001b[0m \"\"\" % (sys.version_info[0], sys.version_info[1], sys.executable,\n\u001b[0;32m     48\u001b[0m         __version__, exc)\n\u001b[1;32m---> 49\u001b[1;33m     \u001b[1;32mraise\u001b[0m \u001b[0mImportError\u001b[0m\u001b[1;33m(\u001b[0m\u001b[0mmsg\u001b[0m\u001b[1;33m)\u001b[0m\u001b[1;33m\u001b[0m\u001b[1;33m\u001b[0m\u001b[0m\n\u001b[0m\u001b[0;32m     50\u001b[0m \u001b[1;32mfinally\u001b[0m\u001b[1;33m:\u001b[0m\u001b[1;33m\u001b[0m\u001b[1;33m\u001b[0m\u001b[0m\n\u001b[0;32m     51\u001b[0m     \u001b[1;32mfor\u001b[0m \u001b[0menvkey\u001b[0m \u001b[1;32min\u001b[0m \u001b[0menv_added\u001b[0m\u001b[1;33m:\u001b[0m\u001b[1;33m\u001b[0m\u001b[1;33m\u001b[0m\u001b[0m\n",
      "\u001b[1;31mImportError\u001b[0m: \n\nIMPORTANT: PLEASE READ THIS FOR ADVICE ON HOW TO SOLVE THIS ISSUE!\n\nImporting the numpy C-extensions failed. This error can happen for\nmany reasons, often due to issues with your setup or how NumPy was\ninstalled.\n\nWe have compiled some common reasons and troubleshooting tips at:\n\n    https://numpy.org/devdocs/user/troubleshooting-importerror.html\n\nPlease note and check the following:\n\n  * The Python version is: Python3.9 from \"c:\\Users\\User\\anaconda3\\python.exe\"\n  * The NumPy version is: \"1.21.5\"\n\nand make sure that they are the versions you expect.\nPlease carefully study the documentation linked above for further help.\n\nOriginal error was: DLL load failed while importing _multiarray_umath: The specified module could not be found.\n"
     ]
    }
   ],
   "source": [
    "# cargar librerías\n",
    "import pandas as pd \n",
    "import numpy as np\n",
    "import re \n"
   ]
  },
  {
   "cell_type": "code",
   "execution_count": 2,
   "metadata": {},
   "outputs": [
    {
     "name": "stdout",
     "output_type": "stream",
     "text": [
      "    Device               End Ts  Source Id             Start Ts  \\\n",
      "0    touch  2017-12-20 17:38:00          4  2017-12-20 17:20:00   \n",
      "1  desktop  2018-02-19 17:21:00          2  2018-02-19 16:53:00   \n",
      "2    touch  2017-07-01 01:54:00          5  2017-07-01 01:54:00   \n",
      "3  desktop  2018-05-20 11:23:00          9  2018-05-20 10:59:00   \n",
      "4  desktop  2017-12-27 14:06:00          3  2017-12-27 14:06:00   \n",
      "\n",
      "                    Uid  \n",
      "0  16879256277535980062  \n",
      "1    104060357244891740  \n",
      "2   7459035603376831527  \n",
      "3  16174680259334210214  \n",
      "4   9969694820036681168  \n",
      "-------\n",
      "                Buy Ts  Revenue                   Uid\n",
      "0  2017-06-01 00:10:00    17.00  10329302124590727494\n",
      "1  2017-06-01 00:25:00     0.55  11627257723692907447\n",
      "2  2017-06-01 00:27:00     0.37  17903680561304213844\n",
      "3  2017-06-01 00:29:00     0.55  16109239769442553005\n",
      "4  2017-06-01 07:58:00     0.37  14200605875248379450\n",
      "-------\n",
      "   source_id          dt  costs\n",
      "0          1  2017-06-01  75.20\n",
      "1          1  2017-06-02  62.25\n",
      "2          1  2017-06-03  36.53\n",
      "3          1  2017-06-04  55.00\n",
      "4          1  2017-06-05  57.08\n",
      "-------\n"
     ]
    }
   ],
   "source": [
    "# importar datos\n",
    "visits = pd.read_csv('https://code.s3.yandex.net/datasets/visits_log_us.csv')\n",
    "print(visits.head())\n",
    "print('-------')\n",
    "orders = pd.read_csv('https://code.s3.yandex.net/datasets/orders_log_us.csv')\n",
    "print(orders.head())\n",
    "print('-------')\n",
    "costs = pd.read_csv('https://code.s3.yandex.net/datasets/costs_us.csv')\n",
    "print(costs.head())\n",
    "print('-------')"
   ]
  },
  {
   "cell_type": "markdown",
   "metadata": {},
   "source": [
    "### Examinar visits"
   ]
  },
  {
   "cell_type": "code",
   "execution_count": 3,
   "metadata": {},
   "outputs": [
    {
     "name": "stdout",
     "output_type": "stream",
     "text": [
      "<class 'pandas.core.frame.DataFrame'>\n",
      "RangeIndex: 359400 entries, 0 to 359399\n",
      "Data columns (total 5 columns):\n",
      " #   Column     Non-Null Count   Dtype \n",
      "---  ------     --------------   ----- \n",
      " 0   Device     359400 non-null  object\n",
      " 1   End Ts     359400 non-null  object\n",
      " 2   Source Id  359400 non-null  int64 \n",
      " 3   Start Ts   359400 non-null  object\n",
      " 4   Uid        359400 non-null  uint64\n",
      "dtypes: int64(1), object(3), uint64(1)\n",
      "memory usage: 13.7+ MB\n"
     ]
    }
   ],
   "source": [
    "# Examine visits\n",
    "visits.info()"
   ]
  },
  {
   "cell_type": "code",
   "execution_count": 4,
   "metadata": {},
   "outputs": [
    {
     "data": {
      "text/plain": [
       "desktop    262567\n",
       "touch       96833\n",
       "Name: Device, dtype: int64"
      ]
     },
     "execution_count": 4,
     "metadata": {},
     "output_type": "execute_result"
    }
   ],
   "source": [
    "visits['Device'].value_counts()"
   ]
  },
  {
   "cell_type": "code",
   "execution_count": 5,
   "metadata": {},
   "outputs": [
    {
     "data": {
      "text/plain": [
       "4     101794\n",
       "3      85610\n",
       "5      66905\n",
       "2      47626\n",
       "1      34121\n",
       "9      13277\n",
       "10     10025\n",
       "7         36\n",
       "6          6\n",
       "Name: Source Id, dtype: int64"
      ]
     },
     "execution_count": 5,
     "metadata": {},
     "output_type": "execute_result"
    }
   ],
   "source": [
    "visits['Source Id'].value_counts()"
   ]
  },
  {
   "cell_type": "markdown",
   "metadata": {},
   "source": [
    "### Limpiar visits\n",
    "1. Columnas a minúsculas\n",
    "2. End Ts y Start Ts a formato fecha"
   ]
  },
  {
   "cell_type": "code",
   "execution_count": 6,
   "metadata": {},
   "outputs": [],
   "source": [
    "# Función para limpiar columnas\n",
    "def clean_col_names(df):\n",
    "    df = df.copy()\n",
    "    df.columns = [\n",
    "        re.sub(r'\\W+', '_', col).strip('_').lower()\n",
    "        for col in df.columns\n",
    "    ]\n",
    "    return df\n"
   ]
  },
  {
   "cell_type": "code",
   "execution_count": 7,
   "metadata": {},
   "outputs": [
    {
     "data": {
      "application/vnd.microsoft.datawrangler.viewer.v0+json": {
       "columns": [
        {
         "name": "index",
         "rawType": "int64",
         "type": "integer"
        },
        {
         "name": "device",
         "rawType": "object",
         "type": "string"
        },
        {
         "name": "end_ts",
         "rawType": "object",
         "type": "string"
        },
        {
         "name": "source_id",
         "rawType": "int64",
         "type": "integer"
        },
        {
         "name": "start_ts",
         "rawType": "object",
         "type": "string"
        },
        {
         "name": "uid",
         "rawType": "uint64",
         "type": "integer"
        }
       ],
       "conversionMethod": "pd.DataFrame",
       "ref": "27a917af-77cd-432f-a480-92719cdcac24",
       "rows": [
        [
         "0",
         "touch",
         "2017-12-20 17:38:00",
         "4",
         "2017-12-20 17:20:00",
         "16879256277535980062"
        ],
        [
         "1",
         "desktop",
         "2018-02-19 17:21:00",
         "2",
         "2018-02-19 16:53:00",
         "104060357244891740"
        ],
        [
         "2",
         "touch",
         "2017-07-01 01:54:00",
         "5",
         "2017-07-01 01:54:00",
         "7459035603376831527"
        ],
        [
         "3",
         "desktop",
         "2018-05-20 11:23:00",
         "9",
         "2018-05-20 10:59:00",
         "16174680259334210214"
        ],
        [
         "4",
         "desktop",
         "2017-12-27 14:06:00",
         "3",
         "2017-12-27 14:06:00",
         "9969694820036681168"
        ],
        [
         "5",
         "desktop",
         "2017-09-03 21:36:00",
         "5",
         "2017-09-03 21:35:00",
         "16007536194108375387"
        ],
        [
         "6",
         "desktop",
         "2018-01-30 12:09:00",
         "1",
         "2018-01-30 11:13:00",
         "6661610529277171451"
        ],
        [
         "7",
         "touch",
         "2017-11-05 15:15:00",
         "3",
         "2017-11-05 15:14:00",
         "11423865690854540312"
        ],
        [
         "8",
         "desktop",
         "2017-07-19 10:44:00",
         "3",
         "2017-07-19 10:41:00",
         "2987360259350925644"
        ],
        [
         "9",
         "desktop",
         "2017-11-08 13:43:00",
         "5",
         "2017-11-08 13:42:00",
         "1289240080042562063"
        ],
        [
         "10",
         "desktop",
         "2017-07-14 12:44:00",
         "5",
         "2017-07-14 12:43:00",
         "14879997728223227242"
        ],
        [
         "11",
         "desktop",
         "2018-01-25 19:41:00",
         "1",
         "2018-01-25 19:37:00",
         "7478054213403174082"
        ],
        [
         "12",
         "desktop",
         "2018-02-06 15:50:00",
         "4",
         "2018-02-06 15:45:00",
         "8056418121947262981"
        ],
        [
         "13",
         "desktop",
         "2017-11-27 14:43:00",
         "3",
         "2017-11-27 14:42:00",
         "1989613820989570316"
        ],
        [
         "14",
         "touch",
         "2018-04-23 18:01:00",
         "9",
         "2018-04-23 18:00:00",
         "18026419100367255411"
        ],
        [
         "15",
         "touch",
         "2018-02-12 20:30:00",
         "2",
         "2018-02-12 19:24:00",
         "18188358787673499603"
        ],
        [
         "16",
         "desktop",
         "2018-05-14 08:45:00",
         "5",
         "2018-05-14 08:39:00",
         "13958332529722257330"
        ],
        [
         "17",
         "desktop",
         "2018-05-30 08:51:00",
         "5",
         "2018-05-30 08:49:00",
         "7415904268540941371"
        ],
        [
         "18",
         "desktop",
         "2018-04-05 16:35:00",
         "10",
         "2018-04-05 16:28:00",
         "17023906935283809754"
        ],
        [
         "19",
         "desktop",
         "2018-05-17 19:26:00",
         "2",
         "2018-05-17 18:10:00",
         "14243397340327062268"
        ],
        [
         "20",
         "touch",
         "2018-01-16 19:04:00",
         "3",
         "2018-01-16 18:56:00",
         "3290526361933478358"
        ],
        [
         "21",
         "touch",
         "2017-11-01 00:23:00",
         "3",
         "2017-11-01 00:16:00",
         "9772781220677269425"
        ],
        [
         "22",
         "desktop",
         "2017-06-21 15:01:00",
         "5",
         "2017-06-21 14:31:00",
         "10245950763288728156"
        ],
        [
         "23",
         "touch",
         "2017-12-26 17:35:00",
         "4",
         "2017-12-26 17:30:00",
         "11451610027598174149"
        ],
        [
         "24",
         "desktop",
         "2018-02-01 15:38:00",
         "4",
         "2018-02-01 15:11:00",
         "12375289438043468944"
        ],
        [
         "25",
         "desktop",
         "2017-12-05 10:28:00",
         "4",
         "2017-12-05 10:21:00",
         "2307401184189569202"
        ],
        [
         "26",
         "desktop",
         "2018-03-22 09:50:00",
         "5",
         "2018-03-22 09:47:00",
         "920985734427329716"
        ],
        [
         "27",
         "desktop",
         "2017-10-23 12:58:00",
         "3",
         "2017-10-23 12:49:00",
         "4499746016005494365"
        ],
        [
         "28",
         "desktop",
         "2017-11-09 15:53:00",
         "4",
         "2017-11-09 15:53:00",
         "17892541477379911957"
        ],
        [
         "29",
         "desktop",
         "2018-01-22 12:31:00",
         "4",
         "2018-01-22 12:19:00",
         "18126128709986695755"
        ],
        [
         "30",
         "desktop",
         "2018-04-05 09:27:00",
         "2",
         "2018-04-05 09:24:00",
         "2655976123871714644"
        ],
        [
         "31",
         "desktop",
         "2017-10-10 22:54:00",
         "4",
         "2017-10-10 22:43:00",
         "10160380139945840521"
        ],
        [
         "32",
         "desktop",
         "2017-11-30 12:29:00",
         "4",
         "2017-11-30 12:29:00",
         "13410401624913285510"
        ],
        [
         "33",
         "desktop",
         "2018-02-24 18:57:00",
         "4",
         "2018-02-24 18:56:00",
         "11265166683832042552"
        ],
        [
         "34",
         "touch",
         "2017-09-09 05:20:00",
         "3",
         "2017-09-09 05:17:00",
         "16458761471338263014"
        ],
        [
         "35",
         "touch",
         "2018-03-13 11:15:00",
         "3",
         "2018-03-13 11:13:00",
         "16790137079617451989"
        ],
        [
         "36",
         "desktop",
         "2017-12-28 15:46:00",
         "4",
         "2017-12-28 15:24:00",
         "63137637277926835"
        ],
        [
         "37",
         "desktop",
         "2018-03-12 23:25:00",
         "3",
         "2018-03-12 23:13:00",
         "15857957287537270437"
        ],
        [
         "38",
         "touch",
         "2018-03-01 08:45:00",
         "4",
         "2018-03-01 08:43:00",
         "15763368622958393183"
        ],
        [
         "39",
         "desktop",
         "2018-02-22 15:53:00",
         "4",
         "2018-02-22 15:52:00",
         "10948816312255660249"
        ],
        [
         "40",
         "desktop",
         "2017-10-07 11:14:00",
         "5",
         "2017-10-07 11:08:00",
         "14594305127324426841"
        ],
        [
         "41",
         "touch",
         "2017-06-30 12:39:00",
         "3",
         "2017-06-30 12:38:00",
         "5743775802146959648"
        ],
        [
         "42",
         "desktop",
         "2018-02-02 08:16:00",
         "4",
         "2018-02-02 08:13:00",
         "10490362059508326080"
        ],
        [
         "43",
         "touch",
         "2018-03-27 17:52:00",
         "5",
         "2018-03-27 17:32:00",
         "15868686231870595097"
        ],
        [
         "44",
         "desktop",
         "2017-12-26 14:39:00",
         "9",
         "2017-12-26 14:00:00",
         "9419370217043167984"
        ],
        [
         "45",
         "touch",
         "2017-10-20 19:53:00",
         "4",
         "2017-10-20 19:41:00",
         "10814990248264229077"
        ],
        [
         "46",
         "desktop",
         "2017-08-03 12:16:00",
         "9",
         "2017-08-03 11:37:00",
         "11050568151857813627"
        ],
        [
         "47",
         "desktop",
         "2018-03-12 13:28:00",
         "4",
         "2018-03-12 13:22:00",
         "14265925441689950884"
        ],
        [
         "48",
         "desktop",
         "2018-03-21 21:28:00",
         "4",
         "2018-03-21 21:26:00",
         "8103967464520460149"
        ],
        [
         "49",
         "desktop",
         "2017-07-16 19:43:00",
         "4",
         "2017-07-16 19:42:00",
         "14902377505012236878"
        ]
       ],
       "shape": {
        "columns": 5,
        "rows": 359400
       }
      },
      "text/html": [
       "<div>\n",
       "<style scoped>\n",
       "    .dataframe tbody tr th:only-of-type {\n",
       "        vertical-align: middle;\n",
       "    }\n",
       "\n",
       "    .dataframe tbody tr th {\n",
       "        vertical-align: top;\n",
       "    }\n",
       "\n",
       "    .dataframe thead th {\n",
       "        text-align: right;\n",
       "    }\n",
       "</style>\n",
       "<table border=\"1\" class=\"dataframe\">\n",
       "  <thead>\n",
       "    <tr style=\"text-align: right;\">\n",
       "      <th></th>\n",
       "      <th>device</th>\n",
       "      <th>end_ts</th>\n",
       "      <th>source_id</th>\n",
       "      <th>start_ts</th>\n",
       "      <th>uid</th>\n",
       "    </tr>\n",
       "  </thead>\n",
       "  <tbody>\n",
       "    <tr>\n",
       "      <th>0</th>\n",
       "      <td>touch</td>\n",
       "      <td>2017-12-20 17:38:00</td>\n",
       "      <td>4</td>\n",
       "      <td>2017-12-20 17:20:00</td>\n",
       "      <td>16879256277535980062</td>\n",
       "    </tr>\n",
       "    <tr>\n",
       "      <th>1</th>\n",
       "      <td>desktop</td>\n",
       "      <td>2018-02-19 17:21:00</td>\n",
       "      <td>2</td>\n",
       "      <td>2018-02-19 16:53:00</td>\n",
       "      <td>104060357244891740</td>\n",
       "    </tr>\n",
       "    <tr>\n",
       "      <th>2</th>\n",
       "      <td>touch</td>\n",
       "      <td>2017-07-01 01:54:00</td>\n",
       "      <td>5</td>\n",
       "      <td>2017-07-01 01:54:00</td>\n",
       "      <td>7459035603376831527</td>\n",
       "    </tr>\n",
       "    <tr>\n",
       "      <th>3</th>\n",
       "      <td>desktop</td>\n",
       "      <td>2018-05-20 11:23:00</td>\n",
       "      <td>9</td>\n",
       "      <td>2018-05-20 10:59:00</td>\n",
       "      <td>16174680259334210214</td>\n",
       "    </tr>\n",
       "    <tr>\n",
       "      <th>4</th>\n",
       "      <td>desktop</td>\n",
       "      <td>2017-12-27 14:06:00</td>\n",
       "      <td>3</td>\n",
       "      <td>2017-12-27 14:06:00</td>\n",
       "      <td>9969694820036681168</td>\n",
       "    </tr>\n",
       "    <tr>\n",
       "      <th>...</th>\n",
       "      <td>...</td>\n",
       "      <td>...</td>\n",
       "      <td>...</td>\n",
       "      <td>...</td>\n",
       "      <td>...</td>\n",
       "    </tr>\n",
       "    <tr>\n",
       "      <th>359395</th>\n",
       "      <td>desktop</td>\n",
       "      <td>2017-07-29 19:07:19</td>\n",
       "      <td>2</td>\n",
       "      <td>2017-07-29 19:07:00</td>\n",
       "      <td>18363291481961487539</td>\n",
       "    </tr>\n",
       "    <tr>\n",
       "      <th>359396</th>\n",
       "      <td>touch</td>\n",
       "      <td>2018-01-25 17:38:19</td>\n",
       "      <td>1</td>\n",
       "      <td>2018-01-25 17:38:00</td>\n",
       "      <td>18370831553019119586</td>\n",
       "    </tr>\n",
       "    <tr>\n",
       "      <th>359397</th>\n",
       "      <td>desktop</td>\n",
       "      <td>2018-03-03 10:12:19</td>\n",
       "      <td>4</td>\n",
       "      <td>2018-03-03 10:12:00</td>\n",
       "      <td>18387297585500748294</td>\n",
       "    </tr>\n",
       "    <tr>\n",
       "      <th>359398</th>\n",
       "      <td>desktop</td>\n",
       "      <td>2017-11-02 10:12:19</td>\n",
       "      <td>5</td>\n",
       "      <td>2017-11-02 10:12:00</td>\n",
       "      <td>18388616944624776485</td>\n",
       "    </tr>\n",
       "    <tr>\n",
       "      <th>359399</th>\n",
       "      <td>touch</td>\n",
       "      <td>2017-09-10 13:13:19</td>\n",
       "      <td>2</td>\n",
       "      <td>2017-09-10 13:13:00</td>\n",
       "      <td>18396128934054549559</td>\n",
       "    </tr>\n",
       "  </tbody>\n",
       "</table>\n",
       "<p>359400 rows × 5 columns</p>\n",
       "</div>"
      ],
      "text/plain": [
       "         device               end_ts  source_id             start_ts  \\\n",
       "0         touch  2017-12-20 17:38:00          4  2017-12-20 17:20:00   \n",
       "1       desktop  2018-02-19 17:21:00          2  2018-02-19 16:53:00   \n",
       "2         touch  2017-07-01 01:54:00          5  2017-07-01 01:54:00   \n",
       "3       desktop  2018-05-20 11:23:00          9  2018-05-20 10:59:00   \n",
       "4       desktop  2017-12-27 14:06:00          3  2017-12-27 14:06:00   \n",
       "...         ...                  ...        ...                  ...   \n",
       "359395  desktop  2017-07-29 19:07:19          2  2017-07-29 19:07:00   \n",
       "359396    touch  2018-01-25 17:38:19          1  2018-01-25 17:38:00   \n",
       "359397  desktop  2018-03-03 10:12:19          4  2018-03-03 10:12:00   \n",
       "359398  desktop  2017-11-02 10:12:19          5  2017-11-02 10:12:00   \n",
       "359399    touch  2017-09-10 13:13:19          2  2017-09-10 13:13:00   \n",
       "\n",
       "                         uid  \n",
       "0       16879256277535980062  \n",
       "1         104060357244891740  \n",
       "2        7459035603376831527  \n",
       "3       16174680259334210214  \n",
       "4        9969694820036681168  \n",
       "...                      ...  \n",
       "359395  18363291481961487539  \n",
       "359396  18370831553019119586  \n",
       "359397  18387297585500748294  \n",
       "359398  18388616944624776485  \n",
       "359399  18396128934054549559  \n",
       "\n",
       "[359400 rows x 5 columns]"
      ]
     },
     "execution_count": 7,
     "metadata": {},
     "output_type": "execute_result"
    }
   ],
   "source": [
    "# Limpiar visits.columns\n",
    "visits = clean_col_names(visits)\n",
    "visits"
   ]
  },
  {
   "cell_type": "code",
   "execution_count": 8,
   "metadata": {},
   "outputs": [
    {
     "name": "stdout",
     "output_type": "stream",
     "text": [
      "<class 'pandas.core.frame.DataFrame'>\n",
      "RangeIndex: 359400 entries, 0 to 359399\n",
      "Data columns (total 5 columns):\n",
      " #   Column     Non-Null Count   Dtype         \n",
      "---  ------     --------------   -----         \n",
      " 0   device     359400 non-null  object        \n",
      " 1   end_ts     359400 non-null  datetime64[ns]\n",
      " 2   source_id  359400 non-null  int64         \n",
      " 3   start_ts   359400 non-null  datetime64[ns]\n",
      " 4   uid        359400 non-null  uint64        \n",
      "dtypes: datetime64[ns](2), int64(1), object(1), uint64(1)\n",
      "memory usage: 13.7+ MB\n",
      "None\n"
     ]
    }
   ],
   "source": [
    "# Cambiar end_ts y start_ts a formato fecha\n",
    "visits.end_ts = pd.to_datetime(visits['end_ts'])\n",
    "visits.start_ts = pd.to_datetime(visits['start_ts'])\n",
    "print(visits.info())"
   ]
  },
  {
   "cell_type": "code",
   "execution_count": 9,
   "metadata": {},
   "outputs": [
    {
     "data": {
      "application/vnd.microsoft.datawrangler.viewer.v0+json": {
       "columns": [
        {
         "name": "index",
         "rawType": "int64",
         "type": "integer"
        },
        {
         "name": "device",
         "rawType": "object",
         "type": "string"
        },
        {
         "name": "end_ts",
         "rawType": "datetime64[ns]",
         "type": "datetime"
        },
        {
         "name": "source_id",
         "rawType": "int64",
         "type": "integer"
        },
        {
         "name": "start_ts",
         "rawType": "datetime64[ns]",
         "type": "datetime"
        },
        {
         "name": "uid",
         "rawType": "uint64",
         "type": "integer"
        }
       ],
       "conversionMethod": "pd.DataFrame",
       "ref": "0fdec918-4258-4a04-9429-f143e18a387f",
       "rows": [
        [
         "141670",
         "desktop",
         "2017-10-13 10:48:00",
         "4",
         "2017-10-13 10:33:00",
         "9681563515250250626"
        ],
        [
         "91451",
         "touch",
         "2018-04-17 11:02:00",
         "5",
         "2018-04-17 11:01:00",
         "12668075378463398151"
        ],
        [
         "129335",
         "touch",
         "2018-02-04 15:20:00",
         "2",
         "2018-02-04 15:09:00",
         "1694650413275284768"
        ],
        [
         "50720",
         "desktop",
         "2017-09-02 22:00:00",
         "1",
         "2017-09-02 22:00:00",
         "8484004191928026768"
        ],
        [
         "3754",
         "touch",
         "2017-07-07 12:08:00",
         "2",
         "2017-07-07 12:08:00",
         "12382403528482784542"
        ],
        [
         "343270",
         "touch",
         "2017-11-16 13:52:00",
         "2",
         "2017-11-16 13:51:00",
         "18138934853600651832"
        ],
        [
         "241486",
         "desktop",
         "2018-02-27 09:21:00",
         "3",
         "2018-02-27 09:00:00",
         "4031761162211849474"
        ],
        [
         "214330",
         "desktop",
         "2018-02-06 11:48:00",
         "2",
         "2018-02-06 11:05:00",
         "993737939105958023"
        ],
        [
         "245490",
         "desktop",
         "2018-04-28 19:06:00",
         "5",
         "2018-04-28 19:06:00",
         "6853820180456171909"
        ],
        [
         "26501",
         "desktop",
         "2017-10-04 12:54:00",
         "9",
         "2017-10-04 12:46:00",
         "8037505365575406903"
        ]
       ],
       "shape": {
        "columns": 5,
        "rows": 10
       }
      },
      "text/html": [
       "<div>\n",
       "<style scoped>\n",
       "    .dataframe tbody tr th:only-of-type {\n",
       "        vertical-align: middle;\n",
       "    }\n",
       "\n",
       "    .dataframe tbody tr th {\n",
       "        vertical-align: top;\n",
       "    }\n",
       "\n",
       "    .dataframe thead th {\n",
       "        text-align: right;\n",
       "    }\n",
       "</style>\n",
       "<table border=\"1\" class=\"dataframe\">\n",
       "  <thead>\n",
       "    <tr style=\"text-align: right;\">\n",
       "      <th></th>\n",
       "      <th>device</th>\n",
       "      <th>end_ts</th>\n",
       "      <th>source_id</th>\n",
       "      <th>start_ts</th>\n",
       "      <th>uid</th>\n",
       "    </tr>\n",
       "  </thead>\n",
       "  <tbody>\n",
       "    <tr>\n",
       "      <th>141670</th>\n",
       "      <td>desktop</td>\n",
       "      <td>2017-10-13 10:48:00</td>\n",
       "      <td>4</td>\n",
       "      <td>2017-10-13 10:33:00</td>\n",
       "      <td>9681563515250250626</td>\n",
       "    </tr>\n",
       "    <tr>\n",
       "      <th>91451</th>\n",
       "      <td>touch</td>\n",
       "      <td>2018-04-17 11:02:00</td>\n",
       "      <td>5</td>\n",
       "      <td>2018-04-17 11:01:00</td>\n",
       "      <td>12668075378463398151</td>\n",
       "    </tr>\n",
       "    <tr>\n",
       "      <th>129335</th>\n",
       "      <td>touch</td>\n",
       "      <td>2018-02-04 15:20:00</td>\n",
       "      <td>2</td>\n",
       "      <td>2018-02-04 15:09:00</td>\n",
       "      <td>1694650413275284768</td>\n",
       "    </tr>\n",
       "    <tr>\n",
       "      <th>50720</th>\n",
       "      <td>desktop</td>\n",
       "      <td>2017-09-02 22:00:00</td>\n",
       "      <td>1</td>\n",
       "      <td>2017-09-02 22:00:00</td>\n",
       "      <td>8484004191928026768</td>\n",
       "    </tr>\n",
       "    <tr>\n",
       "      <th>3754</th>\n",
       "      <td>touch</td>\n",
       "      <td>2017-07-07 12:08:00</td>\n",
       "      <td>2</td>\n",
       "      <td>2017-07-07 12:08:00</td>\n",
       "      <td>12382403528482784542</td>\n",
       "    </tr>\n",
       "    <tr>\n",
       "      <th>343270</th>\n",
       "      <td>touch</td>\n",
       "      <td>2017-11-16 13:52:00</td>\n",
       "      <td>2</td>\n",
       "      <td>2017-11-16 13:51:00</td>\n",
       "      <td>18138934853600651832</td>\n",
       "    </tr>\n",
       "    <tr>\n",
       "      <th>241486</th>\n",
       "      <td>desktop</td>\n",
       "      <td>2018-02-27 09:21:00</td>\n",
       "      <td>3</td>\n",
       "      <td>2018-02-27 09:00:00</td>\n",
       "      <td>4031761162211849474</td>\n",
       "    </tr>\n",
       "    <tr>\n",
       "      <th>214330</th>\n",
       "      <td>desktop</td>\n",
       "      <td>2018-02-06 11:48:00</td>\n",
       "      <td>2</td>\n",
       "      <td>2018-02-06 11:05:00</td>\n",
       "      <td>993737939105958023</td>\n",
       "    </tr>\n",
       "    <tr>\n",
       "      <th>245490</th>\n",
       "      <td>desktop</td>\n",
       "      <td>2018-04-28 19:06:00</td>\n",
       "      <td>5</td>\n",
       "      <td>2018-04-28 19:06:00</td>\n",
       "      <td>6853820180456171909</td>\n",
       "    </tr>\n",
       "    <tr>\n",
       "      <th>26501</th>\n",
       "      <td>desktop</td>\n",
       "      <td>2017-10-04 12:54:00</td>\n",
       "      <td>9</td>\n",
       "      <td>2017-10-04 12:46:00</td>\n",
       "      <td>8037505365575406903</td>\n",
       "    </tr>\n",
       "  </tbody>\n",
       "</table>\n",
       "</div>"
      ],
      "text/plain": [
       "         device              end_ts  source_id            start_ts  \\\n",
       "141670  desktop 2017-10-13 10:48:00          4 2017-10-13 10:33:00   \n",
       "91451     touch 2018-04-17 11:02:00          5 2018-04-17 11:01:00   \n",
       "129335    touch 2018-02-04 15:20:00          2 2018-02-04 15:09:00   \n",
       "50720   desktop 2017-09-02 22:00:00          1 2017-09-02 22:00:00   \n",
       "3754      touch 2017-07-07 12:08:00          2 2017-07-07 12:08:00   \n",
       "343270    touch 2017-11-16 13:52:00          2 2017-11-16 13:51:00   \n",
       "241486  desktop 2018-02-27 09:21:00          3 2018-02-27 09:00:00   \n",
       "214330  desktop 2018-02-06 11:48:00          2 2018-02-06 11:05:00   \n",
       "245490  desktop 2018-04-28 19:06:00          5 2018-04-28 19:06:00   \n",
       "26501   desktop 2017-10-04 12:54:00          9 2017-10-04 12:46:00   \n",
       "\n",
       "                         uid  \n",
       "141670   9681563515250250626  \n",
       "91451   12668075378463398151  \n",
       "129335   1694650413275284768  \n",
       "50720    8484004191928026768  \n",
       "3754    12382403528482784542  \n",
       "343270  18138934853600651832  \n",
       "241486   4031761162211849474  \n",
       "214330    993737939105958023  \n",
       "245490   6853820180456171909  \n",
       "26501    8037505365575406903  "
      ]
     },
     "execution_count": 9,
     "metadata": {},
     "output_type": "execute_result"
    }
   ],
   "source": [
    "visits.sample(10)"
   ]
  },
  {
   "cell_type": "markdown",
   "metadata": {},
   "source": [
    "### Examinar orders"
   ]
  },
  {
   "cell_type": "code",
   "execution_count": 10,
   "metadata": {},
   "outputs": [
    {
     "name": "stdout",
     "output_type": "stream",
     "text": [
      "<class 'pandas.core.frame.DataFrame'>\n",
      "RangeIndex: 50415 entries, 0 to 50414\n",
      "Data columns (total 3 columns):\n",
      " #   Column   Non-Null Count  Dtype  \n",
      "---  ------   --------------  -----  \n",
      " 0   Buy Ts   50415 non-null  object \n",
      " 1   Revenue  50415 non-null  float64\n",
      " 2   Uid      50415 non-null  uint64 \n",
      "dtypes: float64(1), object(1), uint64(1)\n",
      "memory usage: 1.2+ MB\n"
     ]
    }
   ],
   "source": [
    "# Examine orders\n",
    "orders.info()"
   ]
  },
  {
   "cell_type": "code",
   "execution_count": 11,
   "metadata": {},
   "outputs": [
    {
     "data": {
      "text/plain": [
       "count    50415.000000\n",
       "mean         4.999647\n",
       "std         21.818359\n",
       "min          0.000000\n",
       "25%          1.220000\n",
       "50%          2.500000\n",
       "75%          4.890000\n",
       "max       2633.280000\n",
       "Name: Revenue, dtype: float64"
      ]
     },
     "execution_count": 11,
     "metadata": {},
     "output_type": "execute_result"
    }
   ],
   "source": [
    "orders['Revenue'].describe()"
   ]
  },
  {
   "cell_type": "code",
   "execution_count": 12,
   "metadata": {},
   "outputs": [
    {
     "data": {
      "application/vnd.microsoft.datawrangler.viewer.v0+json": {
       "columns": [
        {
         "name": "index",
         "rawType": "int64",
         "type": "integer"
        },
        {
         "name": "Buy Ts",
         "rawType": "object",
         "type": "string"
        },
        {
         "name": "Revenue",
         "rawType": "float64",
         "type": "float"
        },
        {
         "name": "Uid",
         "rawType": "uint64",
         "type": "integer"
        }
       ],
       "conversionMethod": "pd.DataFrame",
       "ref": "050aa09c-5d4b-4306-862f-4a044d828f39",
       "rows": [
        [
         "23165",
         "2017-12-10 13:04:00",
         "1195.64",
         "5539673724080479777"
        ],
        [
         "23244",
         "2017-12-10 20:17:00",
         "2633.28",
         "5539673724080479777"
        ],
        [
         "24607",
         "2017-12-17 18:06:00",
         "1109.1",
         "11149926373378902217"
        ],
        [
         "36522",
         "2018-02-23 08:54:00",
         "1236.28",
         "11149926373378902217"
        ],
        [
         "36682",
         "2018-02-24 09:25:00",
         "1221.37",
         "11149926373378902217"
        ],
        [
         "40386",
         "2018-03-18 09:13:00",
         "1073.11",
         "11149926373378902217"
        ],
        [
         "47507",
         "2018-05-16 19:53:00",
         "1080.44",
         "11149926373378902217"
        ]
       ],
       "shape": {
        "columns": 3,
        "rows": 7
       }
      },
      "text/html": [
       "<div>\n",
       "<style scoped>\n",
       "    .dataframe tbody tr th:only-of-type {\n",
       "        vertical-align: middle;\n",
       "    }\n",
       "\n",
       "    .dataframe tbody tr th {\n",
       "        vertical-align: top;\n",
       "    }\n",
       "\n",
       "    .dataframe thead th {\n",
       "        text-align: right;\n",
       "    }\n",
       "</style>\n",
       "<table border=\"1\" class=\"dataframe\">\n",
       "  <thead>\n",
       "    <tr style=\"text-align: right;\">\n",
       "      <th></th>\n",
       "      <th>Buy Ts</th>\n",
       "      <th>Revenue</th>\n",
       "      <th>Uid</th>\n",
       "    </tr>\n",
       "  </thead>\n",
       "  <tbody>\n",
       "    <tr>\n",
       "      <th>23165</th>\n",
       "      <td>2017-12-10 13:04:00</td>\n",
       "      <td>1195.64</td>\n",
       "      <td>5539673724080479777</td>\n",
       "    </tr>\n",
       "    <tr>\n",
       "      <th>23244</th>\n",
       "      <td>2017-12-10 20:17:00</td>\n",
       "      <td>2633.28</td>\n",
       "      <td>5539673724080479777</td>\n",
       "    </tr>\n",
       "    <tr>\n",
       "      <th>24607</th>\n",
       "      <td>2017-12-17 18:06:00</td>\n",
       "      <td>1109.10</td>\n",
       "      <td>11149926373378902217</td>\n",
       "    </tr>\n",
       "    <tr>\n",
       "      <th>36522</th>\n",
       "      <td>2018-02-23 08:54:00</td>\n",
       "      <td>1236.28</td>\n",
       "      <td>11149926373378902217</td>\n",
       "    </tr>\n",
       "    <tr>\n",
       "      <th>36682</th>\n",
       "      <td>2018-02-24 09:25:00</td>\n",
       "      <td>1221.37</td>\n",
       "      <td>11149926373378902217</td>\n",
       "    </tr>\n",
       "    <tr>\n",
       "      <th>40386</th>\n",
       "      <td>2018-03-18 09:13:00</td>\n",
       "      <td>1073.11</td>\n",
       "      <td>11149926373378902217</td>\n",
       "    </tr>\n",
       "    <tr>\n",
       "      <th>47507</th>\n",
       "      <td>2018-05-16 19:53:00</td>\n",
       "      <td>1080.44</td>\n",
       "      <td>11149926373378902217</td>\n",
       "    </tr>\n",
       "  </tbody>\n",
       "</table>\n",
       "</div>"
      ],
      "text/plain": [
       "                    Buy Ts  Revenue                   Uid\n",
       "23165  2017-12-10 13:04:00  1195.64   5539673724080479777\n",
       "23244  2017-12-10 20:17:00  2633.28   5539673724080479777\n",
       "24607  2017-12-17 18:06:00  1109.10  11149926373378902217\n",
       "36522  2018-02-23 08:54:00  1236.28  11149926373378902217\n",
       "36682  2018-02-24 09:25:00  1221.37  11149926373378902217\n",
       "40386  2018-03-18 09:13:00  1073.11  11149926373378902217\n",
       "47507  2018-05-16 19:53:00  1080.44  11149926373378902217"
      ]
     },
     "execution_count": 12,
     "metadata": {},
     "output_type": "execute_result"
    }
   ],
   "source": [
    "orders[orders.Revenue > 1000]"
   ]
  },
  {
   "cell_type": "markdown",
   "metadata": {},
   "source": [
    "### Limpiar orders\n",
    "\n",
    "1. limpiar nombres de columnas\n",
    "2. 'Buy Ts' a formato fecha"
   ]
  },
  {
   "cell_type": "code",
   "execution_count": 13,
   "metadata": {},
   "outputs": [
    {
     "name": "stdout",
     "output_type": "stream",
     "text": [
      "<class 'pandas.core.frame.DataFrame'>\n",
      "RangeIndex: 50415 entries, 0 to 50414\n",
      "Data columns (total 3 columns):\n",
      " #   Column   Non-Null Count  Dtype         \n",
      "---  ------   --------------  -----         \n",
      " 0   buy_ts   50415 non-null  datetime64[ns]\n",
      " 1   revenue  50415 non-null  float64       \n",
      " 2   uid      50415 non-null  uint64        \n",
      "dtypes: datetime64[ns](1), float64(1), uint64(1)\n",
      "memory usage: 1.2 MB\n"
     ]
    }
   ],
   "source": [
    "orders = clean_col_names(orders)\n",
    "orders.buy_ts = pd.to_datetime(orders.buy_ts)\n",
    "orders.info()"
   ]
  },
  {
   "cell_type": "markdown",
   "metadata": {},
   "source": [
    "### Examinar costs"
   ]
  },
  {
   "cell_type": "code",
   "execution_count": 14,
   "metadata": {},
   "outputs": [
    {
     "name": "stdout",
     "output_type": "stream",
     "text": [
      "<class 'pandas.core.frame.DataFrame'>\n",
      "RangeIndex: 2542 entries, 0 to 2541\n",
      "Data columns (total 3 columns):\n",
      " #   Column     Non-Null Count  Dtype  \n",
      "---  ------     --------------  -----  \n",
      " 0   source_id  2542 non-null   int64  \n",
      " 1   dt         2542 non-null   object \n",
      " 2   costs      2542 non-null   float64\n",
      "dtypes: float64(1), int64(1), object(1)\n",
      "memory usage: 59.7+ KB\n"
     ]
    }
   ],
   "source": [
    "# Examine costs\n",
    "costs.info()"
   ]
  },
  {
   "cell_type": "code",
   "execution_count": 15,
   "metadata": {},
   "outputs": [
    {
     "data": {
      "application/vnd.microsoft.datawrangler.viewer.v0+json": {
       "columns": [
        {
         "name": "index",
         "rawType": "int64",
         "type": "integer"
        },
        {
         "name": "source_id",
         "rawType": "int64",
         "type": "integer"
        },
        {
         "name": "dt",
         "rawType": "object",
         "type": "string"
        },
        {
         "name": "costs",
         "rawType": "float64",
         "type": "float"
        }
       ],
       "conversionMethod": "pd.DataFrame",
       "ref": "c74a03e1-d599-469d-b299-ad58f47137f8",
       "rows": [
        [
         "1504",
         "5",
         "2017-07-23",
         "52.58"
        ],
        [
         "2075",
         "9",
         "2018-02-15",
         "21.21"
        ],
        [
         "1892",
         "9",
         "2017-08-16",
         "11.82"
        ],
        [
         "1025",
         "3",
         "2018-03-27",
         "700.76"
        ],
        [
         "1043",
         "3",
         "2018-04-16",
         "203.73"
        ]
       ],
       "shape": {
        "columns": 3,
        "rows": 5
       }
      },
      "text/html": [
       "<div>\n",
       "<style scoped>\n",
       "    .dataframe tbody tr th:only-of-type {\n",
       "        vertical-align: middle;\n",
       "    }\n",
       "\n",
       "    .dataframe tbody tr th {\n",
       "        vertical-align: top;\n",
       "    }\n",
       "\n",
       "    .dataframe thead th {\n",
       "        text-align: right;\n",
       "    }\n",
       "</style>\n",
       "<table border=\"1\" class=\"dataframe\">\n",
       "  <thead>\n",
       "    <tr style=\"text-align: right;\">\n",
       "      <th></th>\n",
       "      <th>source_id</th>\n",
       "      <th>dt</th>\n",
       "      <th>costs</th>\n",
       "    </tr>\n",
       "  </thead>\n",
       "  <tbody>\n",
       "    <tr>\n",
       "      <th>1504</th>\n",
       "      <td>5</td>\n",
       "      <td>2017-07-23</td>\n",
       "      <td>52.58</td>\n",
       "    </tr>\n",
       "    <tr>\n",
       "      <th>2075</th>\n",
       "      <td>9</td>\n",
       "      <td>2018-02-15</td>\n",
       "      <td>21.21</td>\n",
       "    </tr>\n",
       "    <tr>\n",
       "      <th>1892</th>\n",
       "      <td>9</td>\n",
       "      <td>2017-08-16</td>\n",
       "      <td>11.82</td>\n",
       "    </tr>\n",
       "    <tr>\n",
       "      <th>1025</th>\n",
       "      <td>3</td>\n",
       "      <td>2018-03-27</td>\n",
       "      <td>700.76</td>\n",
       "    </tr>\n",
       "    <tr>\n",
       "      <th>1043</th>\n",
       "      <td>3</td>\n",
       "      <td>2018-04-16</td>\n",
       "      <td>203.73</td>\n",
       "    </tr>\n",
       "  </tbody>\n",
       "</table>\n",
       "</div>"
      ],
      "text/plain": [
       "      source_id          dt   costs\n",
       "1504          5  2017-07-23   52.58\n",
       "2075          9  2018-02-15   21.21\n",
       "1892          9  2017-08-16   11.82\n",
       "1025          3  2018-03-27  700.76\n",
       "1043          3  2018-04-16  203.73"
      ]
     },
     "execution_count": 15,
     "metadata": {},
     "output_type": "execute_result"
    }
   ],
   "source": [
    "costs.sample(5)"
   ]
  },
  {
   "cell_type": "code",
   "execution_count": 16,
   "metadata": {},
   "outputs": [
    {
     "data": {
      "text/plain": [
       "5     364\n",
       "1     363\n",
       "2     363\n",
       "3     363\n",
       "4     363\n",
       "9     363\n",
       "10    363\n",
       "Name: source_id, dtype: int64"
      ]
     },
     "execution_count": 16,
     "metadata": {},
     "output_type": "execute_result"
    }
   ],
   "source": [
    "costs.source_id.value_counts()"
   ]
  },
  {
   "cell_type": "markdown",
   "metadata": {},
   "source": [
    "### Limpiar costs\n",
    "\n",
    "1. 'dt' a formato fecha"
   ]
  },
  {
   "cell_type": "code",
   "execution_count": 17,
   "metadata": {},
   "outputs": [
    {
     "name": "stdout",
     "output_type": "stream",
     "text": [
      "<class 'pandas.core.frame.DataFrame'>\n",
      "RangeIndex: 2542 entries, 0 to 2541\n",
      "Data columns (total 3 columns):\n",
      " #   Column     Non-Null Count  Dtype         \n",
      "---  ------     --------------  -----         \n",
      " 0   source_id  2542 non-null   int64         \n",
      " 1   dt         2542 non-null   datetime64[ns]\n",
      " 2   costs      2542 non-null   float64       \n",
      "dtypes: datetime64[ns](1), float64(1), int64(1)\n",
      "memory usage: 59.7 KB\n"
     ]
    }
   ],
   "source": [
    "costs.dt = pd.to_datetime(costs.dt)\n",
    "costs.info()"
   ]
  },
  {
   "cell_type": "markdown",
   "metadata": {},
   "source": [
    "## Paso 2. Haz informes y calcula métricas "
   ]
  },
  {
   "cell_type": "markdown",
   "metadata": {},
   "source": [
    "### Visitas:\n",
    "- ¿Cuántas personas lo usan cada día, semana y mes?\n",
    "- ¿Cuántas sesiones hay por día? (Un usuario puede tener más de una sesión).\n",
    "- ¿Cuál es la duración de cada sesión?\n",
    "- ¿Con qué frecuencia los usuarios regresan?\n",
    "\n",
    "\n",
    "\n",
    "\n"
   ]
  },
  {
   "cell_type": "code",
   "execution_count": 18,
   "metadata": {},
   "outputs": [
    {
     "data": {
      "application/vnd.microsoft.datawrangler.viewer.v0+json": {
       "columns": [
        {
         "name": "index",
         "rawType": "int64",
         "type": "integer"
        },
        {
         "name": "device",
         "rawType": "object",
         "type": "string"
        },
        {
         "name": "end_ts",
         "rawType": "datetime64[ns]",
         "type": "datetime"
        },
        {
         "name": "source_id",
         "rawType": "int64",
         "type": "integer"
        },
        {
         "name": "start_ts",
         "rawType": "datetime64[ns]",
         "type": "datetime"
        },
        {
         "name": "uid",
         "rawType": "uint64",
         "type": "integer"
        },
        {
         "name": "day",
         "rawType": "int64",
         "type": "integer"
        },
        {
         "name": "week",
         "rawType": "UInt32",
         "type": "integer"
        },
        {
         "name": "month",
         "rawType": "int64",
         "type": "integer"
        },
        {
         "name": "year",
         "rawType": "UInt32",
         "type": "integer"
        }
       ],
       "conversionMethod": "pd.DataFrame",
       "ref": "2a4db329-8474-4676-88b5-053c72cda6be",
       "rows": [
        [
         "227886",
         "desktop",
         "2017-07-23 20:20:00",
         "5",
         "2017-07-23 20:19:00",
         "440593066690564623",
         "6",
         "29",
         "7",
         "2017"
        ],
        [
         "27912",
         "touch",
         "2017-12-22 01:40:00",
         "4",
         "2017-12-22 01:26:00",
         "3617072494017219699",
         "4",
         "51",
         "12",
         "2017"
        ],
        [
         "217440",
         "desktop",
         "2018-02-28 12:37:00",
         "5",
         "2018-02-28 12:28:00",
         "4316625777712946753",
         "2",
         "9",
         "2",
         "2018"
        ],
        [
         "185562",
         "desktop",
         "2018-01-19 15:40:00",
         "2",
         "2018-01-19 15:16:00",
         "11143026028083641122",
         "4",
         "3",
         "1",
         "2018"
        ],
        [
         "275915",
         "touch",
         "2018-03-14 19:22:00",
         "4",
         "2018-03-14 19:17:00",
         "5166450786257361579",
         "2",
         "11",
         "3",
         "2018"
        ],
        [
         "127426",
         "desktop",
         "2017-11-24 13:28:00",
         "2",
         "2017-11-24 13:24:00",
         "11010938668909185960",
         "4",
         "47",
         "11",
         "2017"
        ],
        [
         "337927",
         "desktop",
         "2017-10-11 13:55:00",
         "4",
         "2017-10-11 13:51:00",
         "7459754498770882117",
         "2",
         "41",
         "10",
         "2017"
        ],
        [
         "279163",
         "desktop",
         "2018-02-28 10:00:00",
         "5",
         "2018-02-28 09:50:00",
         "6487211807544032419",
         "2",
         "9",
         "2",
         "2018"
        ],
        [
         "46095",
         "desktop",
         "2017-12-22 12:46:00",
         "3",
         "2017-12-22 12:46:00",
         "18144889656332528640",
         "4",
         "51",
         "12",
         "2017"
        ],
        [
         "228276",
         "desktop",
         "2017-12-04 11:25:00",
         "2",
         "2017-12-04 09:53:00",
         "7542335230532061475",
         "0",
         "49",
         "12",
         "2017"
        ]
       ],
       "shape": {
        "columns": 9,
        "rows": 10
       }
      },
      "text/html": [
       "<div>\n",
       "<style scoped>\n",
       "    .dataframe tbody tr th:only-of-type {\n",
       "        vertical-align: middle;\n",
       "    }\n",
       "\n",
       "    .dataframe tbody tr th {\n",
       "        vertical-align: top;\n",
       "    }\n",
       "\n",
       "    .dataframe thead th {\n",
       "        text-align: right;\n",
       "    }\n",
       "</style>\n",
       "<table border=\"1\" class=\"dataframe\">\n",
       "  <thead>\n",
       "    <tr style=\"text-align: right;\">\n",
       "      <th></th>\n",
       "      <th>device</th>\n",
       "      <th>end_ts</th>\n",
       "      <th>source_id</th>\n",
       "      <th>start_ts</th>\n",
       "      <th>uid</th>\n",
       "      <th>day</th>\n",
       "      <th>week</th>\n",
       "      <th>month</th>\n",
       "      <th>year</th>\n",
       "    </tr>\n",
       "  </thead>\n",
       "  <tbody>\n",
       "    <tr>\n",
       "      <th>227886</th>\n",
       "      <td>desktop</td>\n",
       "      <td>2017-07-23 20:20:00</td>\n",
       "      <td>5</td>\n",
       "      <td>2017-07-23 20:19:00</td>\n",
       "      <td>440593066690564623</td>\n",
       "      <td>6</td>\n",
       "      <td>29</td>\n",
       "      <td>7</td>\n",
       "      <td>2017</td>\n",
       "    </tr>\n",
       "    <tr>\n",
       "      <th>27912</th>\n",
       "      <td>touch</td>\n",
       "      <td>2017-12-22 01:40:00</td>\n",
       "      <td>4</td>\n",
       "      <td>2017-12-22 01:26:00</td>\n",
       "      <td>3617072494017219699</td>\n",
       "      <td>4</td>\n",
       "      <td>51</td>\n",
       "      <td>12</td>\n",
       "      <td>2017</td>\n",
       "    </tr>\n",
       "    <tr>\n",
       "      <th>217440</th>\n",
       "      <td>desktop</td>\n",
       "      <td>2018-02-28 12:37:00</td>\n",
       "      <td>5</td>\n",
       "      <td>2018-02-28 12:28:00</td>\n",
       "      <td>4316625777712946753</td>\n",
       "      <td>2</td>\n",
       "      <td>9</td>\n",
       "      <td>2</td>\n",
       "      <td>2018</td>\n",
       "    </tr>\n",
       "    <tr>\n",
       "      <th>185562</th>\n",
       "      <td>desktop</td>\n",
       "      <td>2018-01-19 15:40:00</td>\n",
       "      <td>2</td>\n",
       "      <td>2018-01-19 15:16:00</td>\n",
       "      <td>11143026028083641122</td>\n",
       "      <td>4</td>\n",
       "      <td>3</td>\n",
       "      <td>1</td>\n",
       "      <td>2018</td>\n",
       "    </tr>\n",
       "    <tr>\n",
       "      <th>275915</th>\n",
       "      <td>touch</td>\n",
       "      <td>2018-03-14 19:22:00</td>\n",
       "      <td>4</td>\n",
       "      <td>2018-03-14 19:17:00</td>\n",
       "      <td>5166450786257361579</td>\n",
       "      <td>2</td>\n",
       "      <td>11</td>\n",
       "      <td>3</td>\n",
       "      <td>2018</td>\n",
       "    </tr>\n",
       "    <tr>\n",
       "      <th>127426</th>\n",
       "      <td>desktop</td>\n",
       "      <td>2017-11-24 13:28:00</td>\n",
       "      <td>2</td>\n",
       "      <td>2017-11-24 13:24:00</td>\n",
       "      <td>11010938668909185960</td>\n",
       "      <td>4</td>\n",
       "      <td>47</td>\n",
       "      <td>11</td>\n",
       "      <td>2017</td>\n",
       "    </tr>\n",
       "    <tr>\n",
       "      <th>337927</th>\n",
       "      <td>desktop</td>\n",
       "      <td>2017-10-11 13:55:00</td>\n",
       "      <td>4</td>\n",
       "      <td>2017-10-11 13:51:00</td>\n",
       "      <td>7459754498770882117</td>\n",
       "      <td>2</td>\n",
       "      <td>41</td>\n",
       "      <td>10</td>\n",
       "      <td>2017</td>\n",
       "    </tr>\n",
       "    <tr>\n",
       "      <th>279163</th>\n",
       "      <td>desktop</td>\n",
       "      <td>2018-02-28 10:00:00</td>\n",
       "      <td>5</td>\n",
       "      <td>2018-02-28 09:50:00</td>\n",
       "      <td>6487211807544032419</td>\n",
       "      <td>2</td>\n",
       "      <td>9</td>\n",
       "      <td>2</td>\n",
       "      <td>2018</td>\n",
       "    </tr>\n",
       "    <tr>\n",
       "      <th>46095</th>\n",
       "      <td>desktop</td>\n",
       "      <td>2017-12-22 12:46:00</td>\n",
       "      <td>3</td>\n",
       "      <td>2017-12-22 12:46:00</td>\n",
       "      <td>18144889656332528640</td>\n",
       "      <td>4</td>\n",
       "      <td>51</td>\n",
       "      <td>12</td>\n",
       "      <td>2017</td>\n",
       "    </tr>\n",
       "    <tr>\n",
       "      <th>228276</th>\n",
       "      <td>desktop</td>\n",
       "      <td>2017-12-04 11:25:00</td>\n",
       "      <td>2</td>\n",
       "      <td>2017-12-04 09:53:00</td>\n",
       "      <td>7542335230532061475</td>\n",
       "      <td>0</td>\n",
       "      <td>49</td>\n",
       "      <td>12</td>\n",
       "      <td>2017</td>\n",
       "    </tr>\n",
       "  </tbody>\n",
       "</table>\n",
       "</div>"
      ],
      "text/plain": [
       "         device              end_ts  source_id            start_ts  \\\n",
       "227886  desktop 2017-07-23 20:20:00          5 2017-07-23 20:19:00   \n",
       "27912     touch 2017-12-22 01:40:00          4 2017-12-22 01:26:00   \n",
       "217440  desktop 2018-02-28 12:37:00          5 2018-02-28 12:28:00   \n",
       "185562  desktop 2018-01-19 15:40:00          2 2018-01-19 15:16:00   \n",
       "275915    touch 2018-03-14 19:22:00          4 2018-03-14 19:17:00   \n",
       "127426  desktop 2017-11-24 13:28:00          2 2017-11-24 13:24:00   \n",
       "337927  desktop 2017-10-11 13:55:00          4 2017-10-11 13:51:00   \n",
       "279163  desktop 2018-02-28 10:00:00          5 2018-02-28 09:50:00   \n",
       "46095   desktop 2017-12-22 12:46:00          3 2017-12-22 12:46:00   \n",
       "228276  desktop 2017-12-04 11:25:00          2 2017-12-04 09:53:00   \n",
       "\n",
       "                         uid  day  week  month  year  \n",
       "227886    440593066690564623    6    29      7  2017  \n",
       "27912    3617072494017219699    4    51     12  2017  \n",
       "217440   4316625777712946753    2     9      2  2018  \n",
       "185562  11143026028083641122    4     3      1  2018  \n",
       "275915   5166450786257361579    2    11      3  2018  \n",
       "127426  11010938668909185960    4    47     11  2017  \n",
       "337927   7459754498770882117    2    41     10  2017  \n",
       "279163   6487211807544032419    2     9      2  2018  \n",
       "46095   18144889656332528640    4    51     12  2017  \n",
       "228276   7542335230532061475    0    49     12  2017  "
      ]
     },
     "execution_count": 18,
     "metadata": {},
     "output_type": "execute_result"
    }
   ],
   "source": [
    "# Primero sacaremos de las fechas, el día, la semana, mes y año de la visita\n",
    "visits['day'] = visits['start_ts'].dt.weekday\n",
    "visits['week'] = visits['start_ts'].dt.isocalendar().week\n",
    "visits['month'] = visits['start_ts'].dt.month\n",
    "visits['year'] = visits['start_ts'].dt.isocalendar().year\n",
    "visits.sample(10)"
   ]
  },
  {
   "cell_type": "code",
   "execution_count": 19,
   "metadata": {},
   "outputs": [
    {
     "name": "stdout",
     "output_type": "stream",
     "text": [
      "Al día, en promedio, se tienen 910.46 visitas.\n"
     ]
    }
   ],
   "source": [
    "#Promedio de visitas por día\n",
    "\n",
    "by_days = visits.groupby(['week', 'day'])['uid'].nunique().reset_index()\n",
    "print(f'Al día, en promedio, se tienen {by_days.uid.mean():,.2f} visitas.')\n"
   ]
  },
  {
   "cell_type": "code",
   "execution_count": 20,
   "metadata": {},
   "outputs": [
    {
     "name": "stdout",
     "output_type": "stream",
     "text": [
      "Por semana, en promedio, tenemos 5,716.25 visitas\n"
     ]
    }
   ],
   "source": [
    "#Promedio de visitas por semana\n",
    "\n",
    "by_week = visits.groupby(['year', 'week'])['uid'].nunique().reset_index()\n",
    "print(f'Por semana, en promedio, tenemos {by_week.uid.mean():,.2f} visitas')"
   ]
  },
  {
   "cell_type": "code",
   "execution_count": 21,
   "metadata": {},
   "outputs": [
    {
     "name": "stdout",
     "output_type": "stream",
     "text": [
      "Por mes, en promedio, tenemos 23,228.42 visitas\n"
     ]
    }
   ],
   "source": [
    "#Promedio de visitas por semana\n",
    "\n",
    "by_month = visits.groupby(['year', 'month'])['uid'].nunique().reset_index()\n",
    "print(f'Por mes, en promedio, tenemos {by_month.uid.mean():,.2f} visitas')"
   ]
  },
  {
   "cell_type": "code",
   "execution_count": 22,
   "metadata": {},
   "outputs": [
    {
     "name": "stdout",
     "output_type": "stream",
     "text": [
      "Al día, en promedio, se tienen 990.08 sesiones.\n"
     ]
    }
   ],
   "source": [
    "#Promedio de sesiones por día\n",
    "\n",
    "sessions_per_day = visits.groupby(['week', 'day'])['uid'].count().reset_index()\n",
    "print(f'Al día, en promedio, se tienen {sessions_per_day.uid.mean():,.2f} sesiones.')"
   ]
  },
  {
   "cell_type": "code",
   "execution_count": 23,
   "metadata": {},
   "outputs": [
    {
     "name": "stdout",
     "output_type": "stream",
     "text": [
      "La media de la duración de la sesión es de 5.00 minutos.\n"
     ]
    }
   ],
   "source": [
    "# Duración de sesiones\n",
    "\n",
    "visits['session_duration'] = visits.end_ts - visits.start_ts\n",
    "visits['session_duration_secs'] = visits.session_duration.dt.total_seconds()\n",
    "avg_session_duration = visits.session_duration_secs.median()\n",
    "print(f'La media de la duración de la sesión es de {avg_session_duration/60:,.2f} minutos.')"
   ]
  },
  {
   "cell_type": "code",
   "execution_count": 24,
   "metadata": {},
   "outputs": [
    {
     "name": "stdout",
     "output_type": "stream",
     "text": [
      "La media del tiempo en que suelen regresar los usuarios es de 4.00 días.\n"
     ]
    }
   ],
   "source": [
    "# Con qué frecuencia los usuarios regresan? \n",
    "comeback_frec = visits.sort_values(by=['uid', 'start_ts'])\n",
    "visits['time_since_last_visit'] = comeback_frec.groupby(['uid'])['start_ts'].diff()\n",
    "visits['days_between_visits'] = visits.time_since_last_visit.dt.days\n",
    "ave_return_time = visits.days_between_visits.median()\n",
    "print(f'La media del tiempo en que suelen regresar los usuarios es de {ave_return_time:.2f} días.')\n"
   ]
  },
  {
   "cell_type": "markdown",
   "metadata": {},
   "source": [
    "En la duración de la sesión y en el tiempo en que suelen regresar los usuarios usamos **la media**, ya que en el promedio los valores atípicos elevaban las cantidades."
   ]
  },
  {
   "cell_type": "markdown",
   "metadata": {},
   "source": [
    "### Ventas:\n",
    "- ¿Cuándo empieza la gente a comprar? (En el análisis de KPI, generalmente nos interesa saber el tiempo que transcurre entre el registro y la conversión, es decir, cuando el usuario se convierte en cliente. Por ejemplo, si el registro y la primera compra ocurren el mismo día, el usuario podría caer en la categoría Conversion 0d. Si la primera compra ocurre al día siguiente, será Conversion 1d. Puedes usar cualquier enfoque que te permita comparar las conversiones de diferentes cohortes para que puedas determinar qué cohorte o canal de marketing es más efectivo.)\n",
    "- ¿Cuántos pedidos hacen durante un período de tiempo dado?\n",
    "- ¿Cuál es el tamaño promedio de compra?\n",
    "- ¿Cuánto dinero traen? (LTV)"
   ]
  },
  {
   "cell_type": "code",
   "execution_count": 25,
   "metadata": {},
   "outputs": [
    {
     "data": {
      "application/vnd.microsoft.datawrangler.viewer.v0+json": {
       "columns": [
        {
         "name": "index",
         "rawType": "int64",
         "type": "integer"
        },
        {
         "name": "buy_ts",
         "rawType": "datetime64[ns]",
         "type": "datetime"
        },
        {
         "name": "revenue",
         "rawType": "float64",
         "type": "float"
        },
        {
         "name": "uid",
         "rawType": "uint64",
         "type": "integer"
        }
       ],
       "conversionMethod": "pd.DataFrame",
       "ref": "67ec6ee6-93cf-4af2-a0de-d23a5f26e563",
       "rows": [
        [
         "0",
         "2017-06-01 00:10:00",
         "17.0",
         "10329302124590727494"
        ],
        [
         "1",
         "2017-06-01 00:25:00",
         "0.55",
         "11627257723692907447"
        ],
        [
         "2",
         "2017-06-01 00:27:00",
         "0.37",
         "17903680561304213844"
        ],
        [
         "3",
         "2017-06-01 00:29:00",
         "0.55",
         "16109239769442553005"
        ],
        [
         "4",
         "2017-06-01 07:58:00",
         "0.37",
         "14200605875248379450"
        ]
       ],
       "shape": {
        "columns": 3,
        "rows": 5
       }
      },
      "text/html": [
       "<div>\n",
       "<style scoped>\n",
       "    .dataframe tbody tr th:only-of-type {\n",
       "        vertical-align: middle;\n",
       "    }\n",
       "\n",
       "    .dataframe tbody tr th {\n",
       "        vertical-align: top;\n",
       "    }\n",
       "\n",
       "    .dataframe thead th {\n",
       "        text-align: right;\n",
       "    }\n",
       "</style>\n",
       "<table border=\"1\" class=\"dataframe\">\n",
       "  <thead>\n",
       "    <tr style=\"text-align: right;\">\n",
       "      <th></th>\n",
       "      <th>buy_ts</th>\n",
       "      <th>revenue</th>\n",
       "      <th>uid</th>\n",
       "    </tr>\n",
       "  </thead>\n",
       "  <tbody>\n",
       "    <tr>\n",
       "      <th>0</th>\n",
       "      <td>2017-06-01 00:10:00</td>\n",
       "      <td>17.00</td>\n",
       "      <td>10329302124590727494</td>\n",
       "    </tr>\n",
       "    <tr>\n",
       "      <th>1</th>\n",
       "      <td>2017-06-01 00:25:00</td>\n",
       "      <td>0.55</td>\n",
       "      <td>11627257723692907447</td>\n",
       "    </tr>\n",
       "    <tr>\n",
       "      <th>2</th>\n",
       "      <td>2017-06-01 00:27:00</td>\n",
       "      <td>0.37</td>\n",
       "      <td>17903680561304213844</td>\n",
       "    </tr>\n",
       "    <tr>\n",
       "      <th>3</th>\n",
       "      <td>2017-06-01 00:29:00</td>\n",
       "      <td>0.55</td>\n",
       "      <td>16109239769442553005</td>\n",
       "    </tr>\n",
       "    <tr>\n",
       "      <th>4</th>\n",
       "      <td>2017-06-01 07:58:00</td>\n",
       "      <td>0.37</td>\n",
       "      <td>14200605875248379450</td>\n",
       "    </tr>\n",
       "  </tbody>\n",
       "</table>\n",
       "</div>"
      ],
      "text/plain": [
       "               buy_ts  revenue                   uid\n",
       "0 2017-06-01 00:10:00    17.00  10329302124590727494\n",
       "1 2017-06-01 00:25:00     0.55  11627257723692907447\n",
       "2 2017-06-01 00:27:00     0.37  17903680561304213844\n",
       "3 2017-06-01 00:29:00     0.55  16109239769442553005\n",
       "4 2017-06-01 07:58:00     0.37  14200605875248379450"
      ]
     },
     "execution_count": 25,
     "metadata": {},
     "output_type": "execute_result"
    }
   ],
   "source": [
    "orders.head()"
   ]
  },
  {
   "cell_type": "code",
   "execution_count": 26,
   "metadata": {},
   "outputs": [],
   "source": [
    "# Fechas de primeras compras\n",
    "purchases = orders[orders.revenue > 0]\n",
    "first_purchase = purchases.groupby('uid')['buy_ts'].min().reset_index()\n",
    "first_purchase.columns = ['uid', 'first_buy_ts']\n",
    "orders = pd.merge(orders, first_purchase, on='uid')\n",
    "#orders.sample(5)\n",
    "\n"
   ]
  },
  {
   "cell_type": "code",
   "execution_count": 27,
   "metadata": {},
   "outputs": [],
   "source": [
    "# Fechas de registros\n",
    "registration = orders.groupby('uid')['buy_ts'].min().reset_index()\n",
    "registration.columns = ['uid', 'registration_ts']\n",
    "orders = pd.merge(orders, registration, on='uid')\n",
    "#orders.sample(5)"
   ]
  },
  {
   "cell_type": "code",
   "execution_count": 28,
   "metadata": {},
   "outputs": [],
   "source": [
    "# Crear cohortes por días transcurridos para comprar despúes del registro\n",
    "orders['days_to_purchase'] = (orders['first_buy_ts'] - orders['registration_ts']).dt.days\n",
    "#orders.sample(5)"
   ]
  },
  {
   "cell_type": "code",
   "execution_count": 29,
   "metadata": {},
   "outputs": [],
   "source": [
    "orders['convertion_delay'] = orders['days_to_purchase'].apply(lambda x: f'{x}d')\n",
    "#orders.sample(5)"
   ]
  },
  {
   "cell_type": "code",
   "execution_count": 30,
   "metadata": {},
   "outputs": [
    {
     "data": {
      "text/plain": [
       "convertion_delay\n",
       "0d      36504\n",
       "117d        1\n",
       "12d         1\n",
       "167d        1\n",
       "3d          1\n",
       "65d         1\n",
       "Name: uid, dtype: int64"
      ]
     },
     "execution_count": 30,
     "metadata": {},
     "output_type": "execute_result"
    }
   ],
   "source": [
    "by_cohorts = orders.groupby('convertion_delay')['uid'].nunique()\n",
    "by_cohorts"
   ]
  },
  {
   "cell_type": "markdown",
   "metadata": {},
   "source": [
    "Practicamente el 99% de los usuarios compran el mismo día que se registraron. \n",
    "\n",
    "Probablemente no sabían de la aplicación, ni les interesaba registrarse hasta que quisieron comprar boletos para un evento al que sí querían asistir.\n",
    "\n",
    "Como este dato no nos sirve para crear cohortes relevante, agruparemos por dispositivo de usuario"
   ]
  },
  {
   "cell_type": "code",
   "execution_count": null,
   "metadata": {},
   "outputs": [],
   "source": [
    "#vamos a agrupar por cohortes"
   ]
  },
  {
   "cell_type": "markdown",
   "metadata": {},
   "source": [
    "## Marketing:\n",
    " 1. ¿Cuánto dinero se gastó?  (Total/por fuente de adquisición/a lo largo del tiempo) \n",
    " 2. ¿Cuál fue el costo de adquisición de clientes de cada una de las fuentes?\n",
    " 3. ¿Cuán rentables eran las inversiones? (ROMI)\n",
    "Traza gráficos para mostrar cómo difieren estas métricas para varios dispositivos y fuentes de anuncios y cómo cambian con el tiempo. "
   ]
  },
  {
   "cell_type": "markdown",
   "metadata": {},
   "source": []
  },
  {
   "cell_type": "code",
   "execution_count": null,
   "metadata": {},
   "outputs": [],
   "source": []
  }
 ],
 "metadata": {
  "kernelspec": {
   "display_name": "base",
   "language": "python",
   "name": "python3"
  },
  "language_info": {
   "codemirror_mode": {
    "name": "ipython",
    "version": 3
   },
   "file_extension": ".py",
   "mimetype": "text/x-python",
   "name": "python",
   "nbconvert_exporter": "python",
   "pygments_lexer": "ipython3",
   "version": "3.9.21"
  }
 },
 "nbformat": 4,
 "nbformat_minor": 2
}
