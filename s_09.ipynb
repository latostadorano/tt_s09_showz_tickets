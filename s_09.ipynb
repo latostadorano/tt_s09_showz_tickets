{
 "cells": [
  {
   "cell_type": "markdown",
   "metadata": {},
   "source": [
    "# **Sprint 9 Showz analysis**"
   ]
  },
  {
   "cell_type": "markdown",
   "metadata": {},
   "source": [
    "## Paso 1. Acceda los datos y prepáralos para el análisis\n",
    "\n",
    "Almacena los datos de visitas, pedidos y gastos en variables.  Optimiza los datos para el análisis. Asegúrate de que cada columna contenga el tipo de datos correcto. \n",
    "\n",
    "\n"
   ]
  },
  {
   "cell_type": "code",
   "execution_count": null,
   "metadata": {},
   "outputs": [],
   "source": [
    "# cargar librerías\n",
    "import pandas as pd \n",
    "import numpy as np\n",
    "import re \n",
    "import seaborn as sns\n",
    "import matplotlib.pyplot as plt\n"
   ]
  },
  {
   "cell_type": "code",
   "execution_count": null,
   "metadata": {},
   "outputs": [],
   "source": [
    "# importar datos\n",
    "visits = pd.read_csv('https://code.s3.yandex.net/datasets/visits_log_us.csv')\n",
    "print(visits.head())\n",
    "print('-------')\n",
    "orders = pd.read_csv('https://code.s3.yandex.net/datasets/orders_log_us.csv')\n",
    "print(orders.head())\n",
    "print('-------')\n",
    "costs = pd.read_csv('https://code.s3.yandex.net/datasets/costs_us.csv')\n",
    "print(costs.head())\n",
    "print('-------')"
   ]
  },
  {
   "cell_type": "markdown",
   "metadata": {},
   "source": [
    "### Examinar visits"
   ]
  },
  {
   "cell_type": "code",
   "execution_count": null,
   "metadata": {},
   "outputs": [],
   "source": [
    "# Examine visits\n",
    "visits.info()"
   ]
  },
  {
   "cell_type": "code",
   "execution_count": null,
   "metadata": {},
   "outputs": [],
   "source": [
    "visits['Device'].value_counts()"
   ]
  },
  {
   "cell_type": "code",
   "execution_count": null,
   "metadata": {},
   "outputs": [],
   "source": [
    "visits['Source Id'].value_counts()"
   ]
  },
  {
   "cell_type": "markdown",
   "metadata": {},
   "source": [
    "### Limpiar visits\n",
    "1. Columnas a minúsculas\n",
    "2. End Ts y Start Ts a formato fecha"
   ]
  },
  {
   "cell_type": "code",
   "execution_count": null,
   "metadata": {},
   "outputs": [],
   "source": [
    "# Función para limpiar columnas\n",
    "def clean_col_names(df):\n",
    "    df = df.copy()\n",
    "    df.columns = [\n",
    "        re.sub(r'\\W+', '_', col).strip('_').lower()\n",
    "        for col in df.columns\n",
    "    ]\n",
    "    return df\n"
   ]
  },
  {
   "cell_type": "code",
   "execution_count": null,
   "metadata": {},
   "outputs": [],
   "source": [
    "# Limpiar visits.columns\n",
    "visits = clean_col_names(visits)\n",
    "visits"
   ]
  },
  {
   "cell_type": "code",
   "execution_count": null,
   "metadata": {},
   "outputs": [],
   "source": [
    "# Cambiar end_ts y start_ts a formato fecha\n",
    "visits.end_ts = pd.to_datetime(visits['end_ts'])\n",
    "visits.start_ts = pd.to_datetime(visits['start_ts'])\n",
    "print(visits.info())"
   ]
  },
  {
   "cell_type": "code",
   "execution_count": null,
   "metadata": {},
   "outputs": [],
   "source": [
    "visits.sample(10)"
   ]
  },
  {
   "cell_type": "markdown",
   "metadata": {},
   "source": [
    "### Examinar orders"
   ]
  },
  {
   "cell_type": "code",
   "execution_count": null,
   "metadata": {},
   "outputs": [],
   "source": [
    "# Examine orders\n",
    "orders.info()"
   ]
  },
  {
   "cell_type": "code",
   "execution_count": null,
   "metadata": {},
   "outputs": [],
   "source": [
    "orders['Revenue'].describe()"
   ]
  },
  {
   "cell_type": "code",
   "execution_count": null,
   "metadata": {},
   "outputs": [],
   "source": [
    "orders[orders.Revenue > 1000]"
   ]
  },
  {
   "cell_type": "markdown",
   "metadata": {},
   "source": [
    "### Limpiar orders\n",
    "\n",
    "1. limpiar nombres de columnas\n",
    "2. 'Buy Ts' a formato fecha"
   ]
  },
  {
   "cell_type": "code",
   "execution_count": null,
   "metadata": {},
   "outputs": [],
   "source": [
    "orders = clean_col_names(orders)\n",
    "orders.buy_ts = pd.to_datetime(orders.buy_ts)\n",
    "orders.info()"
   ]
  },
  {
   "cell_type": "markdown",
   "metadata": {},
   "source": [
    "### Examinar costs"
   ]
  },
  {
   "cell_type": "code",
   "execution_count": null,
   "metadata": {},
   "outputs": [],
   "source": [
    "# Examine costs\n",
    "costs.info()"
   ]
  },
  {
   "cell_type": "code",
   "execution_count": null,
   "metadata": {},
   "outputs": [],
   "source": [
    "costs.sample(5)"
   ]
  },
  {
   "cell_type": "code",
   "execution_count": null,
   "metadata": {},
   "outputs": [],
   "source": [
    "costs.source_id.value_counts()"
   ]
  },
  {
   "cell_type": "markdown",
   "metadata": {},
   "source": [
    "### Limpiar costs\n",
    "\n",
    "1. 'dt' a formato fecha"
   ]
  },
  {
   "cell_type": "code",
   "execution_count": null,
   "metadata": {},
   "outputs": [],
   "source": [
    "costs.dt = pd.to_datetime(costs.dt)\n",
    "costs.info()"
   ]
  },
  {
   "cell_type": "markdown",
   "metadata": {},
   "source": [
    "## Paso 2. Haz informes y calcula métricas "
   ]
  },
  {
   "cell_type": "markdown",
   "metadata": {},
   "source": [
    "### Visitas:\n",
    "- ¿Cuántas personas lo usan cada día, semana y mes?\n",
    "- ¿Cuántas sesiones hay por día? (Un usuario puede tener más de una sesión).\n",
    "- ¿Cuál es la duración de cada sesión?\n",
    "- ¿Con qué frecuencia los usuarios regresan?\n",
    "\n",
    "\n",
    "\n",
    "\n"
   ]
  },
  {
   "cell_type": "code",
   "execution_count": null,
   "metadata": {},
   "outputs": [],
   "source": [
    "# Primero sacaremos de las fechas, el día, la semana, mes y año de la visita\n",
    "visits['day'] = visits['start_ts'].dt.weekday\n",
    "visits['week'] = visits['start_ts'].dt.isocalendar().week\n",
    "visits['month'] = visits['start_ts'].dt.month\n",
    "visits['year'] = visits['start_ts'].dt.isocalendar().year\n",
    "visits.sample(10)"
   ]
  },
  {
   "cell_type": "code",
   "execution_count": null,
   "metadata": {},
   "outputs": [],
   "source": [
    "#Promedio de visitas por día\n",
    "\n",
    "by_days = visits.groupby(['week', 'day'])['uid'].nunique().reset_index()\n",
    "print(f'Al día, en promedio, se tienen {by_days.uid.mean():,.2f} visitas.')\n"
   ]
  },
  {
   "cell_type": "code",
   "execution_count": null,
   "metadata": {},
   "outputs": [],
   "source": [
    "#Promedio de visitas por semana\n",
    "\n",
    "by_week = visits.groupby(['year', 'week'])['uid'].nunique().reset_index()\n",
    "print(f'Por semana, en promedio, tenemos {by_week.uid.mean():,.2f} visitas')"
   ]
  },
  {
   "cell_type": "code",
   "execution_count": null,
   "metadata": {},
   "outputs": [],
   "source": [
    "#Promedio de visitas por semana\n",
    "\n",
    "by_month = visits.groupby(['year', 'month'])['uid'].nunique().reset_index()\n",
    "print(f'Por mes, en promedio, tenemos {by_month.uid.mean():,.2f} visitas')"
   ]
  },
  {
   "cell_type": "code",
   "execution_count": null,
   "metadata": {},
   "outputs": [],
   "source": [
    "#Promedio de sesiones por día\n",
    "\n",
    "sessions_per_day = visits.groupby(['week', 'day'])['uid'].count().reset_index()\n",
    "print(f'Al día, en promedio, se tienen {sessions_per_day.uid.mean():,.2f} sesiones.')"
   ]
  },
  {
   "cell_type": "code",
   "execution_count": null,
   "metadata": {},
   "outputs": [],
   "source": [
    "# Duración de sesiones\n",
    "\n",
    "visits['session_duration'] = visits.end_ts - visits.start_ts\n",
    "visits['session_duration_secs'] = visits.session_duration.dt.total_seconds()\n",
    "avg_session_duration = visits.session_duration_secs.median()\n",
    "print(f'La media de la duración de la sesión es de {avg_session_duration/60:,.2f} minutos.')"
   ]
  },
  {
   "cell_type": "code",
   "execution_count": 24,
   "metadata": {},
   "outputs": [
    {
     "name": "stdout",
     "output_type": "stream",
     "text": [
      "La media del tiempo en que suelen regresar los usuarios es de 4.00 días.\n"
     ]
    }
   ],
   "source": [
    "# Con qué frecuencia los usuarios regresan? \n",
    "comeback_frec = visits.sort_values(by=['uid', 'start_ts'])\n",
    "visits['time_since_last_visit'] = comeback_frec.groupby(['uid'])['start_ts'].diff()\n",
    "visits['days_between_visits'] = visits.time_since_last_visit.dt.days\n",
    "ave_return_time = visits.days_between_visits.median()\n",
    "print(f'La media del tiempo en que suelen regresar los usuarios es de {ave_return_time:.2f} días.')\n"
   ]
  },
  {
   "cell_type": "markdown",
   "metadata": {},
   "source": [
    "En la duración de la sesión y en el tiempo en que suelen regresar los usuarios usamos **la media**, ya que en el promedio los valores atípicos elevaban las cantidades."
   ]
  },
  {
   "cell_type": "markdown",
   "metadata": {},
   "source": [
    "### Ventas:\n",
    "- ¿Cuándo empieza la gente a comprar? (En el análisis de KPI, generalmente nos interesa saber el tiempo que transcurre entre el registro y la conversión, es decir, cuando el usuario se convierte en cliente. Por ejemplo, si el registro y la primera compra ocurren el mismo día, el usuario podría caer en la categoría Conversion 0d. Si la primera compra ocurre al día siguiente, será Conversion 1d. Puedes usar cualquier enfoque que te permita comparar las conversiones de diferentes cohortes para que puedas determinar qué cohorte o canal de marketing es más efectivo.)\n",
    "- ¿Cuántos pedidos hacen durante un período de tiempo dado?\n",
    "- ¿Cuál es el tamaño promedio de compra?\n",
    "- ¿Cuánto dinero traen? (LTV)"
   ]
  },
  {
   "cell_type": "code",
   "execution_count": 25,
   "metadata": {},
   "outputs": [
    {
     "data": {
      "application/vnd.microsoft.datawrangler.viewer.v0+json": {
       "columns": [
        {
         "name": "index",
         "rawType": "int64",
         "type": "integer"
        },
        {
         "name": "buy_ts",
         "rawType": "datetime64[ns]",
         "type": "datetime"
        },
        {
         "name": "revenue",
         "rawType": "float64",
         "type": "float"
        },
        {
         "name": "uid",
         "rawType": "uint64",
         "type": "integer"
        }
       ],
       "conversionMethod": "pd.DataFrame",
       "ref": "6ae07078-e722-44dd-8c6d-62a687b1703f",
       "rows": [
        [
         "0",
         "2017-06-01 00:10:00",
         "17.0",
         "10329302124590727494"
        ],
        [
         "1",
         "2017-06-01 00:25:00",
         "0.55",
         "11627257723692907447"
        ],
        [
         "2",
         "2017-06-01 00:27:00",
         "0.37",
         "17903680561304213844"
        ],
        [
         "3",
         "2017-06-01 00:29:00",
         "0.55",
         "16109239769442553005"
        ],
        [
         "4",
         "2017-06-01 07:58:00",
         "0.37",
         "14200605875248379450"
        ]
       ],
       "shape": {
        "columns": 3,
        "rows": 5
       }
      },
      "text/html": [
       "<div>\n",
       "<style scoped>\n",
       "    .dataframe tbody tr th:only-of-type {\n",
       "        vertical-align: middle;\n",
       "    }\n",
       "\n",
       "    .dataframe tbody tr th {\n",
       "        vertical-align: top;\n",
       "    }\n",
       "\n",
       "    .dataframe thead th {\n",
       "        text-align: right;\n",
       "    }\n",
       "</style>\n",
       "<table border=\"1\" class=\"dataframe\">\n",
       "  <thead>\n",
       "    <tr style=\"text-align: right;\">\n",
       "      <th></th>\n",
       "      <th>buy_ts</th>\n",
       "      <th>revenue</th>\n",
       "      <th>uid</th>\n",
       "    </tr>\n",
       "  </thead>\n",
       "  <tbody>\n",
       "    <tr>\n",
       "      <th>0</th>\n",
       "      <td>2017-06-01 00:10:00</td>\n",
       "      <td>17.00</td>\n",
       "      <td>10329302124590727494</td>\n",
       "    </tr>\n",
       "    <tr>\n",
       "      <th>1</th>\n",
       "      <td>2017-06-01 00:25:00</td>\n",
       "      <td>0.55</td>\n",
       "      <td>11627257723692907447</td>\n",
       "    </tr>\n",
       "    <tr>\n",
       "      <th>2</th>\n",
       "      <td>2017-06-01 00:27:00</td>\n",
       "      <td>0.37</td>\n",
       "      <td>17903680561304213844</td>\n",
       "    </tr>\n",
       "    <tr>\n",
       "      <th>3</th>\n",
       "      <td>2017-06-01 00:29:00</td>\n",
       "      <td>0.55</td>\n",
       "      <td>16109239769442553005</td>\n",
       "    </tr>\n",
       "    <tr>\n",
       "      <th>4</th>\n",
       "      <td>2017-06-01 07:58:00</td>\n",
       "      <td>0.37</td>\n",
       "      <td>14200605875248379450</td>\n",
       "    </tr>\n",
       "  </tbody>\n",
       "</table>\n",
       "</div>"
      ],
      "text/plain": [
       "               buy_ts  revenue                   uid\n",
       "0 2017-06-01 00:10:00    17.00  10329302124590727494\n",
       "1 2017-06-01 00:25:00     0.55  11627257723692907447\n",
       "2 2017-06-01 00:27:00     0.37  17903680561304213844\n",
       "3 2017-06-01 00:29:00     0.55  16109239769442553005\n",
       "4 2017-06-01 07:58:00     0.37  14200605875248379450"
      ]
     },
     "execution_count": 25,
     "metadata": {},
     "output_type": "execute_result"
    }
   ],
   "source": [
    "orders.head()"
   ]
  },
  {
   "cell_type": "code",
   "execution_count": 26,
   "metadata": {},
   "outputs": [],
   "source": [
    "# Fechas de primeras compras\n",
    "purchases = orders[orders.revenue > 0]\n",
    "first_purchase = purchases.groupby('uid')['buy_ts'].min().reset_index()\n",
    "first_purchase.columns = ['uid', 'first_buy_ts']\n",
    "orders = pd.merge(orders, first_purchase, on='uid')\n",
    "#orders.sample(5)\n",
    "\n"
   ]
  },
  {
   "cell_type": "code",
   "execution_count": 27,
   "metadata": {},
   "outputs": [],
   "source": [
    "# Fechas de registros\n",
    "registration = orders.groupby('uid')['buy_ts'].min().reset_index()\n",
    "registration.columns = ['uid', 'registration_ts']\n",
    "orders = pd.merge(orders, registration, on='uid')\n",
    "#orders.sample(5)"
   ]
  },
  {
   "cell_type": "code",
   "execution_count": 28,
   "metadata": {},
   "outputs": [],
   "source": [
    "# Crear cohortes por días transcurridos para comprar despúes del registro\n",
    "orders['days_to_purchase'] = (orders['first_buy_ts'] - orders['registration_ts']).dt.days\n",
    "#orders.sample(5)"
   ]
  },
  {
   "cell_type": "code",
   "execution_count": 29,
   "metadata": {},
   "outputs": [],
   "source": [
    "orders['convertion_delay'] = orders['days_to_purchase'].apply(lambda x: f'{x}d')\n",
    "#orders.sample(5)"
   ]
  },
  {
   "cell_type": "code",
   "execution_count": 30,
   "metadata": {},
   "outputs": [
    {
     "data": {
      "text/plain": [
       "convertion_delay\n",
       "0d      36504\n",
       "117d        1\n",
       "12d         1\n",
       "167d        1\n",
       "3d          1\n",
       "65d         1\n",
       "Name: uid, dtype: int64"
      ]
     },
     "execution_count": 30,
     "metadata": {},
     "output_type": "execute_result"
    }
   ],
   "source": [
    "by_cohorts = orders.groupby('convertion_delay')['uid'].nunique()\n",
    "by_cohorts"
   ]
  },
  {
   "cell_type": "markdown",
   "metadata": {},
   "source": [
    "Practicamente el 99% de los usuarios compran el mismo día que se registraron. \n",
    "\n",
    "Probablemente no sabían de la aplicación, ni les interesaba registrarse hasta que quisieron comprar boletos para un evento al que sí querían asistir.\n",
    "\n",
    "Como este dato no nos sirve para crear cohortes relevante, agruparemos por dispositivo de usuario"
   ]
  },
  {
   "cell_type": "code",
   "execution_count": 31,
   "metadata": {},
   "outputs": [
    {
     "data": {
      "text/plain": [
       "1    220470\n",
       "2      7699\n",
       "Name: device, dtype: int64"
      ]
     },
     "execution_count": 31,
     "metadata": {},
     "output_type": "execute_result"
    }
   ],
   "source": [
    "#vamos a agrupar por devices, vamos a ver si hay más de un device por usuario\n",
    "\n",
    "devices_per_user = visits.groupby('uid')['device'].nunique()\n",
    "devices_per_user.value_counts()"
   ]
  },
  {
   "cell_type": "code",
   "execution_count": 32,
   "metadata": {},
   "outputs": [
    {
     "data": {
      "text/plain": [
       "1    220470\n",
       "2      7699\n",
       "Name: device, dtype: int64"
      ]
     },
     "execution_count": 32,
     "metadata": {},
     "output_type": "execute_result"
    }
   ],
   "source": [
    "devices_per_user = visits.groupby('uid')['device'].nunique()\n",
    "devices_per_user.value_counts()"
   ]
  },
  {
   "cell_type": "code",
   "execution_count": 33,
   "metadata": {},
   "outputs": [],
   "source": [
    "# añadiremos el source_id a nuestro df donde identificamos los cohortes\n",
    "by_source = visits.groupby('uid')['source_id'].nunique()\n",
    "orders = orders.merge(by_source, on='uid')"
   ]
  },
  {
   "cell_type": "code",
   "execution_count": 34,
   "metadata": {},
   "outputs": [
    {
     "data": {
      "text/plain": [
       "source_id\n",
       "1    22431\n",
       "2     9346\n",
       "3     3268\n",
       "4     1079\n",
       "5      321\n",
       "6       55\n",
       "7        9\n",
       "Name: uid, dtype: int64"
      ]
     },
     "execution_count": 34,
     "metadata": {},
     "output_type": "execute_result"
    }
   ],
   "source": [
    "by_cohorts_source = orders.groupby('source_id')['uid'].nunique()\n",
    "by_cohorts_source"
   ]
  },
  {
   "cell_type": "code",
   "execution_count": 35,
   "metadata": {},
   "outputs": [
    {
     "data": {
      "application/vnd.microsoft.datawrangler.viewer.v0+json": {
       "columns": [
        {
         "name": "source_id",
         "rawType": "int64",
         "type": "integer"
        },
        {
         "name": "unique_users",
         "rawType": "int64",
         "type": "integer"
        },
        {
         "name": "revenue",
         "rawType": "float64",
         "type": "float"
        }
       ],
       "conversionMethod": "pd.DataFrame",
       "ref": "5abc012d-57a4-45bc-b67a-12e25199ec12",
       "rows": [
        [
         "1",
         "22431",
         "98724.56"
        ],
        [
         "2",
         "9346",
         "66168.56"
        ],
        [
         "3",
         "3268",
         "30065.66"
        ],
        [
         "4",
         "1079",
         "18180.0"
        ],
        [
         "5",
         "321",
         "35459.94"
        ],
        [
         "6",
         "55",
         "2676.61"
        ],
        [
         "7",
         "9",
         "781.87"
        ]
       ],
       "shape": {
        "columns": 2,
        "rows": 7
       }
      },
      "text/html": [
       "<div>\n",
       "<style scoped>\n",
       "    .dataframe tbody tr th:only-of-type {\n",
       "        vertical-align: middle;\n",
       "    }\n",
       "\n",
       "    .dataframe tbody tr th {\n",
       "        vertical-align: top;\n",
       "    }\n",
       "\n",
       "    .dataframe thead th {\n",
       "        text-align: right;\n",
       "    }\n",
       "</style>\n",
       "<table border=\"1\" class=\"dataframe\">\n",
       "  <thead>\n",
       "    <tr style=\"text-align: right;\">\n",
       "      <th></th>\n",
       "      <th>unique_users</th>\n",
       "      <th>revenue</th>\n",
       "    </tr>\n",
       "    <tr>\n",
       "      <th>source_id</th>\n",
       "      <th></th>\n",
       "      <th></th>\n",
       "    </tr>\n",
       "  </thead>\n",
       "  <tbody>\n",
       "    <tr>\n",
       "      <th>1</th>\n",
       "      <td>22431</td>\n",
       "      <td>98724.56</td>\n",
       "    </tr>\n",
       "    <tr>\n",
       "      <th>2</th>\n",
       "      <td>9346</td>\n",
       "      <td>66168.56</td>\n",
       "    </tr>\n",
       "    <tr>\n",
       "      <th>3</th>\n",
       "      <td>3268</td>\n",
       "      <td>30065.66</td>\n",
       "    </tr>\n",
       "    <tr>\n",
       "      <th>4</th>\n",
       "      <td>1079</td>\n",
       "      <td>18180.00</td>\n",
       "    </tr>\n",
       "    <tr>\n",
       "      <th>5</th>\n",
       "      <td>321</td>\n",
       "      <td>35459.94</td>\n",
       "    </tr>\n",
       "    <tr>\n",
       "      <th>6</th>\n",
       "      <td>55</td>\n",
       "      <td>2676.61</td>\n",
       "    </tr>\n",
       "    <tr>\n",
       "      <th>7</th>\n",
       "      <td>9</td>\n",
       "      <td>781.87</td>\n",
       "    </tr>\n",
       "  </tbody>\n",
       "</table>\n",
       "</div>"
      ],
      "text/plain": [
       "           unique_users   revenue\n",
       "source_id                        \n",
       "1                 22431  98724.56\n",
       "2                  9346  66168.56\n",
       "3                  3268  30065.66\n",
       "4                  1079  18180.00\n",
       "5                   321  35459.94\n",
       "6                    55   2676.61\n",
       "7                     9    781.87"
      ]
     },
     "execution_count": 35,
     "metadata": {},
     "output_type": "execute_result"
    }
   ],
   "source": [
    "source_conversion = (\n",
    "    orders.groupby('source_id')\n",
    "    .agg({'uid':'nunique', 'revenue':'sum'})\n",
    "    .rename(columns={'uid':'unique_users'})\n",
    "    .sort_values(by='unique_users',ascending=False)\n",
    ")\n",
    "\n",
    "source_conversion"
   ]
  },
  {
   "cell_type": "code",
   "execution_count": 36,
   "metadata": {},
   "outputs": [
    {
     "data": {
      "image/png": "[encoded data removed]",
      "text/plain": [
       "<Figure size 1296x432 with 2 Axes>"
      ]
     },
     "metadata": {},
     "output_type": "display_data"
    }
   ],
   "source": [
    "# Crear el canvas de Usuarios únicos y el Revenue por Source Id\n",
    "sns.set(style=\"whitegrid\")\n",
    "\n",
    "# Crear figura y subplots\n",
    "fig, axes = plt.subplots(1, 2, figsize=(18, 6))\n",
    "\n",
    "# Primer gráfico: Usuarios únicos\n",
    "sns.barplot(\n",
    "    x=source_conversion.index,\n",
    "    y=source_conversion['unique_users'],\n",
    "    palette='Blues_d',\n",
    "    ax=axes[0]\n",
    ")\n",
    "axes[0].set_title('Usuarios únicos por fuente', fontsize=14)\n",
    "axes[0].set_xlabel('Source Id')\n",
    "axes[0].set_ylabel('Número de usuarios')\n",
    "axes[0].tick_params(axis='x', rotation=45)\n",
    "\n",
    "# Segundo gráfico: Revenue\n",
    "sns.barplot(\n",
    "    x=source_conversion.index,\n",
    "    y=source_conversion['revenue'],\n",
    "    palette='Greens_d',\n",
    "    ax=axes[1]\n",
    ")\n",
    "axes[1].set_title('Revenue por fuente', fontsize=14)\n",
    "axes[1].set_xlabel('Source Id')\n",
    "axes[1].set_ylabel('Revenue ($)')\n",
    "axes[1].tick_params(axis='x', rotation=45)\n",
    "\n",
    "# Ajustar espacio\n",
    "plt.tight_layout()\n",
    "plt.show()\n"
   ]
  },
  {
   "cell_type": "code",
   "execution_count": 37,
   "metadata": {},
   "outputs": [
    {
     "data": {
      "application/vnd.microsoft.datawrangler.viewer.v0+json": {
       "columns": [
        {
         "name": "source_id",
         "rawType": "int64",
         "type": "integer"
        },
        {
         "name": "unique_users",
         "rawType": "int64",
         "type": "integer"
        },
        {
         "name": "revenue",
         "rawType": "float64",
         "type": "float"
        },
        {
         "name": "revenue_per_user",
         "rawType": "float64",
         "type": "float"
        }
       ],
       "conversionMethod": "pd.DataFrame",
       "ref": "993ff4c8-31b2-4867-a0da-1d0ac4d4999d",
       "rows": [
        [
         "1",
         "22431",
         "98724.56",
         "4.40125540546565"
        ],
        [
         "2",
         "9346",
         "66168.56",
         "7.079880162636422"
        ],
        [
         "3",
         "3268",
         "30065.66",
         "9.200018359853122"
        ],
        [
         "4",
         "1079",
         "18180.0",
         "16.84893419833179"
        ],
        [
         "5",
         "321",
         "35459.94",
         "110.46710280373833"
        ],
        [
         "6",
         "55",
         "2676.61",
         "48.66563636363637"
        ],
        [
         "7",
         "9",
         "781.87",
         "86.87444444444445"
        ]
       ],
       "shape": {
        "columns": 3,
        "rows": 7
       }
      },
      "text/html": [
       "<div>\n",
       "<style scoped>\n",
       "    .dataframe tbody tr th:only-of-type {\n",
       "        vertical-align: middle;\n",
       "    }\n",
       "\n",
       "    .dataframe tbody tr th {\n",
       "        vertical-align: top;\n",
       "    }\n",
       "\n",
       "    .dataframe thead th {\n",
       "        text-align: right;\n",
       "    }\n",
       "</style>\n",
       "<table border=\"1\" class=\"dataframe\">\n",
       "  <thead>\n",
       "    <tr style=\"text-align: right;\">\n",
       "      <th></th>\n",
       "      <th>unique_users</th>\n",
       "      <th>revenue</th>\n",
       "      <th>revenue_per_user</th>\n",
       "    </tr>\n",
       "    <tr>\n",
       "      <th>source_id</th>\n",
       "      <th></th>\n",
       "      <th></th>\n",
       "      <th></th>\n",
       "    </tr>\n",
       "  </thead>\n",
       "  <tbody>\n",
       "    <tr>\n",
       "      <th>1</th>\n",
       "      <td>22431</td>\n",
       "      <td>98724.56</td>\n",
       "      <td>4.401255</td>\n",
       "    </tr>\n",
       "    <tr>\n",
       "      <th>2</th>\n",
       "      <td>9346</td>\n",
       "      <td>66168.56</td>\n",
       "      <td>7.079880</td>\n",
       "    </tr>\n",
       "    <tr>\n",
       "      <th>3</th>\n",
       "      <td>3268</td>\n",
       "      <td>30065.66</td>\n",
       "      <td>9.200018</td>\n",
       "    </tr>\n",
       "    <tr>\n",
       "      <th>4</th>\n",
       "      <td>1079</td>\n",
       "      <td>18180.00</td>\n",
       "      <td>16.848934</td>\n",
       "    </tr>\n",
       "    <tr>\n",
       "      <th>5</th>\n",
       "      <td>321</td>\n",
       "      <td>35459.94</td>\n",
       "      <td>110.467103</td>\n",
       "    </tr>\n",
       "    <tr>\n",
       "      <th>6</th>\n",
       "      <td>55</td>\n",
       "      <td>2676.61</td>\n",
       "      <td>48.665636</td>\n",
       "    </tr>\n",
       "    <tr>\n",
       "      <th>7</th>\n",
       "      <td>9</td>\n",
       "      <td>781.87</td>\n",
       "      <td>86.874444</td>\n",
       "    </tr>\n",
       "  </tbody>\n",
       "</table>\n",
       "</div>"
      ],
      "text/plain": [
       "           unique_users   revenue  revenue_per_user\n",
       "source_id                                          \n",
       "1                 22431  98724.56          4.401255\n",
       "2                  9346  66168.56          7.079880\n",
       "3                  3268  30065.66          9.200018\n",
       "4                  1079  18180.00         16.848934\n",
       "5                   321  35459.94        110.467103\n",
       "6                    55   2676.61         48.665636\n",
       "7                     9    781.87         86.874444"
      ]
     },
     "execution_count": 37,
     "metadata": {},
     "output_type": "execute_result"
    }
   ],
   "source": [
    "source_conversion['revenue_per_user'] = (source_conversion.revenue / source_conversion.unique_users)\n",
    "source_conversion"
   ]
  },
  {
   "cell_type": "code",
   "execution_count": 38,
   "metadata": {},
   "outputs": [
    {
     "data": {
      "image/png": "[encoded data removed]",
      "text/plain": [
       "<Figure size 864x432 with 1 Axes>"
      ]
     },
     "metadata": {},
     "output_type": "display_data"
    }
   ],
   "source": [
    "sns.set(style=\"whitegrid\")\n",
    "\n",
    "plt.figure(figsize=(12,6))\n",
    "\n",
    "sns.barplot(\n",
    "    x=source_conversion.index,\n",
    "    y=source_conversion['revenue_per_user'],\n",
    "    palette='Purples_d'\n",
    ")\n",
    "\n",
    "plt.xticks(rotation=45, ha='right')\n",
    "plt.title('Revenue por usuario')\n",
    "plt.xlabel('Source Id')\n",
    "plt.ylabel('Revenue ($)')\n",
    "plt.grid(axis='y', linestyle='--', alpha=0.7)\n",
    "\n",
    "plt.tight_layout()\n",
    "plt.show()"
   ]
  },
  {
   "cell_type": "markdown",
   "metadata": {},
   "source": [
    "Los canales de Mkt que más usuarios únicos atraparon también fueron los canales que más revenue generaron. Sin embargo el source Id 5 llama la atención porque aunque había pocos usuarios únicos, sus resultados de revenue fueron mucho mayores. Al llevar a cabo la gráfica descubrimos que de hecho los últimos source id's son los que más ingresos generaron por usuario. \n",
    "\n",
    "**La recomendación es invertir más en esos sources id's, 5, 6 y 7, para atraer más de esos usuarios que son los que más están dispuestos a gastar en la aplicación.**"
   ]
  },
  {
   "cell_type": "code",
   "execution_count": 39,
   "metadata": {},
   "outputs": [
    {
     "data": {
      "application/vnd.microsoft.datawrangler.viewer.v0+json": {
       "columns": [
        {
         "name": "index",
         "rawType": "int64",
         "type": "integer"
        },
        {
         "name": "buy_ts",
         "rawType": "datetime64[ns]",
         "type": "datetime"
        },
        {
         "name": "revenue",
         "rawType": "float64",
         "type": "float"
        },
        {
         "name": "uid",
         "rawType": "uint64",
         "type": "integer"
        },
        {
         "name": "first_buy_ts",
         "rawType": "datetime64[ns]",
         "type": "datetime"
        },
        {
         "name": "registration_ts",
         "rawType": "datetime64[ns]",
         "type": "datetime"
        },
        {
         "name": "days_to_purchase",
         "rawType": "int64",
         "type": "integer"
        },
        {
         "name": "convertion_delay",
         "rawType": "object",
         "type": "string"
        },
        {
         "name": "source_id",
         "rawType": "int64",
         "type": "integer"
        },
        {
         "name": "month_buy",
         "rawType": "int64",
         "type": "integer"
        },
        {
         "name": "year_buy",
         "rawType": "int64",
         "type": "integer"
        }
       ],
       "conversionMethod": "pd.DataFrame",
       "ref": "e26a2efc-8e3c-477b-8d74-2013ceb0f73f",
       "rows": [
        [
         "10903",
         "2017-09-13 15:08:00",
         "3.67",
         "2148167223562433737",
         "2017-09-13 15:08:00",
         "2017-09-13 15:08:00",
         "0",
         "0d",
         "2",
         "9",
         "2017"
        ],
        [
         "8696",
         "2017-08-24 15:40:00",
         "4.89",
         "9021816583202097861",
         "2017-08-24 15:40:00",
         "2017-08-24 15:40:00",
         "0",
         "0d",
         "2",
         "8",
         "2017"
        ],
        [
         "32016",
         "2018-02-07 12:10:00",
         "1.16",
         "9769372827553885872",
         "2018-01-06 13:36:00",
         "2018-01-06 13:36:00",
         "0",
         "0d",
         "3",
         "2",
         "2018"
        ],
        [
         "31602",
         "2018-01-03 12:59:00",
         "0.67",
         "8390280518447277243",
         "2018-01-03 12:59:00",
         "2018-01-03 12:59:00",
         "0",
         "0d",
         "1",
         "1",
         "2018"
        ],
        [
         "9491",
         "2017-08-31 22:17:00",
         "14.67",
         "7850171525612042447",
         "2017-08-31 15:26:00",
         "2017-08-31 15:26:00",
         "0",
         "0d",
         "2",
         "8",
         "2017"
        ],
        [
         "6967",
         "2017-10-08 13:28:00",
         "22.22",
         "3601099419845979773",
         "2017-07-26 08:17:00",
         "2017-07-26 08:17:00",
         "0",
         "0d",
         "3",
         "10",
         "2017"
        ],
        [
         "2677",
         "2017-06-09 12:58:00",
         "2.08",
         "17719152684044931457",
         "2017-06-09 12:58:00",
         "2017-06-09 12:58:00",
         "0",
         "0d",
         "3",
         "6",
         "2017"
        ],
        [
         "486",
         "2017-06-06 10:38:00",
         "3.05",
         "1210481103526146221",
         "2017-06-02 10:18:00",
         "2017-06-02 10:18:00",
         "0",
         "0d",
         "2",
         "6",
         "2017"
        ],
        [
         "13487",
         "2017-10-01 16:23:00",
         "1.4",
         "5466797489048083406",
         "2017-10-01 16:23:00",
         "2017-10-01 16:23:00",
         "0",
         "0d",
         "1",
         "10",
         "2017"
        ],
        [
         "34011",
         "2018-03-04 12:01:00",
         "0.73",
         "10765652490730753803",
         "2018-01-22 22:38:00",
         "2018-01-22 22:38:00",
         "0",
         "0d",
         "2",
         "3",
         "2018"
        ]
       ],
       "shape": {
        "columns": 10,
        "rows": 10
       }
      },
      "text/html": [
       "<div>\n",
       "<style scoped>\n",
       "    .dataframe tbody tr th:only-of-type {\n",
       "        vertical-align: middle;\n",
       "    }\n",
       "\n",
       "    .dataframe tbody tr th {\n",
       "        vertical-align: top;\n",
       "    }\n",
       "\n",
       "    .dataframe thead th {\n",
       "        text-align: right;\n",
       "    }\n",
       "</style>\n",
       "<table border=\"1\" class=\"dataframe\">\n",
       "  <thead>\n",
       "    <tr style=\"text-align: right;\">\n",
       "      <th></th>\n",
       "      <th>buy_ts</th>\n",
       "      <th>revenue</th>\n",
       "      <th>uid</th>\n",
       "      <th>first_buy_ts</th>\n",
       "      <th>registration_ts</th>\n",
       "      <th>days_to_purchase</th>\n",
       "      <th>convertion_delay</th>\n",
       "      <th>source_id</th>\n",
       "      <th>month_buy</th>\n",
       "      <th>year_buy</th>\n",
       "    </tr>\n",
       "  </thead>\n",
       "  <tbody>\n",
       "    <tr>\n",
       "      <th>10903</th>\n",
       "      <td>2017-09-13 15:08:00</td>\n",
       "      <td>3.67</td>\n",
       "      <td>2148167223562433737</td>\n",
       "      <td>2017-09-13 15:08:00</td>\n",
       "      <td>2017-09-13 15:08:00</td>\n",
       "      <td>0</td>\n",
       "      <td>0d</td>\n",
       "      <td>2</td>\n",
       "      <td>9</td>\n",
       "      <td>2017</td>\n",
       "    </tr>\n",
       "    <tr>\n",
       "      <th>8696</th>\n",
       "      <td>2017-08-24 15:40:00</td>\n",
       "      <td>4.89</td>\n",
       "      <td>9021816583202097861</td>\n",
       "      <td>2017-08-24 15:40:00</td>\n",
       "      <td>2017-08-24 15:40:00</td>\n",
       "      <td>0</td>\n",
       "      <td>0d</td>\n",
       "      <td>2</td>\n",
       "      <td>8</td>\n",
       "      <td>2017</td>\n",
       "    </tr>\n",
       "    <tr>\n",
       "      <th>32016</th>\n",
       "      <td>2018-02-07 12:10:00</td>\n",
       "      <td>1.16</td>\n",
       "      <td>9769372827553885872</td>\n",
       "      <td>2018-01-06 13:36:00</td>\n",
       "      <td>2018-01-06 13:36:00</td>\n",
       "      <td>0</td>\n",
       "      <td>0d</td>\n",
       "      <td>3</td>\n",
       "      <td>2</td>\n",
       "      <td>2018</td>\n",
       "    </tr>\n",
       "    <tr>\n",
       "      <th>31602</th>\n",
       "      <td>2018-01-03 12:59:00</td>\n",
       "      <td>0.67</td>\n",
       "      <td>8390280518447277243</td>\n",
       "      <td>2018-01-03 12:59:00</td>\n",
       "      <td>2018-01-03 12:59:00</td>\n",
       "      <td>0</td>\n",
       "      <td>0d</td>\n",
       "      <td>1</td>\n",
       "      <td>1</td>\n",
       "      <td>2018</td>\n",
       "    </tr>\n",
       "    <tr>\n",
       "      <th>9491</th>\n",
       "      <td>2017-08-31 22:17:00</td>\n",
       "      <td>14.67</td>\n",
       "      <td>7850171525612042447</td>\n",
       "      <td>2017-08-31 15:26:00</td>\n",
       "      <td>2017-08-31 15:26:00</td>\n",
       "      <td>0</td>\n",
       "      <td>0d</td>\n",
       "      <td>2</td>\n",
       "      <td>8</td>\n",
       "      <td>2017</td>\n",
       "    </tr>\n",
       "    <tr>\n",
       "      <th>6967</th>\n",
       "      <td>2017-10-08 13:28:00</td>\n",
       "      <td>22.22</td>\n",
       "      <td>3601099419845979773</td>\n",
       "      <td>2017-07-26 08:17:00</td>\n",
       "      <td>2017-07-26 08:17:00</td>\n",
       "      <td>0</td>\n",
       "      <td>0d</td>\n",
       "      <td>3</td>\n",
       "      <td>10</td>\n",
       "      <td>2017</td>\n",
       "    </tr>\n",
       "    <tr>\n",
       "      <th>2677</th>\n",
       "      <td>2017-06-09 12:58:00</td>\n",
       "      <td>2.08</td>\n",
       "      <td>17719152684044931457</td>\n",
       "      <td>2017-06-09 12:58:00</td>\n",
       "      <td>2017-06-09 12:58:00</td>\n",
       "      <td>0</td>\n",
       "      <td>0d</td>\n",
       "      <td>3</td>\n",
       "      <td>6</td>\n",
       "      <td>2017</td>\n",
       "    </tr>\n",
       "    <tr>\n",
       "      <th>486</th>\n",
       "      <td>2017-06-06 10:38:00</td>\n",
       "      <td>3.05</td>\n",
       "      <td>1210481103526146221</td>\n",
       "      <td>2017-06-02 10:18:00</td>\n",
       "      <td>2017-06-02 10:18:00</td>\n",
       "      <td>0</td>\n",
       "      <td>0d</td>\n",
       "      <td>2</td>\n",
       "      <td>6</td>\n",
       "      <td>2017</td>\n",
       "    </tr>\n",
       "    <tr>\n",
       "      <th>13487</th>\n",
       "      <td>2017-10-01 16:23:00</td>\n",
       "      <td>1.40</td>\n",
       "      <td>5466797489048083406</td>\n",
       "      <td>2017-10-01 16:23:00</td>\n",
       "      <td>2017-10-01 16:23:00</td>\n",
       "      <td>0</td>\n",
       "      <td>0d</td>\n",
       "      <td>1</td>\n",
       "      <td>10</td>\n",
       "      <td>2017</td>\n",
       "    </tr>\n",
       "    <tr>\n",
       "      <th>34011</th>\n",
       "      <td>2018-03-04 12:01:00</td>\n",
       "      <td>0.73</td>\n",
       "      <td>10765652490730753803</td>\n",
       "      <td>2018-01-22 22:38:00</td>\n",
       "      <td>2018-01-22 22:38:00</td>\n",
       "      <td>0</td>\n",
       "      <td>0d</td>\n",
       "      <td>2</td>\n",
       "      <td>3</td>\n",
       "      <td>2018</td>\n",
       "    </tr>\n",
       "  </tbody>\n",
       "</table>\n",
       "</div>"
      ],
      "text/plain": [
       "                   buy_ts  revenue                   uid        first_buy_ts  \\\n",
       "10903 2017-09-13 15:08:00     3.67   2148167223562433737 2017-09-13 15:08:00   \n",
       "8696  2017-08-24 15:40:00     4.89   9021816583202097861 2017-08-24 15:40:00   \n",
       "32016 2018-02-07 12:10:00     1.16   9769372827553885872 2018-01-06 13:36:00   \n",
       "31602 2018-01-03 12:59:00     0.67   8390280518447277243 2018-01-03 12:59:00   \n",
       "9491  2017-08-31 22:17:00    14.67   7850171525612042447 2017-08-31 15:26:00   \n",
       "6967  2017-10-08 13:28:00    22.22   3601099419845979773 2017-07-26 08:17:00   \n",
       "2677  2017-06-09 12:58:00     2.08  17719152684044931457 2017-06-09 12:58:00   \n",
       "486   2017-06-06 10:38:00     3.05   1210481103526146221 2017-06-02 10:18:00   \n",
       "13487 2017-10-01 16:23:00     1.40   5466797489048083406 2017-10-01 16:23:00   \n",
       "34011 2018-03-04 12:01:00     0.73  10765652490730753803 2018-01-22 22:38:00   \n",
       "\n",
       "          registration_ts  days_to_purchase convertion_delay  source_id  \\\n",
       "10903 2017-09-13 15:08:00                 0               0d          2   \n",
       "8696  2017-08-24 15:40:00                 0               0d          2   \n",
       "32016 2018-01-06 13:36:00                 0               0d          3   \n",
       "31602 2018-01-03 12:59:00                 0               0d          1   \n",
       "9491  2017-08-31 15:26:00                 0               0d          2   \n",
       "6967  2017-07-26 08:17:00                 0               0d          3   \n",
       "2677  2017-06-09 12:58:00                 0               0d          3   \n",
       "486   2017-06-02 10:18:00                 0               0d          2   \n",
       "13487 2017-10-01 16:23:00                 0               0d          1   \n",
       "34011 2018-01-22 22:38:00                 0               0d          2   \n",
       "\n",
       "       month_buy  year_buy  \n",
       "10903          9      2017  \n",
       "8696           8      2017  \n",
       "32016          2      2018  \n",
       "31602          1      2018  \n",
       "9491           8      2017  \n",
       "6967          10      2017  \n",
       "2677           6      2017  \n",
       "486            6      2017  \n",
       "13487         10      2017  \n",
       "34011          3      2018  "
      ]
     },
     "execution_count": 39,
     "metadata": {},
     "output_type": "execute_result"
    }
   ],
   "source": [
    "# Cuántos pedidos se hacen en un periodo de compra? \n",
    "orders['month_buy'] = orders.buy_ts.dt.month\n",
    "orders['year_buy'] = orders.buy_ts.dt.year\n",
    "orders.sample(10)"
   ]
  },
  {
   "cell_type": "code",
   "execution_count": 48,
   "metadata": {},
   "outputs": [
    {
     "data": {
      "image/png": "[encoded data removed]",
      "text/plain": [
       "<Figure size 864x432 with 1 Axes>"
      ]
     },
     "metadata": {},
     "output_type": "display_data"
    }
   ],
   "source": [
    "revenue_by_month = orders.groupby(['year_buy', 'month_buy'])['revenue'].sum().reset_index()\n",
    "\n",
    "# Crear una columna tipo fecha con año y mes (como string)\n",
    "revenue_by_month['period'] = revenue_by_month['year_buy'].astype(str) + '-' + revenue_by_month['month_buy'].astype(str).str.zfill(2)\n",
    "\n",
    "\n",
    "plt.figure(figsize=(12,6))\n",
    "plt.bar(revenue_by_month.period, revenue_by_month['revenue'], color='lightgreen')\n",
    "plt.xticks(rotation=45, ha='right')\n",
    "plt.title('Revenue por mes')\n",
    "plt.xlabel('Mes')\n",
    "plt.ylabel('Revenue ($)')\n",
    "plt.grid(axis='y', linestyle='--', alpha=0.7)\n",
    "plt.tight_layout()\n",
    "plt.show()\n"
   ]
  },
  {
   "cell_type": "markdown",
   "metadata": {},
   "source": [
    "## Marketing:\n",
    " 1. ¿Cuánto dinero se gastó?  (Total/por fuente de adquisición/a lo largo del tiempo) \n",
    " 2. ¿Cuál fue el costo de adquisición de clientes de cada una de las fuentes?\n",
    " 3. ¿Cuán rentables eran las inversiones? (ROMI)\n",
    "Traza gráficos para mostrar cómo difieren estas métricas para varios dispositivos y fuentes de anuncios y cómo cambian con el tiempo. "
   ]
  },
  {
   "cell_type": "markdown",
   "metadata": {},
   "source": []
  },
  {
   "cell_type": "code",
   "execution_count": null,
   "metadata": {},
   "outputs": [],
   "source": []
  }
 ],
 "metadata": {
  "kernelspec": {
   "display_name": "base",
   "language": "python",
   "name": "python3"
  },
  "language_info": {
   "codemirror_mode": {
    "name": "ipython",
    "version": 3
   },
   "file_extension": ".py",
   "mimetype": "text/x-python",
   "name": "python",
   "nbconvert_exporter": "python",
   "pygments_lexer": "ipython3",
   "version": "3.9.21"
  }
 },
 "nbformat": 4,
 "nbformat_minor": 2
}
