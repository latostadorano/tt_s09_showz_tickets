{
 "cells": [
  {
   "cell_type": "markdown",
   "metadata": {},
   "source": [
    "# **Sprint 9 Showz analysis**"
   ]
  },
  {
   "cell_type": "markdown",
   "metadata": {},
   "source": [
    "## Paso 1. Acceda los datos y prepáralos para el análisis\n",
    "\n",
    "Almacena los datos de visitas, pedidos y gastos en variables.  Optimiza los datos para el análisis. Asegúrate de que cada columna contenga el tipo de datos correcto. \n",
    "\n",
    "\n"
   ]
  },
  {
   "cell_type": "code",
   "execution_count": 1,
   "metadata": {},
   "outputs": [],
   "source": [
    "# cargar librerías\n",
    "import pandas as pd \n",
    "import numpy as np\n",
    "import re \n"
   ]
  },
  {
   "cell_type": "code",
   "execution_count": 2,
   "metadata": {},
   "outputs": [
    {
     "name": "stdout",
     "output_type": "stream",
     "text": [
      "    Device               End Ts  Source Id             Start Ts  \\\n",
      "0    touch  2017-12-20 17:38:00          4  2017-12-20 17:20:00   \n",
      "1  desktop  2018-02-19 17:21:00          2  2018-02-19 16:53:00   \n",
      "2    touch  2017-07-01 01:54:00          5  2017-07-01 01:54:00   \n",
      "3  desktop  2018-05-20 11:23:00          9  2018-05-20 10:59:00   \n",
      "4  desktop  2017-12-27 14:06:00          3  2017-12-27 14:06:00   \n",
      "\n",
      "                    Uid  \n",
      "0  16879256277535980062  \n",
      "1    104060357244891740  \n",
      "2   7459035603376831527  \n",
      "3  16174680259334210214  \n",
      "4   9969694820036681168  \n",
      "-------\n",
      "                Buy Ts  Revenue                   Uid\n",
      "0  2017-06-01 00:10:00    17.00  10329302124590727494\n",
      "1  2017-06-01 00:25:00     0.55  11627257723692907447\n",
      "2  2017-06-01 00:27:00     0.37  17903680561304213844\n",
      "3  2017-06-01 00:29:00     0.55  16109239769442553005\n",
      "4  2017-06-01 07:58:00     0.37  14200605875248379450\n",
      "-------\n",
      "   source_id          dt  costs\n",
      "0          1  2017-06-01  75.20\n",
      "1          1  2017-06-02  62.25\n",
      "2          1  2017-06-03  36.53\n",
      "3          1  2017-06-04  55.00\n",
      "4          1  2017-06-05  57.08\n",
      "-------\n"
     ]
    }
   ],
   "source": [
    "# importar datos\n",
    "visits = pd.read_csv('https://code.s3.yandex.net/datasets/visits_log_us.csv')\n",
    "print(visits.head())\n",
    "print('-------')\n",
    "orders = pd.read_csv('https://code.s3.yandex.net/datasets/orders_log_us.csv')\n",
    "print(orders.head())\n",
    "print('-------')\n",
    "costs = pd.read_csv('https://code.s3.yandex.net/datasets/costs_us.csv')\n",
    "print(costs.head())\n",
    "print('-------')"
   ]
  },
  {
   "cell_type": "markdown",
   "metadata": {},
   "source": [
    "### Examinar visits"
   ]
  },
  {
   "cell_type": "code",
   "execution_count": 3,
   "metadata": {},
   "outputs": [
    {
     "name": "stdout",
     "output_type": "stream",
     "text": [
      "<class 'pandas.core.frame.DataFrame'>\n",
      "RangeIndex: 359400 entries, 0 to 359399\n",
      "Data columns (total 5 columns):\n",
      " #   Column     Non-Null Count   Dtype \n",
      "---  ------     --------------   ----- \n",
      " 0   Device     359400 non-null  object\n",
      " 1   End Ts     359400 non-null  object\n",
      " 2   Source Id  359400 non-null  int64 \n",
      " 3   Start Ts   359400 non-null  object\n",
      " 4   Uid        359400 non-null  uint64\n",
      "dtypes: int64(1), object(3), uint64(1)\n",
      "memory usage: 13.7+ MB\n"
     ]
    }
   ],
   "source": [
    "# Examine visits\n",
    "visits.info()"
   ]
  },
  {
   "cell_type": "code",
   "execution_count": 4,
   "metadata": {},
   "outputs": [
    {
     "data": {
      "text/plain": [
       "Device\n",
       "desktop    262567\n",
       "touch       96833\n",
       "Name: count, dtype: int64"
      ]
     },
     "execution_count": 4,
     "metadata": {},
     "output_type": "execute_result"
    }
   ],
   "source": [
    "visits['Device'].value_counts()"
   ]
  },
  {
   "cell_type": "code",
   "execution_count": 5,
   "metadata": {},
   "outputs": [
    {
     "data": {
      "text/plain": [
       "Source Id\n",
       "4     101794\n",
       "3      85610\n",
       "5      66905\n",
       "2      47626\n",
       "1      34121\n",
       "9      13277\n",
       "10     10025\n",
       "7         36\n",
       "6          6\n",
       "Name: count, dtype: int64"
      ]
     },
     "execution_count": 5,
     "metadata": {},
     "output_type": "execute_result"
    }
   ],
   "source": [
    "visits['Source Id'].value_counts()"
   ]
  },
  {
   "cell_type": "markdown",
   "metadata": {},
   "source": [
    "### Limpiar visits\n",
    "1. Columnas a minúsculas\n",
    "2. End Ts y Start Ts a formato fecha"
   ]
  },
  {
   "cell_type": "code",
   "execution_count": 6,
   "metadata": {},
   "outputs": [],
   "source": [
    "# Función para limpiar columnas\n",
    "def clean_col_names(df):\n",
    "    df = df.copy()\n",
    "    df.columns = [\n",
    "        re.sub(r'\\W+', '_', col).strip('_').lower()\n",
    "        for col in df.columns\n",
    "    ]\n",
    "    return df\n"
   ]
  },
  {
   "cell_type": "code",
   "execution_count": 7,
   "metadata": {},
   "outputs": [
    {
     "data": {
      "text/html": [
       "<div>\n",
       "<style scoped>\n",
       "    .dataframe tbody tr th:only-of-type {\n",
       "        vertical-align: middle;\n",
       "    }\n",
       "\n",
       "    .dataframe tbody tr th {\n",
       "        vertical-align: top;\n",
       "    }\n",
       "\n",
       "    .dataframe thead th {\n",
       "        text-align: right;\n",
       "    }\n",
       "</style>\n",
       "<table border=\"1\" class=\"dataframe\">\n",
       "  <thead>\n",
       "    <tr style=\"text-align: right;\">\n",
       "      <th></th>\n",
       "      <th>device</th>\n",
       "      <th>end_ts</th>\n",
       "      <th>source_id</th>\n",
       "      <th>start_ts</th>\n",
       "      <th>uid</th>\n",
       "    </tr>\n",
       "  </thead>\n",
       "  <tbody>\n",
       "    <tr>\n",
       "      <th>0</th>\n",
       "      <td>touch</td>\n",
       "      <td>2017-12-20 17:38:00</td>\n",
       "      <td>4</td>\n",
       "      <td>2017-12-20 17:20:00</td>\n",
       "      <td>16879256277535980062</td>\n",
       "    </tr>\n",
       "    <tr>\n",
       "      <th>1</th>\n",
       "      <td>desktop</td>\n",
       "      <td>2018-02-19 17:21:00</td>\n",
       "      <td>2</td>\n",
       "      <td>2018-02-19 16:53:00</td>\n",
       "      <td>104060357244891740</td>\n",
       "    </tr>\n",
       "    <tr>\n",
       "      <th>2</th>\n",
       "      <td>touch</td>\n",
       "      <td>2017-07-01 01:54:00</td>\n",
       "      <td>5</td>\n",
       "      <td>2017-07-01 01:54:00</td>\n",
       "      <td>7459035603376831527</td>\n",
       "    </tr>\n",
       "    <tr>\n",
       "      <th>3</th>\n",
       "      <td>desktop</td>\n",
       "      <td>2018-05-20 11:23:00</td>\n",
       "      <td>9</td>\n",
       "      <td>2018-05-20 10:59:00</td>\n",
       "      <td>16174680259334210214</td>\n",
       "    </tr>\n",
       "    <tr>\n",
       "      <th>4</th>\n",
       "      <td>desktop</td>\n",
       "      <td>2017-12-27 14:06:00</td>\n",
       "      <td>3</td>\n",
       "      <td>2017-12-27 14:06:00</td>\n",
       "      <td>9969694820036681168</td>\n",
       "    </tr>\n",
       "    <tr>\n",
       "      <th>...</th>\n",
       "      <td>...</td>\n",
       "      <td>...</td>\n",
       "      <td>...</td>\n",
       "      <td>...</td>\n",
       "      <td>...</td>\n",
       "    </tr>\n",
       "    <tr>\n",
       "      <th>359395</th>\n",
       "      <td>desktop</td>\n",
       "      <td>2017-07-29 19:07:19</td>\n",
       "      <td>2</td>\n",
       "      <td>2017-07-29 19:07:00</td>\n",
       "      <td>18363291481961487539</td>\n",
       "    </tr>\n",
       "    <tr>\n",
       "      <th>359396</th>\n",
       "      <td>touch</td>\n",
       "      <td>2018-01-25 17:38:19</td>\n",
       "      <td>1</td>\n",
       "      <td>2018-01-25 17:38:00</td>\n",
       "      <td>18370831553019119586</td>\n",
       "    </tr>\n",
       "    <tr>\n",
       "      <th>359397</th>\n",
       "      <td>desktop</td>\n",
       "      <td>2018-03-03 10:12:19</td>\n",
       "      <td>4</td>\n",
       "      <td>2018-03-03 10:12:00</td>\n",
       "      <td>18387297585500748294</td>\n",
       "    </tr>\n",
       "    <tr>\n",
       "      <th>359398</th>\n",
       "      <td>desktop</td>\n",
       "      <td>2017-11-02 10:12:19</td>\n",
       "      <td>5</td>\n",
       "      <td>2017-11-02 10:12:00</td>\n",
       "      <td>18388616944624776485</td>\n",
       "    </tr>\n",
       "    <tr>\n",
       "      <th>359399</th>\n",
       "      <td>touch</td>\n",
       "      <td>2017-09-10 13:13:19</td>\n",
       "      <td>2</td>\n",
       "      <td>2017-09-10 13:13:00</td>\n",
       "      <td>18396128934054549559</td>\n",
       "    </tr>\n",
       "  </tbody>\n",
       "</table>\n",
       "<p>359400 rows × 5 columns</p>\n",
       "</div>"
      ],
      "text/plain": [
       "         device               end_ts  source_id             start_ts  \\\n",
       "0         touch  2017-12-20 17:38:00          4  2017-12-20 17:20:00   \n",
       "1       desktop  2018-02-19 17:21:00          2  2018-02-19 16:53:00   \n",
       "2         touch  2017-07-01 01:54:00          5  2017-07-01 01:54:00   \n",
       "3       desktop  2018-05-20 11:23:00          9  2018-05-20 10:59:00   \n",
       "4       desktop  2017-12-27 14:06:00          3  2017-12-27 14:06:00   \n",
       "...         ...                  ...        ...                  ...   \n",
       "359395  desktop  2017-07-29 19:07:19          2  2017-07-29 19:07:00   \n",
       "359396    touch  2018-01-25 17:38:19          1  2018-01-25 17:38:00   \n",
       "359397  desktop  2018-03-03 10:12:19          4  2018-03-03 10:12:00   \n",
       "359398  desktop  2017-11-02 10:12:19          5  2017-11-02 10:12:00   \n",
       "359399    touch  2017-09-10 13:13:19          2  2017-09-10 13:13:00   \n",
       "\n",
       "                         uid  \n",
       "0       16879256277535980062  \n",
       "1         104060357244891740  \n",
       "2        7459035603376831527  \n",
       "3       16174680259334210214  \n",
       "4        9969694820036681168  \n",
       "...                      ...  \n",
       "359395  18363291481961487539  \n",
       "359396  18370831553019119586  \n",
       "359397  18387297585500748294  \n",
       "359398  18388616944624776485  \n",
       "359399  18396128934054549559  \n",
       "\n",
       "[359400 rows x 5 columns]"
      ]
     },
     "execution_count": 7,
     "metadata": {},
     "output_type": "execute_result"
    }
   ],
   "source": [
    "# Limpiar visits.columns\n",
    "visits = clean_col_names(visits)\n",
    "visits"
   ]
  },
  {
   "cell_type": "code",
   "execution_count": 8,
   "metadata": {},
   "outputs": [
    {
     "name": "stdout",
     "output_type": "stream",
     "text": [
      "<class 'pandas.core.frame.DataFrame'>\n",
      "RangeIndex: 359400 entries, 0 to 359399\n",
      "Data columns (total 5 columns):\n",
      " #   Column     Non-Null Count   Dtype         \n",
      "---  ------     --------------   -----         \n",
      " 0   device     359400 non-null  object        \n",
      " 1   end_ts     359400 non-null  datetime64[ns]\n",
      " 2   source_id  359400 non-null  int64         \n",
      " 3   start_ts   359400 non-null  datetime64[ns]\n",
      " 4   uid        359400 non-null  uint64        \n",
      "dtypes: datetime64[ns](2), int64(1), object(1), uint64(1)\n",
      "memory usage: 13.7+ MB\n",
      "None\n"
     ]
    }
   ],
   "source": [
    "# Cambiar end_ts y start_ts a formato fecha\n",
    "visits.end_ts = pd.to_datetime(visits['end_ts'])\n",
    "visits.start_ts = pd.to_datetime(visits['start_ts'])\n",
    "print(visits.info())"
   ]
  },
  {
   "cell_type": "code",
   "execution_count": 9,
   "metadata": {},
   "outputs": [
    {
     "data": {
      "text/html": [
       "<div>\n",
       "<style scoped>\n",
       "    .dataframe tbody tr th:only-of-type {\n",
       "        vertical-align: middle;\n",
       "    }\n",
       "\n",
       "    .dataframe tbody tr th {\n",
       "        vertical-align: top;\n",
       "    }\n",
       "\n",
       "    .dataframe thead th {\n",
       "        text-align: right;\n",
       "    }\n",
       "</style>\n",
       "<table border=\"1\" class=\"dataframe\">\n",
       "  <thead>\n",
       "    <tr style=\"text-align: right;\">\n",
       "      <th></th>\n",
       "      <th>device</th>\n",
       "      <th>end_ts</th>\n",
       "      <th>source_id</th>\n",
       "      <th>start_ts</th>\n",
       "      <th>uid</th>\n",
       "    </tr>\n",
       "  </thead>\n",
       "  <tbody>\n",
       "    <tr>\n",
       "      <th>246364</th>\n",
       "      <td>desktop</td>\n",
       "      <td>2017-07-17 13:21:00</td>\n",
       "      <td>3</td>\n",
       "      <td>2017-07-17 13:15:00</td>\n",
       "      <td>14255262722907501072</td>\n",
       "    </tr>\n",
       "    <tr>\n",
       "      <th>207012</th>\n",
       "      <td>desktop</td>\n",
       "      <td>2017-06-02 00:06:00</td>\n",
       "      <td>3</td>\n",
       "      <td>2017-06-01 23:57:00</td>\n",
       "      <td>896797720532527486</td>\n",
       "    </tr>\n",
       "    <tr>\n",
       "      <th>167688</th>\n",
       "      <td>touch</td>\n",
       "      <td>2018-03-26 19:01:00</td>\n",
       "      <td>9</td>\n",
       "      <td>2018-03-26 18:56:00</td>\n",
       "      <td>6969744024694453173</td>\n",
       "    </tr>\n",
       "    <tr>\n",
       "      <th>132753</th>\n",
       "      <td>desktop</td>\n",
       "      <td>2018-04-20 12:33:00</td>\n",
       "      <td>4</td>\n",
       "      <td>2018-04-20 12:07:00</td>\n",
       "      <td>1385465763220671820</td>\n",
       "    </tr>\n",
       "    <tr>\n",
       "      <th>290653</th>\n",
       "      <td>desktop</td>\n",
       "      <td>2017-10-02 17:17:00</td>\n",
       "      <td>3</td>\n",
       "      <td>2017-10-02 17:15:00</td>\n",
       "      <td>4124550037295753441</td>\n",
       "    </tr>\n",
       "    <tr>\n",
       "      <th>269505</th>\n",
       "      <td>desktop</td>\n",
       "      <td>2018-02-08 13:20:00</td>\n",
       "      <td>2</td>\n",
       "      <td>2018-02-08 13:13:00</td>\n",
       "      <td>4500303099270619281</td>\n",
       "    </tr>\n",
       "    <tr>\n",
       "      <th>309044</th>\n",
       "      <td>touch</td>\n",
       "      <td>2018-03-06 00:24:00</td>\n",
       "      <td>1</td>\n",
       "      <td>2018-03-06 00:22:00</td>\n",
       "      <td>15490666270540204380</td>\n",
       "    </tr>\n",
       "    <tr>\n",
       "      <th>323254</th>\n",
       "      <td>desktop</td>\n",
       "      <td>2017-07-03 22:27:00</td>\n",
       "      <td>4</td>\n",
       "      <td>2017-07-03 22:24:00</td>\n",
       "      <td>8724771361680560339</td>\n",
       "    </tr>\n",
       "    <tr>\n",
       "      <th>134155</th>\n",
       "      <td>desktop</td>\n",
       "      <td>2018-03-26 00:13:00</td>\n",
       "      <td>2</td>\n",
       "      <td>2018-03-25 23:55:00</td>\n",
       "      <td>9889203162911030471</td>\n",
       "    </tr>\n",
       "    <tr>\n",
       "      <th>218825</th>\n",
       "      <td>desktop</td>\n",
       "      <td>2017-06-18 22:55:00</td>\n",
       "      <td>4</td>\n",
       "      <td>2017-06-18 22:44:00</td>\n",
       "      <td>7864820892912060569</td>\n",
       "    </tr>\n",
       "  </tbody>\n",
       "</table>\n",
       "</div>"
      ],
      "text/plain": [
       "         device              end_ts  source_id            start_ts  \\\n",
       "246364  desktop 2017-07-17 13:21:00          3 2017-07-17 13:15:00   \n",
       "207012  desktop 2017-06-02 00:06:00          3 2017-06-01 23:57:00   \n",
       "167688    touch 2018-03-26 19:01:00          9 2018-03-26 18:56:00   \n",
       "132753  desktop 2018-04-20 12:33:00          4 2018-04-20 12:07:00   \n",
       "290653  desktop 2017-10-02 17:17:00          3 2017-10-02 17:15:00   \n",
       "269505  desktop 2018-02-08 13:20:00          2 2018-02-08 13:13:00   \n",
       "309044    touch 2018-03-06 00:24:00          1 2018-03-06 00:22:00   \n",
       "323254  desktop 2017-07-03 22:27:00          4 2017-07-03 22:24:00   \n",
       "134155  desktop 2018-03-26 00:13:00          2 2018-03-25 23:55:00   \n",
       "218825  desktop 2017-06-18 22:55:00          4 2017-06-18 22:44:00   \n",
       "\n",
       "                         uid  \n",
       "246364  14255262722907501072  \n",
       "207012    896797720532527486  \n",
       "167688   6969744024694453173  \n",
       "132753   1385465763220671820  \n",
       "290653   4124550037295753441  \n",
       "269505   4500303099270619281  \n",
       "309044  15490666270540204380  \n",
       "323254   8724771361680560339  \n",
       "134155   9889203162911030471  \n",
       "218825   7864820892912060569  "
      ]
     },
     "execution_count": 9,
     "metadata": {},
     "output_type": "execute_result"
    }
   ],
   "source": [
    "visits.sample(10)"
   ]
  },
  {
   "cell_type": "markdown",
   "metadata": {},
   "source": [
    "### Examinar orders"
   ]
  },
  {
   "cell_type": "code",
   "execution_count": 10,
   "metadata": {},
   "outputs": [
    {
     "name": "stdout",
     "output_type": "stream",
     "text": [
      "<class 'pandas.core.frame.DataFrame'>\n",
      "RangeIndex: 50415 entries, 0 to 50414\n",
      "Data columns (total 3 columns):\n",
      " #   Column   Non-Null Count  Dtype  \n",
      "---  ------   --------------  -----  \n",
      " 0   Buy Ts   50415 non-null  object \n",
      " 1   Revenue  50415 non-null  float64\n",
      " 2   Uid      50415 non-null  uint64 \n",
      "dtypes: float64(1), object(1), uint64(1)\n",
      "memory usage: 1.2+ MB\n"
     ]
    }
   ],
   "source": [
    "# Examine orders\n",
    "orders.info()"
   ]
  },
  {
   "cell_type": "code",
   "execution_count": 11,
   "metadata": {},
   "outputs": [
    {
     "data": {
      "text/plain": [
       "count    50415.000000\n",
       "mean         4.999647\n",
       "std         21.818359\n",
       "min          0.000000\n",
       "25%          1.220000\n",
       "50%          2.500000\n",
       "75%          4.890000\n",
       "max       2633.280000\n",
       "Name: Revenue, dtype: float64"
      ]
     },
     "execution_count": 11,
     "metadata": {},
     "output_type": "execute_result"
    }
   ],
   "source": [
    "orders['Revenue'].describe()"
   ]
  },
  {
   "cell_type": "code",
   "execution_count": 12,
   "metadata": {},
   "outputs": [
    {
     "data": {
      "text/html": [
       "<div>\n",
       "<style scoped>\n",
       "    .dataframe tbody tr th:only-of-type {\n",
       "        vertical-align: middle;\n",
       "    }\n",
       "\n",
       "    .dataframe tbody tr th {\n",
       "        vertical-align: top;\n",
       "    }\n",
       "\n",
       "    .dataframe thead th {\n",
       "        text-align: right;\n",
       "    }\n",
       "</style>\n",
       "<table border=\"1\" class=\"dataframe\">\n",
       "  <thead>\n",
       "    <tr style=\"text-align: right;\">\n",
       "      <th></th>\n",
       "      <th>Buy Ts</th>\n",
       "      <th>Revenue</th>\n",
       "      <th>Uid</th>\n",
       "    </tr>\n",
       "  </thead>\n",
       "  <tbody>\n",
       "    <tr>\n",
       "      <th>23165</th>\n",
       "      <td>2017-12-10 13:04:00</td>\n",
       "      <td>1195.64</td>\n",
       "      <td>5539673724080479777</td>\n",
       "    </tr>\n",
       "    <tr>\n",
       "      <th>23244</th>\n",
       "      <td>2017-12-10 20:17:00</td>\n",
       "      <td>2633.28</td>\n",
       "      <td>5539673724080479777</td>\n",
       "    </tr>\n",
       "    <tr>\n",
       "      <th>24607</th>\n",
       "      <td>2017-12-17 18:06:00</td>\n",
       "      <td>1109.10</td>\n",
       "      <td>11149926373378902217</td>\n",
       "    </tr>\n",
       "    <tr>\n",
       "      <th>36522</th>\n",
       "      <td>2018-02-23 08:54:00</td>\n",
       "      <td>1236.28</td>\n",
       "      <td>11149926373378902217</td>\n",
       "    </tr>\n",
       "    <tr>\n",
       "      <th>36682</th>\n",
       "      <td>2018-02-24 09:25:00</td>\n",
       "      <td>1221.37</td>\n",
       "      <td>11149926373378902217</td>\n",
       "    </tr>\n",
       "    <tr>\n",
       "      <th>40386</th>\n",
       "      <td>2018-03-18 09:13:00</td>\n",
       "      <td>1073.11</td>\n",
       "      <td>11149926373378902217</td>\n",
       "    </tr>\n",
       "    <tr>\n",
       "      <th>47507</th>\n",
       "      <td>2018-05-16 19:53:00</td>\n",
       "      <td>1080.44</td>\n",
       "      <td>11149926373378902217</td>\n",
       "    </tr>\n",
       "  </tbody>\n",
       "</table>\n",
       "</div>"
      ],
      "text/plain": [
       "                    Buy Ts  Revenue                   Uid\n",
       "23165  2017-12-10 13:04:00  1195.64   5539673724080479777\n",
       "23244  2017-12-10 20:17:00  2633.28   5539673724080479777\n",
       "24607  2017-12-17 18:06:00  1109.10  11149926373378902217\n",
       "36522  2018-02-23 08:54:00  1236.28  11149926373378902217\n",
       "36682  2018-02-24 09:25:00  1221.37  11149926373378902217\n",
       "40386  2018-03-18 09:13:00  1073.11  11149926373378902217\n",
       "47507  2018-05-16 19:53:00  1080.44  11149926373378902217"
      ]
     },
     "execution_count": 12,
     "metadata": {},
     "output_type": "execute_result"
    }
   ],
   "source": [
    "orders[orders.Revenue > 1000]"
   ]
  },
  {
   "cell_type": "markdown",
   "metadata": {},
   "source": [
    "### Limpiar orders\n",
    "\n",
    "1. limpiar nombres de columnas\n",
    "2. 'Buy Ts' a formato fecha"
   ]
  },
  {
   "cell_type": "code",
   "execution_count": 13,
   "metadata": {},
   "outputs": [
    {
     "name": "stdout",
     "output_type": "stream",
     "text": [
      "<class 'pandas.core.frame.DataFrame'>\n",
      "RangeIndex: 50415 entries, 0 to 50414\n",
      "Data columns (total 3 columns):\n",
      " #   Column   Non-Null Count  Dtype         \n",
      "---  ------   --------------  -----         \n",
      " 0   buy_ts   50415 non-null  datetime64[ns]\n",
      " 1   revenue  50415 non-null  float64       \n",
      " 2   uid      50415 non-null  uint64        \n",
      "dtypes: datetime64[ns](1), float64(1), uint64(1)\n",
      "memory usage: 1.2 MB\n"
     ]
    }
   ],
   "source": [
    "orders = clean_col_names(orders)\n",
    "orders.buy_ts = pd.to_datetime(orders.buy_ts)\n",
    "orders.info()"
   ]
  },
  {
   "cell_type": "markdown",
   "metadata": {},
   "source": [
    "### Examinar costs"
   ]
  },
  {
   "cell_type": "code",
   "execution_count": 14,
   "metadata": {},
   "outputs": [
    {
     "name": "stdout",
     "output_type": "stream",
     "text": [
      "<class 'pandas.core.frame.DataFrame'>\n",
      "RangeIndex: 2542 entries, 0 to 2541\n",
      "Data columns (total 3 columns):\n",
      " #   Column     Non-Null Count  Dtype  \n",
      "---  ------     --------------  -----  \n",
      " 0   source_id  2542 non-null   int64  \n",
      " 1   dt         2542 non-null   object \n",
      " 2   costs      2542 non-null   float64\n",
      "dtypes: float64(1), int64(1), object(1)\n",
      "memory usage: 59.7+ KB\n"
     ]
    }
   ],
   "source": [
    "# Examine costs\n",
    "costs.info()"
   ]
  },
  {
   "cell_type": "code",
   "execution_count": 15,
   "metadata": {},
   "outputs": [
    {
     "data": {
      "text/html": [
       "<div>\n",
       "<style scoped>\n",
       "    .dataframe tbody tr th:only-of-type {\n",
       "        vertical-align: middle;\n",
       "    }\n",
       "\n",
       "    .dataframe tbody tr th {\n",
       "        vertical-align: top;\n",
       "    }\n",
       "\n",
       "    .dataframe thead th {\n",
       "        text-align: right;\n",
       "    }\n",
       "</style>\n",
       "<table border=\"1\" class=\"dataframe\">\n",
       "  <thead>\n",
       "    <tr style=\"text-align: right;\">\n",
       "      <th></th>\n",
       "      <th>source_id</th>\n",
       "      <th>dt</th>\n",
       "      <th>costs</th>\n",
       "    </tr>\n",
       "  </thead>\n",
       "  <tbody>\n",
       "    <tr>\n",
       "      <th>1666</th>\n",
       "      <td>5</td>\n",
       "      <td>2018-01-01</td>\n",
       "      <td>149.29</td>\n",
       "    </tr>\n",
       "    <tr>\n",
       "      <th>1643</th>\n",
       "      <td>5</td>\n",
       "      <td>2017-12-09</td>\n",
       "      <td>164.53</td>\n",
       "    </tr>\n",
       "    <tr>\n",
       "      <th>960</th>\n",
       "      <td>3</td>\n",
       "      <td>2018-01-21</td>\n",
       "      <td>366.84</td>\n",
       "    </tr>\n",
       "    <tr>\n",
       "      <th>675</th>\n",
       "      <td>2</td>\n",
       "      <td>2018-04-11</td>\n",
       "      <td>113.94</td>\n",
       "    </tr>\n",
       "    <tr>\n",
       "      <th>182</th>\n",
       "      <td>1</td>\n",
       "      <td>2017-11-30</td>\n",
       "      <td>66.05</td>\n",
       "    </tr>\n",
       "  </tbody>\n",
       "</table>\n",
       "</div>"
      ],
      "text/plain": [
       "      source_id          dt   costs\n",
       "1666          5  2018-01-01  149.29\n",
       "1643          5  2017-12-09  164.53\n",
       "960           3  2018-01-21  366.84\n",
       "675           2  2018-04-11  113.94\n",
       "182           1  2017-11-30   66.05"
      ]
     },
     "execution_count": 15,
     "metadata": {},
     "output_type": "execute_result"
    }
   ],
   "source": [
    "costs.sample(5)"
   ]
  },
  {
   "cell_type": "code",
   "execution_count": 16,
   "metadata": {},
   "outputs": [
    {
     "data": {
      "text/plain": [
       "source_id\n",
       "5     364\n",
       "1     363\n",
       "2     363\n",
       "3     363\n",
       "4     363\n",
       "9     363\n",
       "10    363\n",
       "Name: count, dtype: int64"
      ]
     },
     "execution_count": 16,
     "metadata": {},
     "output_type": "execute_result"
    }
   ],
   "source": [
    "costs.source_id.value_counts()"
   ]
  },
  {
   "cell_type": "markdown",
   "metadata": {},
   "source": [
    "### Limpiar costs\n",
    "\n",
    "1. 'dt' a formato fecha"
   ]
  },
  {
   "cell_type": "code",
   "execution_count": 17,
   "metadata": {},
   "outputs": [
    {
     "name": "stdout",
     "output_type": "stream",
     "text": [
      "<class 'pandas.core.frame.DataFrame'>\n",
      "RangeIndex: 2542 entries, 0 to 2541\n",
      "Data columns (total 3 columns):\n",
      " #   Column     Non-Null Count  Dtype         \n",
      "---  ------     --------------  -----         \n",
      " 0   source_id  2542 non-null   int64         \n",
      " 1   dt         2542 non-null   datetime64[ns]\n",
      " 2   costs      2542 non-null   float64       \n",
      "dtypes: datetime64[ns](1), float64(1), int64(1)\n",
      "memory usage: 59.7 KB\n"
     ]
    }
   ],
   "source": [
    "costs.dt = pd.to_datetime(costs.dt)\n",
    "costs.info()"
   ]
  },
  {
   "cell_type": "markdown",
   "metadata": {},
   "source": [
    "## Paso 2. Haz informes y calcula métricas "
   ]
  },
  {
   "cell_type": "markdown",
   "metadata": {},
   "source": [
    "### Visitas:\n",
    "- ¿Cuántas personas lo usan cada día, semana y mes?\n",
    "- ¿Cuántas sesiones hay por día? (Un usuario puede tener más de una sesión).\n",
    "- ¿Cuál es la duración de cada sesión?\n",
    "- ¿Con qué frecuencia los usuarios regresan?\n",
    "\n",
    "\n",
    "\n",
    "\n"
   ]
  },
  {
   "cell_type": "code",
   "execution_count": 57,
   "metadata": {},
   "outputs": [
    {
     "data": {
      "text/html": [
       "<div>\n",
       "<style scoped>\n",
       "    .dataframe tbody tr th:only-of-type {\n",
       "        vertical-align: middle;\n",
       "    }\n",
       "\n",
       "    .dataframe tbody tr th {\n",
       "        vertical-align: top;\n",
       "    }\n",
       "\n",
       "    .dataframe thead th {\n",
       "        text-align: right;\n",
       "    }\n",
       "</style>\n",
       "<table border=\"1\" class=\"dataframe\">\n",
       "  <thead>\n",
       "    <tr style=\"text-align: right;\">\n",
       "      <th></th>\n",
       "      <th>device</th>\n",
       "      <th>end_ts</th>\n",
       "      <th>source_id</th>\n",
       "      <th>start_ts</th>\n",
       "      <th>uid</th>\n",
       "      <th>day</th>\n",
       "      <th>week</th>\n",
       "      <th>month</th>\n",
       "      <th>year</th>\n",
       "      <th>session_duration</th>\n",
       "      <th>session_duration_secs</th>\n",
       "      <th>time_since_last_visit</th>\n",
       "      <th>days_between_visits</th>\n",
       "    </tr>\n",
       "  </thead>\n",
       "  <tbody>\n",
       "    <tr>\n",
       "      <th>125050</th>\n",
       "      <td>desktop</td>\n",
       "      <td>2018-02-27 10:09:00</td>\n",
       "      <td>5</td>\n",
       "      <td>2018-02-27 10:09:00</td>\n",
       "      <td>9693903154667557937</td>\n",
       "      <td>1</td>\n",
       "      <td>9</td>\n",
       "      <td>2</td>\n",
       "      <td>2018</td>\n",
       "      <td>0 days 00:00:00</td>\n",
       "      <td>0.0</td>\n",
       "      <td>NaT</td>\n",
       "      <td>NaN</td>\n",
       "    </tr>\n",
       "    <tr>\n",
       "      <th>276504</th>\n",
       "      <td>desktop</td>\n",
       "      <td>2018-03-04 23:43:00</td>\n",
       "      <td>10</td>\n",
       "      <td>2018-03-04 23:28:00</td>\n",
       "      <td>2956019731961446550</td>\n",
       "      <td>6</td>\n",
       "      <td>9</td>\n",
       "      <td>3</td>\n",
       "      <td>2018</td>\n",
       "      <td>0 days 00:15:00</td>\n",
       "      <td>900.0</td>\n",
       "      <td>0 days 03:22:00</td>\n",
       "      <td>0.0</td>\n",
       "    </tr>\n",
       "    <tr>\n",
       "      <th>124618</th>\n",
       "      <td>touch</td>\n",
       "      <td>2017-09-28 12:11:00</td>\n",
       "      <td>3</td>\n",
       "      <td>2017-09-28 12:07:00</td>\n",
       "      <td>10900024606905108527</td>\n",
       "      <td>3</td>\n",
       "      <td>39</td>\n",
       "      <td>9</td>\n",
       "      <td>2017</td>\n",
       "      <td>0 days 00:04:00</td>\n",
       "      <td>240.0</td>\n",
       "      <td>NaT</td>\n",
       "      <td>NaN</td>\n",
       "    </tr>\n",
       "    <tr>\n",
       "      <th>113459</th>\n",
       "      <td>desktop</td>\n",
       "      <td>2017-11-07 12:15:00</td>\n",
       "      <td>1</td>\n",
       "      <td>2017-11-07 11:58:00</td>\n",
       "      <td>789209715141593777</td>\n",
       "      <td>1</td>\n",
       "      <td>45</td>\n",
       "      <td>11</td>\n",
       "      <td>2017</td>\n",
       "      <td>0 days 00:17:00</td>\n",
       "      <td>1020.0</td>\n",
       "      <td>39 days 19:18:00</td>\n",
       "      <td>39.0</td>\n",
       "    </tr>\n",
       "    <tr>\n",
       "      <th>285338</th>\n",
       "      <td>desktop</td>\n",
       "      <td>2017-11-20 03:18:00</td>\n",
       "      <td>3</td>\n",
       "      <td>2017-11-20 03:09:00</td>\n",
       "      <td>17354491249382307257</td>\n",
       "      <td>0</td>\n",
       "      <td>47</td>\n",
       "      <td>11</td>\n",
       "      <td>2017</td>\n",
       "      <td>0 days 00:09:00</td>\n",
       "      <td>540.0</td>\n",
       "      <td>72 days 16:18:00</td>\n",
       "      <td>72.0</td>\n",
       "    </tr>\n",
       "    <tr>\n",
       "      <th>73882</th>\n",
       "      <td>touch</td>\n",
       "      <td>2017-11-12 22:35:00</td>\n",
       "      <td>5</td>\n",
       "      <td>2017-11-12 22:34:00</td>\n",
       "      <td>18079219688008388892</td>\n",
       "      <td>6</td>\n",
       "      <td>45</td>\n",
       "      <td>11</td>\n",
       "      <td>2017</td>\n",
       "      <td>0 days 00:01:00</td>\n",
       "      <td>60.0</td>\n",
       "      <td>NaT</td>\n",
       "      <td>NaN</td>\n",
       "    </tr>\n",
       "    <tr>\n",
       "      <th>158466</th>\n",
       "      <td>desktop</td>\n",
       "      <td>2018-03-08 22:53:00</td>\n",
       "      <td>9</td>\n",
       "      <td>2018-03-08 22:43:00</td>\n",
       "      <td>1353800717857342254</td>\n",
       "      <td>3</td>\n",
       "      <td>10</td>\n",
       "      <td>3</td>\n",
       "      <td>2018</td>\n",
       "      <td>0 days 00:10:00</td>\n",
       "      <td>600.0</td>\n",
       "      <td>36 days 08:54:00</td>\n",
       "      <td>36.0</td>\n",
       "    </tr>\n",
       "    <tr>\n",
       "      <th>189859</th>\n",
       "      <td>desktop</td>\n",
       "      <td>2017-12-12 16:06:00</td>\n",
       "      <td>3</td>\n",
       "      <td>2017-12-12 16:04:00</td>\n",
       "      <td>13326588728567802599</td>\n",
       "      <td>1</td>\n",
       "      <td>50</td>\n",
       "      <td>12</td>\n",
       "      <td>2017</td>\n",
       "      <td>0 days 00:02:00</td>\n",
       "      <td>120.0</td>\n",
       "      <td>47 days 23:55:00</td>\n",
       "      <td>47.0</td>\n",
       "    </tr>\n",
       "    <tr>\n",
       "      <th>15238</th>\n",
       "      <td>touch</td>\n",
       "      <td>2017-12-03 20:12:00</td>\n",
       "      <td>4</td>\n",
       "      <td>2017-12-03 20:09:00</td>\n",
       "      <td>12834313789720448863</td>\n",
       "      <td>6</td>\n",
       "      <td>48</td>\n",
       "      <td>12</td>\n",
       "      <td>2017</td>\n",
       "      <td>0 days 00:03:00</td>\n",
       "      <td>180.0</td>\n",
       "      <td>63 days 04:30:00</td>\n",
       "      <td>63.0</td>\n",
       "    </tr>\n",
       "    <tr>\n",
       "      <th>49976</th>\n",
       "      <td>desktop</td>\n",
       "      <td>2017-12-05 12:52:00</td>\n",
       "      <td>9</td>\n",
       "      <td>2017-12-05 12:46:00</td>\n",
       "      <td>12728342229575197688</td>\n",
       "      <td>1</td>\n",
       "      <td>49</td>\n",
       "      <td>12</td>\n",
       "      <td>2017</td>\n",
       "      <td>0 days 00:06:00</td>\n",
       "      <td>360.0</td>\n",
       "      <td>NaT</td>\n",
       "      <td>NaN</td>\n",
       "    </tr>\n",
       "  </tbody>\n",
       "</table>\n",
       "</div>"
      ],
      "text/plain": [
       "         device              end_ts  source_id            start_ts  \\\n",
       "125050  desktop 2018-02-27 10:09:00          5 2018-02-27 10:09:00   \n",
       "276504  desktop 2018-03-04 23:43:00         10 2018-03-04 23:28:00   \n",
       "124618    touch 2017-09-28 12:11:00          3 2017-09-28 12:07:00   \n",
       "113459  desktop 2017-11-07 12:15:00          1 2017-11-07 11:58:00   \n",
       "285338  desktop 2017-11-20 03:18:00          3 2017-11-20 03:09:00   \n",
       "73882     touch 2017-11-12 22:35:00          5 2017-11-12 22:34:00   \n",
       "158466  desktop 2018-03-08 22:53:00          9 2018-03-08 22:43:00   \n",
       "189859  desktop 2017-12-12 16:06:00          3 2017-12-12 16:04:00   \n",
       "15238     touch 2017-12-03 20:12:00          4 2017-12-03 20:09:00   \n",
       "49976   desktop 2017-12-05 12:52:00          9 2017-12-05 12:46:00   \n",
       "\n",
       "                         uid  day  week  month  year session_duration  \\\n",
       "125050   9693903154667557937    1     9      2  2018  0 days 00:00:00   \n",
       "276504   2956019731961446550    6     9      3  2018  0 days 00:15:00   \n",
       "124618  10900024606905108527    3    39      9  2017  0 days 00:04:00   \n",
       "113459    789209715141593777    1    45     11  2017  0 days 00:17:00   \n",
       "285338  17354491249382307257    0    47     11  2017  0 days 00:09:00   \n",
       "73882   18079219688008388892    6    45     11  2017  0 days 00:01:00   \n",
       "158466   1353800717857342254    3    10      3  2018  0 days 00:10:00   \n",
       "189859  13326588728567802599    1    50     12  2017  0 days 00:02:00   \n",
       "15238   12834313789720448863    6    48     12  2017  0 days 00:03:00   \n",
       "49976   12728342229575197688    1    49     12  2017  0 days 00:06:00   \n",
       "\n",
       "        session_duration_secs time_since_last_visit  days_between_visits  \n",
       "125050                    0.0                   NaT                  NaN  \n",
       "276504                  900.0       0 days 03:22:00                  0.0  \n",
       "124618                  240.0                   NaT                  NaN  \n",
       "113459                 1020.0      39 days 19:18:00                 39.0  \n",
       "285338                  540.0      72 days 16:18:00                 72.0  \n",
       "73882                    60.0                   NaT                  NaN  \n",
       "158466                  600.0      36 days 08:54:00                 36.0  \n",
       "189859                  120.0      47 days 23:55:00                 47.0  \n",
       "15238                   180.0      63 days 04:30:00                 63.0  \n",
       "49976                   360.0                   NaT                  NaN  "
      ]
     },
     "execution_count": 57,
     "metadata": {},
     "output_type": "execute_result"
    }
   ],
   "source": [
    "# Primero sacaremos de las fechas, el día, la semana, mes y año de la visita\n",
    "visits['day'] = visits['start_ts'].dt.weekday\n",
    "visits['week'] = visits['start_ts'].dt.isocalendar().week\n",
    "visits['month'] = visits['start_ts'].dt.month\n",
    "visits['year'] = visits['start_ts'].dt.isocalendar().year\n",
    "visits.sample(10)"
   ]
  },
  {
   "cell_type": "code",
   "execution_count": 58,
   "metadata": {},
   "outputs": [
    {
     "name": "stdout",
     "output_type": "stream",
     "text": [
      "Al día, en promedio, se tienen 910.46 visitas.\n"
     ]
    }
   ],
   "source": [
    "#Promedio de visitas por día\n",
    "\n",
    "by_days = visits.groupby(['week', 'day'])['uid'].nunique().reset_index()\n",
    "print(f'Al día, en promedio, se tienen {by_days.uid.mean():,.2f} visitas.')\n"
   ]
  },
  {
   "cell_type": "code",
   "execution_count": 59,
   "metadata": {},
   "outputs": [
    {
     "name": "stdout",
     "output_type": "stream",
     "text": [
      "Por semana, en promedio, tenemos 5,716.25 visitas\n"
     ]
    }
   ],
   "source": [
    "#Promedio de visitas por semana\n",
    "\n",
    "by_week = visits.groupby(['year', 'week'])['uid'].nunique().reset_index()\n",
    "print(f'Por semana, en promedio, tenemos {by_week.uid.mean():,.2f} visitas')"
   ]
  },
  {
   "cell_type": "code",
   "execution_count": 60,
   "metadata": {},
   "outputs": [
    {
     "name": "stdout",
     "output_type": "stream",
     "text": [
      "Por mes, en promedio, tenemos 23,228.42 visitas\n"
     ]
    }
   ],
   "source": [
    "#Promedio de visitas por semana\n",
    "\n",
    "by_month = visits.groupby(['year', 'month'])['uid'].nunique().reset_index()\n",
    "print(f'Por mes, en promedio, tenemos {by_month.uid.mean():,.2f} visitas')"
   ]
  },
  {
   "cell_type": "code",
   "execution_count": 61,
   "metadata": {},
   "outputs": [
    {
     "name": "stdout",
     "output_type": "stream",
     "text": [
      "Al día, en promedio, se tienen 990.08 sesiones.\n"
     ]
    }
   ],
   "source": [
    "#Promedio de sesiones por día\n",
    "\n",
    "sessions_per_day = visits.groupby(['week', 'day'])['uid'].count().reset_index()\n",
    "print(f'Al día, en promedio, se tienen {sessions_per_day.uid.mean():,.2f} sesiones.')"
   ]
  },
  {
   "cell_type": "code",
   "execution_count": 62,
   "metadata": {},
   "outputs": [
    {
     "name": "stdout",
     "output_type": "stream",
     "text": [
      "La media de la duración de la sesión es de 5.00 minutos.\n"
     ]
    }
   ],
   "source": [
    "# Duración de sesiones\n",
    "\n",
    "visits['session_duration'] = visits.end_ts - visits.start_ts\n",
    "visits['session_duration_secs'] = visits.session_duration.dt.total_seconds()\n",
    "avg_session_duration = visits.session_duration_secs.median()\n",
    "print(f'La media de la duración de la sesión es de {avg_session_duration/60:,.2f} minutos.')"
   ]
  },
  {
   "cell_type": "code",
   "execution_count": 63,
   "metadata": {},
   "outputs": [
    {
     "name": "stdout",
     "output_type": "stream",
     "text": [
      "La media del tiempo en que suelen regresar los usuarios es de 4.00 días.\n"
     ]
    }
   ],
   "source": [
    "# Con qué frecuencia los usuarios regresan? \n",
    "comeback_frec = visits.sort_values(by=['uid', 'start_ts'])\n",
    "visits['time_since_last_visit'] = comeback_frec.groupby(['uid'])['start_ts'].diff()\n",
    "visits['days_between_visits'] = visits.time_since_last_visit.dt.days\n",
    "ave_return_time = visits.days_between_visits.median()\n",
    "print(f'La media del tiempo en que suelen regresar los usuarios es de {ave_return_time:.2f} días.')\n"
   ]
  },
  {
   "cell_type": "markdown",
   "metadata": {},
   "source": [
    "En la duración de la sesión y en el tiempo en que suelen regresar los usuarios usamos **la media**, ya que en el promedio los valores atípicos elevaban las cantidades."
   ]
  },
  {
   "cell_type": "markdown",
   "metadata": {},
   "source": [
    "### Ventas:\n",
    "- ¿Cuándo empieza la gente a comprar? (En el análisis de KPI, generalmente nos interesa saber el tiempo que transcurre entre el registro y la conversión, es decir, cuando el usuario se convierte en cliente. Por ejemplo, si el registro y la primera compra ocurren el mismo día, el usuario podría caer en la categoría Conversion 0d. Si la primera compra ocurre al día siguiente, será Conversion 1d. Puedes usar cualquier enfoque que te permita comparar las conversiones de diferentes cohortes para que puedas determinar qué cohorte o canal de marketing es más efectivo.)\n",
    "- ¿Cuántos pedidos hacen durante un período de tiempo dado?\n",
    "- ¿Cuál es el tamaño promedio de compra?\n",
    "- ¿Cuánto dinero traen? (LTV)"
   ]
  },
  {
   "cell_type": "markdown",
   "metadata": {},
   "source": [
    "## Marketing:\n",
    " 1. ¿Cuánto dinero se gastó?  (Total/por fuente de adquisición/a lo largo del tiempo) \n",
    " 2. ¿Cuál fue el costo de adquisición de clientes de cada una de las fuentes?\n",
    " 3. ¿Cuán rentables eran las inversiones? (ROMI)\n",
    "Traza gráficos para mostrar cómo difieren estas métricas para varios dispositivos y fuentes de anuncios y cómo cambian con el tiempo. "
   ]
  },
  {
   "cell_type": "markdown",
   "metadata": {},
   "source": []
  }
 ],
 "metadata": {
  "kernelspec": {
   "display_name": "base",
   "language": "python",
   "name": "python3"
  },
  "language_info": {
   "codemirror_mode": {
    "name": "ipython",
    "version": 3
   },
   "file_extension": ".py",
   "mimetype": "text/x-python",
   "name": "python",
   "nbconvert_exporter": "python",
   "pygments_lexer": "ipython3",
   "version": "3.12.7"
  }
 },
 "nbformat": 4,
 "nbformat_minor": 2
}
