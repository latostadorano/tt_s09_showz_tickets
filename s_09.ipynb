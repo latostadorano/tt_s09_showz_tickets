{
 "cells": [
  {
   "cell_type": "markdown",
   "metadata": {},
   "source": [
    "# **Sprint 9 Showz analysis**"
   ]
  },
  {
   "cell_type": "markdown",
   "metadata": {},
   "source": [
    "## Paso 1. Acceda los datos y prepáralos para el análisis\n",
    "\n",
    "Almacena los datos de visitas, pedidos y gastos en variables.  Optimiza los datos para el análisis. Asegúrate de que cada columna contenga el tipo de datos correcto. \n",
    "\n",
    "\n"
   ]
  },
  {
   "cell_type": "code",
   "execution_count": 1,
   "metadata": {},
   "outputs": [],
   "source": [
    "# cargar librerías\n",
    "import pandas as pd \n",
    "import numpy as np\n",
    "import re \n"
   ]
  },
  {
   "cell_type": "code",
   "execution_count": 2,
   "metadata": {},
   "outputs": [
    {
     "name": "stdout",
     "output_type": "stream",
     "text": [
      "    Device               End Ts  Source Id             Start Ts  \\\n",
      "0    touch  2017-12-20 17:38:00          4  2017-12-20 17:20:00   \n",
      "1  desktop  2018-02-19 17:21:00          2  2018-02-19 16:53:00   \n",
      "2    touch  2017-07-01 01:54:00          5  2017-07-01 01:54:00   \n",
      "3  desktop  2018-05-20 11:23:00          9  2018-05-20 10:59:00   \n",
      "4  desktop  2017-12-27 14:06:00          3  2017-12-27 14:06:00   \n",
      "\n",
      "                    Uid  \n",
      "0  16879256277535980062  \n",
      "1    104060357244891740  \n",
      "2   7459035603376831527  \n",
      "3  16174680259334210214  \n",
      "4   9969694820036681168  \n",
      "-------\n",
      "                Buy Ts  Revenue                   Uid\n",
      "0  2017-06-01 00:10:00    17.00  10329302124590727494\n",
      "1  2017-06-01 00:25:00     0.55  11627257723692907447\n",
      "2  2017-06-01 00:27:00     0.37  17903680561304213844\n",
      "3  2017-06-01 00:29:00     0.55  16109239769442553005\n",
      "4  2017-06-01 07:58:00     0.37  14200605875248379450\n",
      "-------\n",
      "   source_id          dt  costs\n",
      "0          1  2017-06-01  75.20\n",
      "1          1  2017-06-02  62.25\n",
      "2          1  2017-06-03  36.53\n",
      "3          1  2017-06-04  55.00\n",
      "4          1  2017-06-05  57.08\n",
      "-------\n"
     ]
    }
   ],
   "source": [
    "# importar datos\n",
    "visits = pd.read_csv('https://code.s3.yandex.net/datasets/visits_log_us.csv')\n",
    "print(visits.head())\n",
    "print('-------')\n",
    "orders = pd.read_csv('https://code.s3.yandex.net/datasets/orders_log_us.csv')\n",
    "print(orders.head())\n",
    "print('-------')\n",
    "costs = pd.read_csv('https://code.s3.yandex.net/datasets/costs_us.csv')\n",
    "print(costs.head())\n",
    "print('-------')"
   ]
  },
  {
   "cell_type": "markdown",
   "metadata": {},
   "source": [
    "### Examinar visits"
   ]
  },
  {
   "cell_type": "code",
   "execution_count": 3,
   "metadata": {},
   "outputs": [
    {
     "name": "stdout",
     "output_type": "stream",
     "text": [
      "<class 'pandas.core.frame.DataFrame'>\n",
      "RangeIndex: 359400 entries, 0 to 359399\n",
      "Data columns (total 5 columns):\n",
      " #   Column     Non-Null Count   Dtype \n",
      "---  ------     --------------   ----- \n",
      " 0   Device     359400 non-null  object\n",
      " 1   End Ts     359400 non-null  object\n",
      " 2   Source Id  359400 non-null  int64 \n",
      " 3   Start Ts   359400 non-null  object\n",
      " 4   Uid        359400 non-null  uint64\n",
      "dtypes: int64(1), object(3), uint64(1)\n",
      "memory usage: 13.7+ MB\n"
     ]
    }
   ],
   "source": [
    "# Examine visits\n",
    "visits.info()"
   ]
  },
  {
   "cell_type": "code",
   "execution_count": 4,
   "metadata": {},
   "outputs": [
    {
     "data": {
      "text/plain": [
       "Device\n",
       "desktop    262567\n",
       "touch       96833\n",
       "Name: count, dtype: int64"
      ]
     },
     "execution_count": 4,
     "metadata": {},
     "output_type": "execute_result"
    }
   ],
   "source": [
    "visits['Device'].value_counts()"
   ]
  },
  {
   "cell_type": "code",
   "execution_count": 5,
   "metadata": {},
   "outputs": [
    {
     "data": {
      "text/plain": [
       "Source Id\n",
       "4     101794\n",
       "3      85610\n",
       "5      66905\n",
       "2      47626\n",
       "1      34121\n",
       "9      13277\n",
       "10     10025\n",
       "7         36\n",
       "6          6\n",
       "Name: count, dtype: int64"
      ]
     },
     "execution_count": 5,
     "metadata": {},
     "output_type": "execute_result"
    }
   ],
   "source": [
    "visits['Source Id'].value_counts()"
   ]
  },
  {
   "cell_type": "markdown",
   "metadata": {},
   "source": [
    "### Limpiar visits\n",
    "1. Columnas a minúsculas\n",
    "2. End Ts y Start Ts a formato fecha"
   ]
  },
  {
   "cell_type": "code",
   "execution_count": 6,
   "metadata": {},
   "outputs": [],
   "source": [
    "# Función para limpiar columnas\n",
    "def clean_col_names(df):\n",
    "    df = df.copy()\n",
    "    df.columns = [\n",
    "        re.sub(r'\\W+', '_', col).strip('_').lower()\n",
    "        for col in df.columns\n",
    "    ]\n",
    "    return df\n"
   ]
  },
  {
   "cell_type": "code",
   "execution_count": 7,
   "metadata": {},
   "outputs": [
    {
     "data": {
      "text/html": [
       "<div>\n",
       "<style scoped>\n",
       "    .dataframe tbody tr th:only-of-type {\n",
       "        vertical-align: middle;\n",
       "    }\n",
       "\n",
       "    .dataframe tbody tr th {\n",
       "        vertical-align: top;\n",
       "    }\n",
       "\n",
       "    .dataframe thead th {\n",
       "        text-align: right;\n",
       "    }\n",
       "</style>\n",
       "<table border=\"1\" class=\"dataframe\">\n",
       "  <thead>\n",
       "    <tr style=\"text-align: right;\">\n",
       "      <th></th>\n",
       "      <th>device</th>\n",
       "      <th>end_ts</th>\n",
       "      <th>source_id</th>\n",
       "      <th>start_ts</th>\n",
       "      <th>uid</th>\n",
       "    </tr>\n",
       "  </thead>\n",
       "  <tbody>\n",
       "    <tr>\n",
       "      <th>0</th>\n",
       "      <td>touch</td>\n",
       "      <td>2017-12-20 17:38:00</td>\n",
       "      <td>4</td>\n",
       "      <td>2017-12-20 17:20:00</td>\n",
       "      <td>16879256277535980062</td>\n",
       "    </tr>\n",
       "    <tr>\n",
       "      <th>1</th>\n",
       "      <td>desktop</td>\n",
       "      <td>2018-02-19 17:21:00</td>\n",
       "      <td>2</td>\n",
       "      <td>2018-02-19 16:53:00</td>\n",
       "      <td>104060357244891740</td>\n",
       "    </tr>\n",
       "    <tr>\n",
       "      <th>2</th>\n",
       "      <td>touch</td>\n",
       "      <td>2017-07-01 01:54:00</td>\n",
       "      <td>5</td>\n",
       "      <td>2017-07-01 01:54:00</td>\n",
       "      <td>7459035603376831527</td>\n",
       "    </tr>\n",
       "    <tr>\n",
       "      <th>3</th>\n",
       "      <td>desktop</td>\n",
       "      <td>2018-05-20 11:23:00</td>\n",
       "      <td>9</td>\n",
       "      <td>2018-05-20 10:59:00</td>\n",
       "      <td>16174680259334210214</td>\n",
       "    </tr>\n",
       "    <tr>\n",
       "      <th>4</th>\n",
       "      <td>desktop</td>\n",
       "      <td>2017-12-27 14:06:00</td>\n",
       "      <td>3</td>\n",
       "      <td>2017-12-27 14:06:00</td>\n",
       "      <td>9969694820036681168</td>\n",
       "    </tr>\n",
       "    <tr>\n",
       "      <th>...</th>\n",
       "      <td>...</td>\n",
       "      <td>...</td>\n",
       "      <td>...</td>\n",
       "      <td>...</td>\n",
       "      <td>...</td>\n",
       "    </tr>\n",
       "    <tr>\n",
       "      <th>359395</th>\n",
       "      <td>desktop</td>\n",
       "      <td>2017-07-29 19:07:19</td>\n",
       "      <td>2</td>\n",
       "      <td>2017-07-29 19:07:00</td>\n",
       "      <td>18363291481961487539</td>\n",
       "    </tr>\n",
       "    <tr>\n",
       "      <th>359396</th>\n",
       "      <td>touch</td>\n",
       "      <td>2018-01-25 17:38:19</td>\n",
       "      <td>1</td>\n",
       "      <td>2018-01-25 17:38:00</td>\n",
       "      <td>18370831553019119586</td>\n",
       "    </tr>\n",
       "    <tr>\n",
       "      <th>359397</th>\n",
       "      <td>desktop</td>\n",
       "      <td>2018-03-03 10:12:19</td>\n",
       "      <td>4</td>\n",
       "      <td>2018-03-03 10:12:00</td>\n",
       "      <td>18387297585500748294</td>\n",
       "    </tr>\n",
       "    <tr>\n",
       "      <th>359398</th>\n",
       "      <td>desktop</td>\n",
       "      <td>2017-11-02 10:12:19</td>\n",
       "      <td>5</td>\n",
       "      <td>2017-11-02 10:12:00</td>\n",
       "      <td>18388616944624776485</td>\n",
       "    </tr>\n",
       "    <tr>\n",
       "      <th>359399</th>\n",
       "      <td>touch</td>\n",
       "      <td>2017-09-10 13:13:19</td>\n",
       "      <td>2</td>\n",
       "      <td>2017-09-10 13:13:00</td>\n",
       "      <td>18396128934054549559</td>\n",
       "    </tr>\n",
       "  </tbody>\n",
       "</table>\n",
       "<p>359400 rows × 5 columns</p>\n",
       "</div>"
      ],
      "text/plain": [
       "         device               end_ts  source_id             start_ts  \\\n",
       "0         touch  2017-12-20 17:38:00          4  2017-12-20 17:20:00   \n",
       "1       desktop  2018-02-19 17:21:00          2  2018-02-19 16:53:00   \n",
       "2         touch  2017-07-01 01:54:00          5  2017-07-01 01:54:00   \n",
       "3       desktop  2018-05-20 11:23:00          9  2018-05-20 10:59:00   \n",
       "4       desktop  2017-12-27 14:06:00          3  2017-12-27 14:06:00   \n",
       "...         ...                  ...        ...                  ...   \n",
       "359395  desktop  2017-07-29 19:07:19          2  2017-07-29 19:07:00   \n",
       "359396    touch  2018-01-25 17:38:19          1  2018-01-25 17:38:00   \n",
       "359397  desktop  2018-03-03 10:12:19          4  2018-03-03 10:12:00   \n",
       "359398  desktop  2017-11-02 10:12:19          5  2017-11-02 10:12:00   \n",
       "359399    touch  2017-09-10 13:13:19          2  2017-09-10 13:13:00   \n",
       "\n",
       "                         uid  \n",
       "0       16879256277535980062  \n",
       "1         104060357244891740  \n",
       "2        7459035603376831527  \n",
       "3       16174680259334210214  \n",
       "4        9969694820036681168  \n",
       "...                      ...  \n",
       "359395  18363291481961487539  \n",
       "359396  18370831553019119586  \n",
       "359397  18387297585500748294  \n",
       "359398  18388616944624776485  \n",
       "359399  18396128934054549559  \n",
       "\n",
       "[359400 rows x 5 columns]"
      ]
     },
     "execution_count": 7,
     "metadata": {},
     "output_type": "execute_result"
    }
   ],
   "source": [
    "# Limpiar visits.columns\n",
    "visits = clean_col_names(visits)\n",
    "visits"
   ]
  },
  {
   "cell_type": "code",
   "execution_count": 8,
   "metadata": {},
   "outputs": [
    {
     "name": "stdout",
     "output_type": "stream",
     "text": [
      "<class 'pandas.core.frame.DataFrame'>\n",
      "RangeIndex: 359400 entries, 0 to 359399\n",
      "Data columns (total 5 columns):\n",
      " #   Column     Non-Null Count   Dtype         \n",
      "---  ------     --------------   -----         \n",
      " 0   device     359400 non-null  object        \n",
      " 1   end_ts     359400 non-null  datetime64[ns]\n",
      " 2   source_id  359400 non-null  int64         \n",
      " 3   start_ts   359400 non-null  datetime64[ns]\n",
      " 4   uid        359400 non-null  uint64        \n",
      "dtypes: datetime64[ns](2), int64(1), object(1), uint64(1)\n",
      "memory usage: 13.7+ MB\n",
      "None\n"
     ]
    }
   ],
   "source": [
    "# Cambiar end_ts y start_ts a formato fecha\n",
    "visits.end_ts = pd.to_datetime(visits['end_ts'])\n",
    "visits.start_ts = pd.to_datetime(visits['start_ts'])\n",
    "print(visits.info())"
   ]
  },
  {
   "cell_type": "code",
   "execution_count": 9,
   "metadata": {},
   "outputs": [
    {
     "data": {
      "text/html": [
       "<div>\n",
       "<style scoped>\n",
       "    .dataframe tbody tr th:only-of-type {\n",
       "        vertical-align: middle;\n",
       "    }\n",
       "\n",
       "    .dataframe tbody tr th {\n",
       "        vertical-align: top;\n",
       "    }\n",
       "\n",
       "    .dataframe thead th {\n",
       "        text-align: right;\n",
       "    }\n",
       "</style>\n",
       "<table border=\"1\" class=\"dataframe\">\n",
       "  <thead>\n",
       "    <tr style=\"text-align: right;\">\n",
       "      <th></th>\n",
       "      <th>device</th>\n",
       "      <th>end_ts</th>\n",
       "      <th>source_id</th>\n",
       "      <th>start_ts</th>\n",
       "      <th>uid</th>\n",
       "    </tr>\n",
       "  </thead>\n",
       "  <tbody>\n",
       "    <tr>\n",
       "      <th>257494</th>\n",
       "      <td>touch</td>\n",
       "      <td>2017-10-12 23:54:00</td>\n",
       "      <td>5</td>\n",
       "      <td>2017-10-12 23:50:00</td>\n",
       "      <td>3788838973332277912</td>\n",
       "    </tr>\n",
       "    <tr>\n",
       "      <th>259346</th>\n",
       "      <td>desktop</td>\n",
       "      <td>2018-02-28 23:02:00</td>\n",
       "      <td>4</td>\n",
       "      <td>2018-02-28 22:44:00</td>\n",
       "      <td>14888237163979894094</td>\n",
       "    </tr>\n",
       "    <tr>\n",
       "      <th>80560</th>\n",
       "      <td>desktop</td>\n",
       "      <td>2017-12-08 00:19:00</td>\n",
       "      <td>2</td>\n",
       "      <td>2017-12-08 00:12:00</td>\n",
       "      <td>1829736435757276287</td>\n",
       "    </tr>\n",
       "    <tr>\n",
       "      <th>233649</th>\n",
       "      <td>desktop</td>\n",
       "      <td>2018-03-25 15:00:00</td>\n",
       "      <td>9</td>\n",
       "      <td>2018-03-25 14:56:00</td>\n",
       "      <td>17786796508613183016</td>\n",
       "    </tr>\n",
       "    <tr>\n",
       "      <th>130578</th>\n",
       "      <td>desktop</td>\n",
       "      <td>2017-12-11 16:07:00</td>\n",
       "      <td>1</td>\n",
       "      <td>2017-12-11 15:53:00</td>\n",
       "      <td>15087669361906245158</td>\n",
       "    </tr>\n",
       "    <tr>\n",
       "      <th>149422</th>\n",
       "      <td>touch</td>\n",
       "      <td>2018-04-30 17:20:00</td>\n",
       "      <td>1</td>\n",
       "      <td>2018-04-30 16:55:00</td>\n",
       "      <td>337126187358259420</td>\n",
       "    </tr>\n",
       "    <tr>\n",
       "      <th>330527</th>\n",
       "      <td>desktop</td>\n",
       "      <td>2018-05-05 15:12:00</td>\n",
       "      <td>3</td>\n",
       "      <td>2018-05-05 14:57:00</td>\n",
       "      <td>6166747268563050393</td>\n",
       "    </tr>\n",
       "    <tr>\n",
       "      <th>359255</th>\n",
       "      <td>desktop</td>\n",
       "      <td>2017-08-05 01:03:19</td>\n",
       "      <td>5</td>\n",
       "      <td>2017-08-05 01:03:00</td>\n",
       "      <td>15250499413999327662</td>\n",
       "    </tr>\n",
       "    <tr>\n",
       "      <th>202010</th>\n",
       "      <td>desktop</td>\n",
       "      <td>2018-05-28 13:39:00</td>\n",
       "      <td>3</td>\n",
       "      <td>2018-05-28 13:29:00</td>\n",
       "      <td>13442759219179233185</td>\n",
       "    </tr>\n",
       "    <tr>\n",
       "      <th>22503</th>\n",
       "      <td>desktop</td>\n",
       "      <td>2018-01-22 14:12:00</td>\n",
       "      <td>2</td>\n",
       "      <td>2018-01-22 13:22:00</td>\n",
       "      <td>9737640335185488211</td>\n",
       "    </tr>\n",
       "  </tbody>\n",
       "</table>\n",
       "</div>"
      ],
      "text/plain": [
       "         device              end_ts  source_id            start_ts  \\\n",
       "257494    touch 2017-10-12 23:54:00          5 2017-10-12 23:50:00   \n",
       "259346  desktop 2018-02-28 23:02:00          4 2018-02-28 22:44:00   \n",
       "80560   desktop 2017-12-08 00:19:00          2 2017-12-08 00:12:00   \n",
       "233649  desktop 2018-03-25 15:00:00          9 2018-03-25 14:56:00   \n",
       "130578  desktop 2017-12-11 16:07:00          1 2017-12-11 15:53:00   \n",
       "149422    touch 2018-04-30 17:20:00          1 2018-04-30 16:55:00   \n",
       "330527  desktop 2018-05-05 15:12:00          3 2018-05-05 14:57:00   \n",
       "359255  desktop 2017-08-05 01:03:19          5 2017-08-05 01:03:00   \n",
       "202010  desktop 2018-05-28 13:39:00          3 2018-05-28 13:29:00   \n",
       "22503   desktop 2018-01-22 14:12:00          2 2018-01-22 13:22:00   \n",
       "\n",
       "                         uid  \n",
       "257494   3788838973332277912  \n",
       "259346  14888237163979894094  \n",
       "80560    1829736435757276287  \n",
       "233649  17786796508613183016  \n",
       "130578  15087669361906245158  \n",
       "149422    337126187358259420  \n",
       "330527   6166747268563050393  \n",
       "359255  15250499413999327662  \n",
       "202010  13442759219179233185  \n",
       "22503    9737640335185488211  "
      ]
     },
     "execution_count": 9,
     "metadata": {},
     "output_type": "execute_result"
    }
   ],
   "source": [
    "visits.sample(10)"
   ]
  },
  {
   "cell_type": "markdown",
   "metadata": {},
   "source": [
    "### Examinar orders"
   ]
  },
  {
   "cell_type": "code",
   "execution_count": 10,
   "metadata": {},
   "outputs": [
    {
     "name": "stdout",
     "output_type": "stream",
     "text": [
      "<class 'pandas.core.frame.DataFrame'>\n",
      "RangeIndex: 50415 entries, 0 to 50414\n",
      "Data columns (total 3 columns):\n",
      " #   Column   Non-Null Count  Dtype  \n",
      "---  ------   --------------  -----  \n",
      " 0   Buy Ts   50415 non-null  object \n",
      " 1   Revenue  50415 non-null  float64\n",
      " 2   Uid      50415 non-null  uint64 \n",
      "dtypes: float64(1), object(1), uint64(1)\n",
      "memory usage: 1.2+ MB\n"
     ]
    }
   ],
   "source": [
    "# Examine orders\n",
    "orders.info()"
   ]
  },
  {
   "cell_type": "code",
   "execution_count": 11,
   "metadata": {},
   "outputs": [
    {
     "data": {
      "text/plain": [
       "count    50415.000000\n",
       "mean         4.999647\n",
       "std         21.818359\n",
       "min          0.000000\n",
       "25%          1.220000\n",
       "50%          2.500000\n",
       "75%          4.890000\n",
       "max       2633.280000\n",
       "Name: Revenue, dtype: float64"
      ]
     },
     "execution_count": 11,
     "metadata": {},
     "output_type": "execute_result"
    }
   ],
   "source": [
    "orders['Revenue'].describe()"
   ]
  },
  {
   "cell_type": "code",
   "execution_count": 12,
   "metadata": {},
   "outputs": [
    {
     "data": {
      "text/html": [
       "<div>\n",
       "<style scoped>\n",
       "    .dataframe tbody tr th:only-of-type {\n",
       "        vertical-align: middle;\n",
       "    }\n",
       "\n",
       "    .dataframe tbody tr th {\n",
       "        vertical-align: top;\n",
       "    }\n",
       "\n",
       "    .dataframe thead th {\n",
       "        text-align: right;\n",
       "    }\n",
       "</style>\n",
       "<table border=\"1\" class=\"dataframe\">\n",
       "  <thead>\n",
       "    <tr style=\"text-align: right;\">\n",
       "      <th></th>\n",
       "      <th>Buy Ts</th>\n",
       "      <th>Revenue</th>\n",
       "      <th>Uid</th>\n",
       "    </tr>\n",
       "  </thead>\n",
       "  <tbody>\n",
       "    <tr>\n",
       "      <th>23165</th>\n",
       "      <td>2017-12-10 13:04:00</td>\n",
       "      <td>1195.64</td>\n",
       "      <td>5539673724080479777</td>\n",
       "    </tr>\n",
       "    <tr>\n",
       "      <th>23244</th>\n",
       "      <td>2017-12-10 20:17:00</td>\n",
       "      <td>2633.28</td>\n",
       "      <td>5539673724080479777</td>\n",
       "    </tr>\n",
       "    <tr>\n",
       "      <th>24607</th>\n",
       "      <td>2017-12-17 18:06:00</td>\n",
       "      <td>1109.10</td>\n",
       "      <td>11149926373378902217</td>\n",
       "    </tr>\n",
       "    <tr>\n",
       "      <th>36522</th>\n",
       "      <td>2018-02-23 08:54:00</td>\n",
       "      <td>1236.28</td>\n",
       "      <td>11149926373378902217</td>\n",
       "    </tr>\n",
       "    <tr>\n",
       "      <th>36682</th>\n",
       "      <td>2018-02-24 09:25:00</td>\n",
       "      <td>1221.37</td>\n",
       "      <td>11149926373378902217</td>\n",
       "    </tr>\n",
       "    <tr>\n",
       "      <th>40386</th>\n",
       "      <td>2018-03-18 09:13:00</td>\n",
       "      <td>1073.11</td>\n",
       "      <td>11149926373378902217</td>\n",
       "    </tr>\n",
       "    <tr>\n",
       "      <th>47507</th>\n",
       "      <td>2018-05-16 19:53:00</td>\n",
       "      <td>1080.44</td>\n",
       "      <td>11149926373378902217</td>\n",
       "    </tr>\n",
       "  </tbody>\n",
       "</table>\n",
       "</div>"
      ],
      "text/plain": [
       "                    Buy Ts  Revenue                   Uid\n",
       "23165  2017-12-10 13:04:00  1195.64   5539673724080479777\n",
       "23244  2017-12-10 20:17:00  2633.28   5539673724080479777\n",
       "24607  2017-12-17 18:06:00  1109.10  11149926373378902217\n",
       "36522  2018-02-23 08:54:00  1236.28  11149926373378902217\n",
       "36682  2018-02-24 09:25:00  1221.37  11149926373378902217\n",
       "40386  2018-03-18 09:13:00  1073.11  11149926373378902217\n",
       "47507  2018-05-16 19:53:00  1080.44  11149926373378902217"
      ]
     },
     "execution_count": 12,
     "metadata": {},
     "output_type": "execute_result"
    }
   ],
   "source": [
    "orders[orders.Revenue > 1000]"
   ]
  },
  {
   "cell_type": "markdown",
   "metadata": {},
   "source": [
    "### Limpiar orders\n",
    "\n",
    "1. limpiar nombres de columnas\n",
    "2. 'Buy Ts' a formato fecha"
   ]
  },
  {
   "cell_type": "code",
   "execution_count": 13,
   "metadata": {},
   "outputs": [
    {
     "name": "stdout",
     "output_type": "stream",
     "text": [
      "<class 'pandas.core.frame.DataFrame'>\n",
      "RangeIndex: 50415 entries, 0 to 50414\n",
      "Data columns (total 3 columns):\n",
      " #   Column   Non-Null Count  Dtype         \n",
      "---  ------   --------------  -----         \n",
      " 0   buy_ts   50415 non-null  datetime64[ns]\n",
      " 1   revenue  50415 non-null  float64       \n",
      " 2   uid      50415 non-null  uint64        \n",
      "dtypes: datetime64[ns](1), float64(1), uint64(1)\n",
      "memory usage: 1.2 MB\n"
     ]
    }
   ],
   "source": [
    "orders = clean_col_names(orders)\n",
    "orders.buy_ts = pd.to_datetime(orders.buy_ts)\n",
    "orders.info()"
   ]
  },
  {
   "cell_type": "markdown",
   "metadata": {},
   "source": [
    "### Examinar costs"
   ]
  },
  {
   "cell_type": "code",
   "execution_count": 14,
   "metadata": {},
   "outputs": [
    {
     "name": "stdout",
     "output_type": "stream",
     "text": [
      "<class 'pandas.core.frame.DataFrame'>\n",
      "RangeIndex: 2542 entries, 0 to 2541\n",
      "Data columns (total 3 columns):\n",
      " #   Column     Non-Null Count  Dtype  \n",
      "---  ------     --------------  -----  \n",
      " 0   source_id  2542 non-null   int64  \n",
      " 1   dt         2542 non-null   object \n",
      " 2   costs      2542 non-null   float64\n",
      "dtypes: float64(1), int64(1), object(1)\n",
      "memory usage: 59.7+ KB\n"
     ]
    }
   ],
   "source": [
    "# Examine costs\n",
    "costs.info()"
   ]
  },
  {
   "cell_type": "code",
   "execution_count": 15,
   "metadata": {},
   "outputs": [
    {
     "data": {
      "text/html": [
       "<div>\n",
       "<style scoped>\n",
       "    .dataframe tbody tr th:only-of-type {\n",
       "        vertical-align: middle;\n",
       "    }\n",
       "\n",
       "    .dataframe tbody tr th {\n",
       "        vertical-align: top;\n",
       "    }\n",
       "\n",
       "    .dataframe thead th {\n",
       "        text-align: right;\n",
       "    }\n",
       "</style>\n",
       "<table border=\"1\" class=\"dataframe\">\n",
       "  <thead>\n",
       "    <tr style=\"text-align: right;\">\n",
       "      <th></th>\n",
       "      <th>source_id</th>\n",
       "      <th>dt</th>\n",
       "      <th>costs</th>\n",
       "    </tr>\n",
       "  </thead>\n",
       "  <tbody>\n",
       "    <tr>\n",
       "      <th>1363</th>\n",
       "      <td>4</td>\n",
       "      <td>2018-03-02</td>\n",
       "      <td>40.49</td>\n",
       "    </tr>\n",
       "    <tr>\n",
       "      <th>1544</th>\n",
       "      <td>5</td>\n",
       "      <td>2017-09-01</td>\n",
       "      <td>119.64</td>\n",
       "    </tr>\n",
       "    <tr>\n",
       "      <th>1599</th>\n",
       "      <td>5</td>\n",
       "      <td>2017-10-26</td>\n",
       "      <td>158.50</td>\n",
       "    </tr>\n",
       "    <tr>\n",
       "      <th>860</th>\n",
       "      <td>3</td>\n",
       "      <td>2017-10-13</td>\n",
       "      <td>703.26</td>\n",
       "    </tr>\n",
       "    <tr>\n",
       "      <th>2297</th>\n",
       "      <td>10</td>\n",
       "      <td>2017-09-27</td>\n",
       "      <td>17.71</td>\n",
       "    </tr>\n",
       "  </tbody>\n",
       "</table>\n",
       "</div>"
      ],
      "text/plain": [
       "      source_id          dt   costs\n",
       "1363          4  2018-03-02   40.49\n",
       "1544          5  2017-09-01  119.64\n",
       "1599          5  2017-10-26  158.50\n",
       "860           3  2017-10-13  703.26\n",
       "2297         10  2017-09-27   17.71"
      ]
     },
     "execution_count": 15,
     "metadata": {},
     "output_type": "execute_result"
    }
   ],
   "source": [
    "costs.sample(5)"
   ]
  },
  {
   "cell_type": "code",
   "execution_count": 16,
   "metadata": {},
   "outputs": [
    {
     "data": {
      "text/plain": [
       "source_id\n",
       "5     364\n",
       "1     363\n",
       "2     363\n",
       "3     363\n",
       "4     363\n",
       "9     363\n",
       "10    363\n",
       "Name: count, dtype: int64"
      ]
     },
     "execution_count": 16,
     "metadata": {},
     "output_type": "execute_result"
    }
   ],
   "source": [
    "costs.source_id.value_counts()"
   ]
  },
  {
   "cell_type": "markdown",
   "metadata": {},
   "source": [
    "### Limpiar costs\n",
    "\n",
    "1. 'dt' a formato fecha"
   ]
  },
  {
   "cell_type": "code",
   "execution_count": 17,
   "metadata": {},
   "outputs": [
    {
     "name": "stdout",
     "output_type": "stream",
     "text": [
      "<class 'pandas.core.frame.DataFrame'>\n",
      "RangeIndex: 2542 entries, 0 to 2541\n",
      "Data columns (total 3 columns):\n",
      " #   Column     Non-Null Count  Dtype         \n",
      "---  ------     --------------  -----         \n",
      " 0   source_id  2542 non-null   int64         \n",
      " 1   dt         2542 non-null   datetime64[ns]\n",
      " 2   costs      2542 non-null   float64       \n",
      "dtypes: datetime64[ns](1), float64(1), int64(1)\n",
      "memory usage: 59.7 KB\n"
     ]
    }
   ],
   "source": [
    "costs.dt = pd.to_datetime(costs.dt)\n",
    "costs.info()"
   ]
  },
  {
   "cell_type": "markdown",
   "metadata": {},
   "source": [
    "## Paso 2. Haz informes y calcula métricas "
   ]
  },
  {
   "cell_type": "markdown",
   "metadata": {},
   "source": [
    "### Visitas:\n",
    "- ¿Cuántas personas lo usan cada día, semana y mes?\n",
    "- ¿Cuántas sesiones hay por día? (Un usuario puede tener más de una sesión).\n",
    "- ¿Cuál es la duración de cada sesión?\n",
    "- ¿Con qué frecuencia los usuarios regresan?\n",
    "\n",
    "\n",
    "\n",
    "\n"
   ]
  },
  {
   "cell_type": "code",
   "execution_count": 18,
   "metadata": {},
   "outputs": [
    {
     "data": {
      "text/html": [
       "<div>\n",
       "<style scoped>\n",
       "    .dataframe tbody tr th:only-of-type {\n",
       "        vertical-align: middle;\n",
       "    }\n",
       "\n",
       "    .dataframe tbody tr th {\n",
       "        vertical-align: top;\n",
       "    }\n",
       "\n",
       "    .dataframe thead th {\n",
       "        text-align: right;\n",
       "    }\n",
       "</style>\n",
       "<table border=\"1\" class=\"dataframe\">\n",
       "  <thead>\n",
       "    <tr style=\"text-align: right;\">\n",
       "      <th></th>\n",
       "      <th>device</th>\n",
       "      <th>end_ts</th>\n",
       "      <th>source_id</th>\n",
       "      <th>start_ts</th>\n",
       "      <th>uid</th>\n",
       "      <th>day</th>\n",
       "      <th>week</th>\n",
       "      <th>month</th>\n",
       "      <th>year</th>\n",
       "    </tr>\n",
       "  </thead>\n",
       "  <tbody>\n",
       "    <tr>\n",
       "      <th>264919</th>\n",
       "      <td>desktop</td>\n",
       "      <td>2017-12-15 15:31:00</td>\n",
       "      <td>4</td>\n",
       "      <td>2017-12-15 15:19:00</td>\n",
       "      <td>15320517278030087556</td>\n",
       "      <td>4</td>\n",
       "      <td>50</td>\n",
       "      <td>12</td>\n",
       "      <td>2017</td>\n",
       "    </tr>\n",
       "    <tr>\n",
       "      <th>182342</th>\n",
       "      <td>desktop</td>\n",
       "      <td>2018-03-15 18:47:00</td>\n",
       "      <td>5</td>\n",
       "      <td>2018-03-15 18:19:00</td>\n",
       "      <td>15933795970653493810</td>\n",
       "      <td>3</td>\n",
       "      <td>11</td>\n",
       "      <td>3</td>\n",
       "      <td>2018</td>\n",
       "    </tr>\n",
       "    <tr>\n",
       "      <th>269497</th>\n",
       "      <td>desktop</td>\n",
       "      <td>2018-01-21 13:05:00</td>\n",
       "      <td>5</td>\n",
       "      <td>2018-01-21 13:03:00</td>\n",
       "      <td>6627893064446800297</td>\n",
       "      <td>6</td>\n",
       "      <td>3</td>\n",
       "      <td>1</td>\n",
       "      <td>2018</td>\n",
       "    </tr>\n",
       "    <tr>\n",
       "      <th>92505</th>\n",
       "      <td>desktop</td>\n",
       "      <td>2018-03-09 21:00:00</td>\n",
       "      <td>4</td>\n",
       "      <td>2018-03-09 20:47:00</td>\n",
       "      <td>11011220864619881430</td>\n",
       "      <td>4</td>\n",
       "      <td>10</td>\n",
       "      <td>3</td>\n",
       "      <td>2018</td>\n",
       "    </tr>\n",
       "    <tr>\n",
       "      <th>275259</th>\n",
       "      <td>desktop</td>\n",
       "      <td>2018-03-26 10:30:00</td>\n",
       "      <td>1</td>\n",
       "      <td>2018-03-26 10:22:00</td>\n",
       "      <td>774976817171856731</td>\n",
       "      <td>0</td>\n",
       "      <td>13</td>\n",
       "      <td>3</td>\n",
       "      <td>2018</td>\n",
       "    </tr>\n",
       "    <tr>\n",
       "      <th>329661</th>\n",
       "      <td>desktop</td>\n",
       "      <td>2018-03-28 06:58:00</td>\n",
       "      <td>3</td>\n",
       "      <td>2018-03-28 06:49:00</td>\n",
       "      <td>4631934393540629724</td>\n",
       "      <td>2</td>\n",
       "      <td>13</td>\n",
       "      <td>3</td>\n",
       "      <td>2018</td>\n",
       "    </tr>\n",
       "    <tr>\n",
       "      <th>277438</th>\n",
       "      <td>touch</td>\n",
       "      <td>2017-08-21 12:09:00</td>\n",
       "      <td>5</td>\n",
       "      <td>2017-08-21 12:03:00</td>\n",
       "      <td>8693221690747963305</td>\n",
       "      <td>0</td>\n",
       "      <td>34</td>\n",
       "      <td>8</td>\n",
       "      <td>2017</td>\n",
       "    </tr>\n",
       "    <tr>\n",
       "      <th>162495</th>\n",
       "      <td>desktop</td>\n",
       "      <td>2017-08-17 12:26:00</td>\n",
       "      <td>9</td>\n",
       "      <td>2017-08-17 12:26:00</td>\n",
       "      <td>3333945287425016364</td>\n",
       "      <td>3</td>\n",
       "      <td>33</td>\n",
       "      <td>8</td>\n",
       "      <td>2017</td>\n",
       "    </tr>\n",
       "    <tr>\n",
       "      <th>357081</th>\n",
       "      <td>desktop</td>\n",
       "      <td>2017-11-05 14:35:00</td>\n",
       "      <td>5</td>\n",
       "      <td>2017-11-05 14:21:00</td>\n",
       "      <td>5326980333433499848</td>\n",
       "      <td>6</td>\n",
       "      <td>44</td>\n",
       "      <td>11</td>\n",
       "      <td>2017</td>\n",
       "    </tr>\n",
       "    <tr>\n",
       "      <th>356041</th>\n",
       "      <td>desktop</td>\n",
       "      <td>2018-03-07 12:32:00</td>\n",
       "      <td>3</td>\n",
       "      <td>2018-03-07 11:54:00</td>\n",
       "      <td>3961221463537920802</td>\n",
       "      <td>2</td>\n",
       "      <td>10</td>\n",
       "      <td>3</td>\n",
       "      <td>2018</td>\n",
       "    </tr>\n",
       "  </tbody>\n",
       "</table>\n",
       "</div>"
      ],
      "text/plain": [
       "         device              end_ts  source_id            start_ts  \\\n",
       "264919  desktop 2017-12-15 15:31:00          4 2017-12-15 15:19:00   \n",
       "182342  desktop 2018-03-15 18:47:00          5 2018-03-15 18:19:00   \n",
       "269497  desktop 2018-01-21 13:05:00          5 2018-01-21 13:03:00   \n",
       "92505   desktop 2018-03-09 21:00:00          4 2018-03-09 20:47:00   \n",
       "275259  desktop 2018-03-26 10:30:00          1 2018-03-26 10:22:00   \n",
       "329661  desktop 2018-03-28 06:58:00          3 2018-03-28 06:49:00   \n",
       "277438    touch 2017-08-21 12:09:00          5 2017-08-21 12:03:00   \n",
       "162495  desktop 2017-08-17 12:26:00          9 2017-08-17 12:26:00   \n",
       "357081  desktop 2017-11-05 14:35:00          5 2017-11-05 14:21:00   \n",
       "356041  desktop 2018-03-07 12:32:00          3 2018-03-07 11:54:00   \n",
       "\n",
       "                         uid  day  week  month  year  \n",
       "264919  15320517278030087556    4    50     12  2017  \n",
       "182342  15933795970653493810    3    11      3  2018  \n",
       "269497   6627893064446800297    6     3      1  2018  \n",
       "92505   11011220864619881430    4    10      3  2018  \n",
       "275259    774976817171856731    0    13      3  2018  \n",
       "329661   4631934393540629724    2    13      3  2018  \n",
       "277438   8693221690747963305    0    34      8  2017  \n",
       "162495   3333945287425016364    3    33      8  2017  \n",
       "357081   5326980333433499848    6    44     11  2017  \n",
       "356041   3961221463537920802    2    10      3  2018  "
      ]
     },
     "execution_count": 18,
     "metadata": {},
     "output_type": "execute_result"
    }
   ],
   "source": [
    "# Primero sacaremos de las fechas, el día, la semana, mes y año de la visita\n",
    "visits['day'] = visits['start_ts'].dt.weekday\n",
    "visits['week'] = visits['start_ts'].dt.isocalendar().week\n",
    "visits['month'] = visits['start_ts'].dt.month\n",
    "visits['year'] = visits['start_ts'].dt.isocalendar().year\n",
    "visits.sample(10)"
   ]
  },
  {
   "cell_type": "code",
   "execution_count": 19,
   "metadata": {},
   "outputs": [
    {
     "name": "stdout",
     "output_type": "stream",
     "text": [
      "Al día, en promedio, se tienen 910.46 visitas.\n"
     ]
    }
   ],
   "source": [
    "#Promedio de visitas por día\n",
    "\n",
    "by_days = visits.groupby(['week', 'day'])['uid'].nunique().reset_index()\n",
    "print(f'Al día, en promedio, se tienen {by_days.uid.mean():,.2f} visitas.')\n"
   ]
  },
  {
   "cell_type": "code",
   "execution_count": 20,
   "metadata": {},
   "outputs": [
    {
     "name": "stdout",
     "output_type": "stream",
     "text": [
      "Por semana, en promedio, tenemos 5,716.25 visitas\n"
     ]
    }
   ],
   "source": [
    "#Promedio de visitas por semana\n",
    "\n",
    "by_week = visits.groupby(['year', 'week'])['uid'].nunique().reset_index()\n",
    "print(f'Por semana, en promedio, tenemos {by_week.uid.mean():,.2f} visitas')"
   ]
  },
  {
   "cell_type": "code",
   "execution_count": 21,
   "metadata": {},
   "outputs": [
    {
     "name": "stdout",
     "output_type": "stream",
     "text": [
      "Por mes, en promedio, tenemos 23,228.42 visitas\n"
     ]
    }
   ],
   "source": [
    "#Promedio de visitas por semana\n",
    "\n",
    "by_month = visits.groupby(['year', 'month'])['uid'].nunique().reset_index()\n",
    "print(f'Por mes, en promedio, tenemos {by_month.uid.mean():,.2f} visitas')"
   ]
  },
  {
   "cell_type": "code",
   "execution_count": 22,
   "metadata": {},
   "outputs": [
    {
     "name": "stdout",
     "output_type": "stream",
     "text": [
      "Al día, en promedio, se tienen 990.08 sesiones.\n"
     ]
    }
   ],
   "source": [
    "#Promedio de sesiones por día\n",
    "\n",
    "sessions_per_day = visits.groupby(['week', 'day'])['uid'].count().reset_index()\n",
    "print(f'Al día, en promedio, se tienen {sessions_per_day.uid.mean():,.2f} sesiones.')"
   ]
  },
  {
   "cell_type": "code",
   "execution_count": 23,
   "metadata": {},
   "outputs": [
    {
     "name": "stdout",
     "output_type": "stream",
     "text": [
      "La media de la duración de la sesión es de 5.00 minutos.\n"
     ]
    }
   ],
   "source": [
    "# Duración de sesiones\n",
    "\n",
    "visits['session_duration'] = visits.end_ts - visits.start_ts\n",
    "visits['session_duration_secs'] = visits.session_duration.dt.total_seconds()\n",
    "avg_session_duration = visits.session_duration_secs.median()\n",
    "print(f'La media de la duración de la sesión es de {avg_session_duration/60:,.2f} minutos.')"
   ]
  },
  {
   "cell_type": "code",
   "execution_count": 24,
   "metadata": {},
   "outputs": [
    {
     "name": "stdout",
     "output_type": "stream",
     "text": [
      "La media del tiempo en que suelen regresar los usuarios es de 4.00 días.\n"
     ]
    }
   ],
   "source": [
    "# Con qué frecuencia los usuarios regresan? \n",
    "comeback_frec = visits.sort_values(by=['uid', 'start_ts'])\n",
    "visits['time_since_last_visit'] = comeback_frec.groupby(['uid'])['start_ts'].diff()\n",
    "visits['days_between_visits'] = visits.time_since_last_visit.dt.days\n",
    "ave_return_time = visits.days_between_visits.median()\n",
    "print(f'La media del tiempo en que suelen regresar los usuarios es de {ave_return_time:.2f} días.')\n"
   ]
  },
  {
   "cell_type": "markdown",
   "metadata": {},
   "source": [
    "En la duración de la sesión y en el tiempo en que suelen regresar los usuarios usamos **la media**, ya que en el promedio los valores atípicos elevaban las cantidades."
   ]
  },
  {
   "cell_type": "markdown",
   "metadata": {},
   "source": [
    "### Ventas:\n",
    "- ¿Cuándo empieza la gente a comprar? (En el análisis de KPI, generalmente nos interesa saber el tiempo que transcurre entre el registro y la conversión, es decir, cuando el usuario se convierte en cliente. Por ejemplo, si el registro y la primera compra ocurren el mismo día, el usuario podría caer en la categoría Conversion 0d. Si la primera compra ocurre al día siguiente, será Conversion 1d. Puedes usar cualquier enfoque que te permita comparar las conversiones de diferentes cohortes para que puedas determinar qué cohorte o canal de marketing es más efectivo.)\n",
    "- ¿Cuántos pedidos hacen durante un período de tiempo dado?\n",
    "- ¿Cuál es el tamaño promedio de compra?\n",
    "- ¿Cuánto dinero traen? (LTV)"
   ]
  },
  {
   "cell_type": "code",
   "execution_count": 25,
   "metadata": {},
   "outputs": [
    {
     "data": {
      "text/html": [
       "<div>\n",
       "<style scoped>\n",
       "    .dataframe tbody tr th:only-of-type {\n",
       "        vertical-align: middle;\n",
       "    }\n",
       "\n",
       "    .dataframe tbody tr th {\n",
       "        vertical-align: top;\n",
       "    }\n",
       "\n",
       "    .dataframe thead th {\n",
       "        text-align: right;\n",
       "    }\n",
       "</style>\n",
       "<table border=\"1\" class=\"dataframe\">\n",
       "  <thead>\n",
       "    <tr style=\"text-align: right;\">\n",
       "      <th></th>\n",
       "      <th>buy_ts</th>\n",
       "      <th>revenue</th>\n",
       "      <th>uid</th>\n",
       "      <th>first_buy_ts</th>\n",
       "    </tr>\n",
       "  </thead>\n",
       "  <tbody>\n",
       "    <tr>\n",
       "      <th>10672</th>\n",
       "      <td>2017-10-04 21:43:00</td>\n",
       "      <td>1.34</td>\n",
       "      <td>8483834426764801902</td>\n",
       "      <td>2017-10-04 21:43:00</td>\n",
       "    </tr>\n",
       "    <tr>\n",
       "      <th>991</th>\n",
       "      <td>2017-06-08 14:35:00</td>\n",
       "      <td>1.47</td>\n",
       "      <td>15724911357977965472</td>\n",
       "      <td>2017-06-08 12:36:00</td>\n",
       "    </tr>\n",
       "    <tr>\n",
       "      <th>17787</th>\n",
       "      <td>2017-11-16 11:04:00</td>\n",
       "      <td>11.61</td>\n",
       "      <td>15353005119064919638</td>\n",
       "      <td>2017-11-16 11:04:00</td>\n",
       "    </tr>\n",
       "    <tr>\n",
       "      <th>7087</th>\n",
       "      <td>2017-09-07 13:02:00</td>\n",
       "      <td>2.44</td>\n",
       "      <td>3022298465865324289</td>\n",
       "      <td>2017-09-07 13:02:00</td>\n",
       "    </tr>\n",
       "    <tr>\n",
       "      <th>3655</th>\n",
       "      <td>2017-07-17 13:25:00</td>\n",
       "      <td>1.83</td>\n",
       "      <td>14176717271193604114</td>\n",
       "      <td>2017-06-22 16:51:00</td>\n",
       "    </tr>\n",
       "  </tbody>\n",
       "</table>\n",
       "</div>"
      ],
      "text/plain": [
       "                   buy_ts  revenue                   uid        first_buy_ts\n",
       "10672 2017-10-04 21:43:00     1.34   8483834426764801902 2017-10-04 21:43:00\n",
       "991   2017-06-08 14:35:00     1.47  15724911357977965472 2017-06-08 12:36:00\n",
       "17787 2017-11-16 11:04:00    11.61  15353005119064919638 2017-11-16 11:04:00\n",
       "7087  2017-09-07 13:02:00     2.44   3022298465865324289 2017-09-07 13:02:00\n",
       "3655  2017-07-17 13:25:00     1.83  14176717271193604114 2017-06-22 16:51:00"
      ]
     },
     "execution_count": 25,
     "metadata": {},
     "output_type": "execute_result"
    }
   ],
   "source": [
    "# Fechas de primeras compras\n",
    "purchases = orders[orders.revenue > 0]\n",
    "first_purchase = purchases.groupby('uid')['buy_ts'].min().reset_index()\n",
    "first_purchase.columns = ['uid', 'first_buy_ts']\n",
    "orders = pd.merge(orders, first_purchase, on='uid')\n",
    "orders.sample(5)\n",
    "\n"
   ]
  },
  {
   "cell_type": "code",
   "execution_count": 26,
   "metadata": {},
   "outputs": [
    {
     "data": {
      "text/html": [
       "<div>\n",
       "<style scoped>\n",
       "    .dataframe tbody tr th:only-of-type {\n",
       "        vertical-align: middle;\n",
       "    }\n",
       "\n",
       "    .dataframe tbody tr th {\n",
       "        vertical-align: top;\n",
       "    }\n",
       "\n",
       "    .dataframe thead th {\n",
       "        text-align: right;\n",
       "    }\n",
       "</style>\n",
       "<table border=\"1\" class=\"dataframe\">\n",
       "  <thead>\n",
       "    <tr style=\"text-align: right;\">\n",
       "      <th></th>\n",
       "      <th>buy_ts</th>\n",
       "      <th>revenue</th>\n",
       "      <th>uid</th>\n",
       "      <th>first_buy_ts</th>\n",
       "      <th>registration_ts</th>\n",
       "    </tr>\n",
       "  </thead>\n",
       "  <tbody>\n",
       "    <tr>\n",
       "      <th>30165</th>\n",
       "      <td>2018-01-20 09:54:00</td>\n",
       "      <td>9.17</td>\n",
       "      <td>3450911796645934534</td>\n",
       "      <td>2018-01-20 09:54:00</td>\n",
       "      <td>2018-01-20 09:54:00</td>\n",
       "    </tr>\n",
       "    <tr>\n",
       "      <th>27355</th>\n",
       "      <td>2017-12-31 14:34:00</td>\n",
       "      <td>1.34</td>\n",
       "      <td>2228294324265431661</td>\n",
       "      <td>2017-12-31 14:34:00</td>\n",
       "      <td>2017-12-31 14:34:00</td>\n",
       "    </tr>\n",
       "    <tr>\n",
       "      <th>4880</th>\n",
       "      <td>2017-08-04 17:08:00</td>\n",
       "      <td>1.22</td>\n",
       "      <td>13888745432979765063</td>\n",
       "      <td>2017-06-05 11:39:00</td>\n",
       "      <td>2017-06-05 11:39:00</td>\n",
       "    </tr>\n",
       "    <tr>\n",
       "      <th>16311</th>\n",
       "      <td>2017-11-06 08:18:00</td>\n",
       "      <td>4.28</td>\n",
       "      <td>11751156543780332305</td>\n",
       "      <td>2017-11-06 08:18:00</td>\n",
       "      <td>2017-11-06 08:18:00</td>\n",
       "    </tr>\n",
       "    <tr>\n",
       "      <th>10241</th>\n",
       "      <td>2017-10-03 10:30:00</td>\n",
       "      <td>0.73</td>\n",
       "      <td>15313242664806867428</td>\n",
       "      <td>2017-10-03 10:30:00</td>\n",
       "      <td>2017-10-03 10:30:00</td>\n",
       "    </tr>\n",
       "  </tbody>\n",
       "</table>\n",
       "</div>"
      ],
      "text/plain": [
       "                   buy_ts  revenue                   uid        first_buy_ts  \\\n",
       "30165 2018-01-20 09:54:00     9.17   3450911796645934534 2018-01-20 09:54:00   \n",
       "27355 2017-12-31 14:34:00     1.34   2228294324265431661 2017-12-31 14:34:00   \n",
       "4880  2017-08-04 17:08:00     1.22  13888745432979765063 2017-06-05 11:39:00   \n",
       "16311 2017-11-06 08:18:00     4.28  11751156543780332305 2017-11-06 08:18:00   \n",
       "10241 2017-10-03 10:30:00     0.73  15313242664806867428 2017-10-03 10:30:00   \n",
       "\n",
       "          registration_ts  \n",
       "30165 2018-01-20 09:54:00  \n",
       "27355 2017-12-31 14:34:00  \n",
       "4880  2017-06-05 11:39:00  \n",
       "16311 2017-11-06 08:18:00  \n",
       "10241 2017-10-03 10:30:00  "
      ]
     },
     "execution_count": 26,
     "metadata": {},
     "output_type": "execute_result"
    }
   ],
   "source": [
    "# Fechas de registros\n",
    "registration = orders.groupby('uid')['buy_ts'].min().reset_index()\n",
    "registration.columns = ['uid', 'registration_ts']\n",
    "orders = pd.merge(orders, registration, on='uid')\n",
    "orders.sample(5)"
   ]
  },
  {
   "cell_type": "code",
   "execution_count": 27,
   "metadata": {},
   "outputs": [
    {
     "data": {
      "text/html": [
       "<div>\n",
       "<style scoped>\n",
       "    .dataframe tbody tr th:only-of-type {\n",
       "        vertical-align: middle;\n",
       "    }\n",
       "\n",
       "    .dataframe tbody tr th {\n",
       "        vertical-align: top;\n",
       "    }\n",
       "\n",
       "    .dataframe thead th {\n",
       "        text-align: right;\n",
       "    }\n",
       "</style>\n",
       "<table border=\"1\" class=\"dataframe\">\n",
       "  <thead>\n",
       "    <tr style=\"text-align: right;\">\n",
       "      <th></th>\n",
       "      <th>buy_ts</th>\n",
       "      <th>revenue</th>\n",
       "      <th>uid</th>\n",
       "      <th>first_buy_ts</th>\n",
       "      <th>registration_ts</th>\n",
       "      <th>days_to_purchase</th>\n",
       "    </tr>\n",
       "  </thead>\n",
       "  <tbody>\n",
       "    <tr>\n",
       "      <th>47464</th>\n",
       "      <td>2018-05-16 18:32:00</td>\n",
       "      <td>0.24</td>\n",
       "      <td>13985976893008941167</td>\n",
       "      <td>2017-09-17 21:03:00</td>\n",
       "      <td>2017-09-17 21:03:00</td>\n",
       "      <td>0</td>\n",
       "    </tr>\n",
       "    <tr>\n",
       "      <th>36156</th>\n",
       "      <td>2018-02-21 14:50:00</td>\n",
       "      <td>8.80</td>\n",
       "      <td>10343016064897450067</td>\n",
       "      <td>2017-12-07 13:58:00</td>\n",
       "      <td>2017-12-07 13:58:00</td>\n",
       "      <td>0</td>\n",
       "    </tr>\n",
       "    <tr>\n",
       "      <th>46847</th>\n",
       "      <td>2018-05-10 15:32:00</td>\n",
       "      <td>1.40</td>\n",
       "      <td>17587536129601095913</td>\n",
       "      <td>2018-05-10 12:36:00</td>\n",
       "      <td>2018-05-10 12:36:00</td>\n",
       "      <td>0</td>\n",
       "    </tr>\n",
       "    <tr>\n",
       "      <th>16785</th>\n",
       "      <td>2017-11-09 13:31:00</td>\n",
       "      <td>2.44</td>\n",
       "      <td>14525704262455462265</td>\n",
       "      <td>2017-07-31 16:42:00</td>\n",
       "      <td>2017-07-31 16:42:00</td>\n",
       "      <td>0</td>\n",
       "    </tr>\n",
       "    <tr>\n",
       "      <th>20513</th>\n",
       "      <td>2017-11-27 18:24:00</td>\n",
       "      <td>3.05</td>\n",
       "      <td>7973565592939705006</td>\n",
       "      <td>2017-11-27 18:24:00</td>\n",
       "      <td>2017-11-27 18:24:00</td>\n",
       "      <td>0</td>\n",
       "    </tr>\n",
       "  </tbody>\n",
       "</table>\n",
       "</div>"
      ],
      "text/plain": [
       "                   buy_ts  revenue                   uid        first_buy_ts  \\\n",
       "47464 2018-05-16 18:32:00     0.24  13985976893008941167 2017-09-17 21:03:00   \n",
       "36156 2018-02-21 14:50:00     8.80  10343016064897450067 2017-12-07 13:58:00   \n",
       "46847 2018-05-10 15:32:00     1.40  17587536129601095913 2018-05-10 12:36:00   \n",
       "16785 2017-11-09 13:31:00     2.44  14525704262455462265 2017-07-31 16:42:00   \n",
       "20513 2017-11-27 18:24:00     3.05   7973565592939705006 2017-11-27 18:24:00   \n",
       "\n",
       "          registration_ts  days_to_purchase  \n",
       "47464 2017-09-17 21:03:00                 0  \n",
       "36156 2017-12-07 13:58:00                 0  \n",
       "46847 2018-05-10 12:36:00                 0  \n",
       "16785 2017-07-31 16:42:00                 0  \n",
       "20513 2017-11-27 18:24:00                 0  "
      ]
     },
     "execution_count": 27,
     "metadata": {},
     "output_type": "execute_result"
    }
   ],
   "source": [
    "# Crear cohortes por días transcurridos para comprar despúes del registro\n",
    "orders['days_to_purchase'] = (orders['first_buy_ts'] - orders['registration_ts']).dt.days\n",
    "orders.sample(5)"
   ]
  },
  {
   "cell_type": "code",
   "execution_count": 28,
   "metadata": {},
   "outputs": [
    {
     "data": {
      "text/html": [
       "<div>\n",
       "<style scoped>\n",
       "    .dataframe tbody tr th:only-of-type {\n",
       "        vertical-align: middle;\n",
       "    }\n",
       "\n",
       "    .dataframe tbody tr th {\n",
       "        vertical-align: top;\n",
       "    }\n",
       "\n",
       "    .dataframe thead th {\n",
       "        text-align: right;\n",
       "    }\n",
       "</style>\n",
       "<table border=\"1\" class=\"dataframe\">\n",
       "  <thead>\n",
       "    <tr style=\"text-align: right;\">\n",
       "      <th></th>\n",
       "      <th>buy_ts</th>\n",
       "      <th>revenue</th>\n",
       "      <th>uid</th>\n",
       "      <th>first_buy_ts</th>\n",
       "      <th>registration_ts</th>\n",
       "      <th>days_to_purchase</th>\n",
       "      <th>cohort_label</th>\n",
       "    </tr>\n",
       "  </thead>\n",
       "  <tbody>\n",
       "    <tr>\n",
       "      <th>12637</th>\n",
       "      <td>2017-10-13 22:18:00</td>\n",
       "      <td>9.17</td>\n",
       "      <td>304280166509818216</td>\n",
       "      <td>2017-10-13 22:18:00</td>\n",
       "      <td>2017-10-13 22:18:00</td>\n",
       "      <td>0</td>\n",
       "      <td>0d</td>\n",
       "    </tr>\n",
       "    <tr>\n",
       "      <th>13690</th>\n",
       "      <td>2017-10-20 11:13:00</td>\n",
       "      <td>3.67</td>\n",
       "      <td>6122245434183457733</td>\n",
       "      <td>2017-10-20 11:13:00</td>\n",
       "      <td>2017-10-20 11:13:00</td>\n",
       "      <td>0</td>\n",
       "      <td>0d</td>\n",
       "    </tr>\n",
       "    <tr>\n",
       "      <th>37941</th>\n",
       "      <td>2018-03-03 13:00:00</td>\n",
       "      <td>7.00</td>\n",
       "      <td>9603173203015373254</td>\n",
       "      <td>2018-03-03 13:00:00</td>\n",
       "      <td>2018-03-03 13:00:00</td>\n",
       "      <td>0</td>\n",
       "      <td>0d</td>\n",
       "    </tr>\n",
       "    <tr>\n",
       "      <th>41402</th>\n",
       "      <td>2018-03-23 18:58:00</td>\n",
       "      <td>0.49</td>\n",
       "      <td>5475544912668909685</td>\n",
       "      <td>2018-03-23 00:04:00</td>\n",
       "      <td>2018-03-23 00:04:00</td>\n",
       "      <td>0</td>\n",
       "      <td>0d</td>\n",
       "    </tr>\n",
       "    <tr>\n",
       "      <th>7942</th>\n",
       "      <td>2017-09-16 08:07:00</td>\n",
       "      <td>9.17</td>\n",
       "      <td>2153471313064870024</td>\n",
       "      <td>2017-09-16 08:07:00</td>\n",
       "      <td>2017-09-16 08:07:00</td>\n",
       "      <td>0</td>\n",
       "      <td>0d</td>\n",
       "    </tr>\n",
       "  </tbody>\n",
       "</table>\n",
       "</div>"
      ],
      "text/plain": [
       "                   buy_ts  revenue                  uid        first_buy_ts  \\\n",
       "12637 2017-10-13 22:18:00     9.17   304280166509818216 2017-10-13 22:18:00   \n",
       "13690 2017-10-20 11:13:00     3.67  6122245434183457733 2017-10-20 11:13:00   \n",
       "37941 2018-03-03 13:00:00     7.00  9603173203015373254 2018-03-03 13:00:00   \n",
       "41402 2018-03-23 18:58:00     0.49  5475544912668909685 2018-03-23 00:04:00   \n",
       "7942  2017-09-16 08:07:00     9.17  2153471313064870024 2017-09-16 08:07:00   \n",
       "\n",
       "          registration_ts  days_to_purchase cohort_label  \n",
       "12637 2017-10-13 22:18:00                 0           0d  \n",
       "13690 2017-10-20 11:13:00                 0           0d  \n",
       "37941 2018-03-03 13:00:00                 0           0d  \n",
       "41402 2018-03-23 00:04:00                 0           0d  \n",
       "7942  2017-09-16 08:07:00                 0           0d  "
      ]
     },
     "execution_count": 28,
     "metadata": {},
     "output_type": "execute_result"
    }
   ],
   "source": [
    "orders['cohort_label'] = orders['days_to_purchase'].apply(lambda x: f'{x}d')\n",
    "orders.sample(5)"
   ]
  },
  {
   "cell_type": "code",
   "execution_count": 29,
   "metadata": {},
   "outputs": [
    {
     "data": {
      "text/plain": [
       "cohort_label\n",
       "0d      36504\n",
       "117d        1\n",
       "12d         1\n",
       "167d        1\n",
       "3d          1\n",
       "65d         1\n",
       "Name: uid, dtype: int64"
      ]
     },
     "execution_count": 29,
     "metadata": {},
     "output_type": "execute_result"
    }
   ],
   "source": [
    "by_cohorts = orders.groupby('cohort_label')['uid'].nunique()\n",
    "by_cohorts"
   ]
  },
  {
   "cell_type": "markdown",
   "metadata": {},
   "source": [
    "Practicamente el 99% de los usuarios compran el mismo día que se registraron. \n",
    "\n",
    "Probablemente no sabían de la aplicación, ni les interesaba registrarse hasta que quisieron comprar boletos para un evento al que sí querían ir."
   ]
  },
  {
   "cell_type": "markdown",
   "metadata": {},
   "source": [
    "## Marketing:\n",
    " 1. ¿Cuánto dinero se gastó?  (Total/por fuente de adquisición/a lo largo del tiempo) \n",
    " 2. ¿Cuál fue el costo de adquisición de clientes de cada una de las fuentes?\n",
    " 3. ¿Cuán rentables eran las inversiones? (ROMI)\n",
    "Traza gráficos para mostrar cómo difieren estas métricas para varios dispositivos y fuentes de anuncios y cómo cambian con el tiempo. "
   ]
  },
  {
   "cell_type": "markdown",
   "metadata": {},
   "source": []
  },
  {
   "cell_type": "code",
   "execution_count": null,
   "metadata": {},
   "outputs": [],
   "source": []
  }
 ],
 "metadata": {
  "kernelspec": {
   "display_name": "base",
   "language": "python",
   "name": "python3"
  },
  "language_info": {
   "codemirror_mode": {
    "name": "ipython",
    "version": 3
   },
   "file_extension": ".py",
   "mimetype": "text/x-python",
   "name": "python",
   "nbconvert_exporter": "python",
   "pygments_lexer": "ipython3",
   "version": "3.12.7"
  }
 },
 "nbformat": 4,
 "nbformat_minor": 2
}
